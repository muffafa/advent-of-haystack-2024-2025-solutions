{
  "cells": [
    {
      "cell_type": "markdown",
      "metadata": {
        "id": "view-in-github",
        "colab_type": "text"
      },
      "source": [
        "<a href=\"https://colab.research.google.com/github/muffafa/advent-of-haystack-2024-2025-solutions/blob/main/Question_09_Advent_of_Haystack_MongoDB_Santa_Gifts.ipynb\" target=\"_parent\"><img src=\"https://colab.research.google.com/assets/colab-badge.svg\" alt=\"Open In Colab\"/></a>"
      ]
    },
    {
      "cell_type": "markdown",
      "metadata": {
        "id": "swhzA1IoktRm"
      },
      "source": [
        "# Advent of Haystack: Day 9\n",
        "_Make a copy of this Colab to start!_\n",
        "\n",
        "In this challenge, you'll help Santa build a self-reflecting gift selection agent using Haystack and MongoDB Atlas! 🎅\n",
        "\n",
        "The agent will help optimize gift selections based on children's wishlists and budget constraints, using MongoDB Atlas vector search for semantic matching and implementing self-reflection to ensure the best possible gift combinations.\n",
        "\n",
        "**Components to use in this challenge:**\n",
        "- [`OpenAITextEmbedder`](https://docs.haystack.deepset.ai/docs/openaitextembedder) for  query embedding\n",
        "- [`MongoDBAtlasEmbeddingRetriever`](https://docs.haystack.deepset.ai/docs/) for finding relevant gifts\n",
        "- [`PromptBuilder`](https://docs.haystack.deepset.ai/docs/promptbuilder) for creating the prompt\n",
        "- [`OpenAIGenerator`](https://docs.haystack.deepset.ai/docs/openaigenerator) for  generating responses\n",
        "- Custom `GiftChecker` component for self-reflection"
      ]
    },
    {
      "cell_type": "markdown",
      "metadata": {
        "id": "E3SnvPuuktRn"
      },
      "source": [
        "## Setup\n",
        "\n",
        "First, let's install the required packages:"
      ]
    },
    {
      "cell_type": "code",
      "execution_count": null,
      "metadata": {
        "id": "In2JqtvRktRn"
      },
      "outputs": [],
      "source": [
        "!pip install haystack-ai mongodb-atlas-haystack tiktoken datasets colorama -q --upgrade openai"
      ]
    },
    {
      "cell_type": "markdown",
      "metadata": {
        "id": "9pMEufijktRn"
      },
      "source": [
        "## Configure Environment\n",
        "\n",
        "- [OpenAI API Key](https://platform.openai.com/api-keys) if you'd like to use OpenAI embedding and text generation models\n",
        "- [MongoDB Atlas project](https://www.mongodb.com/docs/atlas/getting-started/) with an Atlas cluster (free tier works). [Detailed Tutorial](https://www.mongodb.com/docs/guides/atlas/cluster/#create-a-cluster)\n",
        "- Get your [connection string](https://www.mongodb.com/docs/atlas/tutorial/connect-to-your-cluster/#connect-to-your-atlas-cluster) and have `0.0.0.0/0` address in your network access list.\n",
        "- Connection string looks like this `mongodb+srv://<db_username>:<db_password>@<clustername>.xxxxx.mongodb.net/?retryWrites=true...`\n",
        "\n",
        "Set up your MongoDB Atlas and OpenAI credentials:"
      ]
    },
    {
      "cell_type": "code",
      "execution_count": null,
      "metadata": {
        "id": "DwLsZ6sYktRn"
      },
      "outputs": [],
      "source": [
        "import os\n",
        "import getpass\n",
        "import re\n",
        "\n",
        "conn_str = getpass.getpass(\"Enter your MongoDB connection string:\")\n",
        "conn_str = (re.sub(r'appName=[^\\s]*', 'appName=devrel.ai.haystack_partner', conn_str)\n",
        "            if 'appName=' in conn_str\n",
        "            else conn_str + ('&' if '?' in conn_str else '?') + 'appName=devrel.ai.haystack_partner')\n",
        "os.environ['MONGO_CONNECTION_STRING']=conn_str\n",
        "os.environ['OPENAI_API_KEY'] = getpass.getpass(\"Enter your OpenAI API Key:\")"
      ]
    },
    {
      "cell_type": "markdown",
      "metadata": {
        "id": "WywsNEr7ktRn"
      },
      "source": [
        "## Sample Gift Dataset\n",
        "\n",
        "Here's a starter dataset of gifts. Feel free to expand it with more options!"
      ]
    },
    {
      "cell_type": "code",
      "execution_count": null,
      "metadata": {
        "id": "8a-gkYEAktRo"
      },
      "outputs": [],
      "source": [
        "dataset = {\n",
        "    \"train\": [\n",
        "    {\n",
        "        \"title\": \"LEGO Star Wars Set\",\n",
        "        \"price\": \"$49.99\",\n",
        "        \"description\": \"Build your own galaxy with this exciting LEGO Star Wars set\",\n",
        "        \"category\": \"Toys\",\n",
        "        \"age_range\": \"7-12\"\n",
        "    },\n",
        "    {\n",
        "        \"title\": \"Remote Control Car\",\n",
        "        \"price\": \"$29.99\",\n",
        "        \"description\": \"Fast and fun RC car with full directional control\",\n",
        "        \"category\": \"Toys\",\n",
        "        \"age_range\": \"6-10\"\n",
        "    },\n",
        "    {\n",
        "        \"title\": \"Art Set\",\n",
        "        \"price\": \"$24.99\",\n",
        "        \"description\": \"Complete art set with paints, brushes, and canvas\",\n",
        "        \"category\": \"Arts & Crafts\",\n",
        "        \"age_range\": \"5-15\"\n",
        "    },\n",
        "    {\n",
        "        \"title\": \"Science Kit\",\n",
        "        \"price\": \"$34.99\",\n",
        "        \"description\": \"Educational science experiments kit\",\n",
        "        \"category\": \"Educational\",\n",
        "        \"age_range\": \"8-14\"\n",
        "    },\n",
        "    {\n",
        "        \"title\": \"Dollhouse\",\n",
        "        \"price\": \"$89.99\",\n",
        "        \"description\": \"Beautiful wooden dollhouse with furniture\",\n",
        "        \"category\": \"Toys\",\n",
        "        \"age_range\": \"4-10\"\n",
        "    },\n",
        "    {\n",
        "        \"title\": \"Building Blocks Set\",\n",
        "        \"price\": \"$39.99\",\n",
        "        \"description\": \"Classic wooden building blocks in various shapes and colors\",\n",
        "        \"category\": \"Educational\",\n",
        "        \"age_range\": \"3-8\"\n",
        "    },\n",
        "    {\n",
        "        \"title\": \"Board Game Collection\",\n",
        "        \"price\": \"$44.99\",\n",
        "        \"description\": \"Set of 5 classic family board games\",\n",
        "        \"category\": \"Games\",\n",
        "        \"age_range\": \"6-99\"\n",
        "    },\n",
        "    {\n",
        "        \"title\": \"Puppet Theater\",\n",
        "        \"price\": \"$59.99\",\n",
        "        \"description\": \"Wooden puppet theater with 6 hand puppets\",\n",
        "        \"category\": \"Creative Play\",\n",
        "        \"age_range\": \"4-12\"\n",
        "    },\n",
        "    {\n",
        "        \"title\": \"Robot Building Kit\",\n",
        "        \"price\": \"$69.99\",\n",
        "        \"description\": \"Build and program your own robot with this STEM kit\",\n",
        "        \"category\": \"Educational\",\n",
        "        \"age_range\": \"10-16\"\n",
        "    },\n",
        "    {\n",
        "        \"title\": \"Play Kitchen\",\n",
        "        \"price\": \"$79.99\",\n",
        "        \"description\": \"Realistic play kitchen with sounds and accessories\",\n",
        "        \"category\": \"Pretend Play\",\n",
        "        \"age_range\": \"3-8\"\n",
        "    },\n",
        "    {\n",
        "        \"title\": \"Musical Instrument Set\",\n",
        "        \"price\": \"$45.99\",\n",
        "        \"description\": \"Collection of kid-friendly musical instruments\",\n",
        "        \"category\": \"Music\",\n",
        "        \"age_range\": \"3-10\"\n",
        "    },\n",
        "    {\n",
        "        \"title\": \"Sports Equipment Pack\",\n",
        "        \"price\": \"$54.99\",\n",
        "        \"description\": \"Complete set of kids' sports gear including ball, bat, and net\",\n",
        "        \"category\": \"Sports\",\n",
        "        \"age_range\": \"6-12\"\n",
        "    },\n",
        "    {\n",
        "        \"title\": \"Magic Tricks Kit\",\n",
        "        \"price\": \"$29.99\",\n",
        "        \"description\": \"Professional magic set with instruction manual\",\n",
        "        \"category\": \"Entertainment\",\n",
        "        \"age_range\": \"8-15\"\n",
        "    },\n",
        "    {\n",
        "        \"title\": \"Dinosaur Collection\",\n",
        "        \"price\": \"$39.99\",\n",
        "        \"description\": \"Set of 12 detailed dinosaur figures with fact cards\",\n",
        "        \"category\": \"Educational\",\n",
        "        \"age_range\": \"4-12\"\n",
        "    },\n",
        "    {\n",
        "        \"title\": \"Craft Supply Bundle\",\n",
        "        \"price\": \"$49.99\",\n",
        "        \"description\": \"Comprehensive craft supplies including beads, yarn, and tools\",\n",
        "        \"category\": \"Arts & Crafts\",\n",
        "        \"age_range\": \"6-16\"\n",
        "    },\n",
        "    {\n",
        "        \"title\": \"Coding for Kids Set\",\n",
        "        \"price\": \"$64.99\",\n",
        "        \"description\": \"Interactive coding kit with programmable robot and game cards\",\n",
        "        \"category\": \"STEM\",\n",
        "        \"age_range\": \"8-14\"\n",
        "    },\n",
        "    {\n",
        "        \"title\": \"Dress Up Trunk\",\n",
        "        \"price\": \"$49.99\",\n",
        "        \"description\": \"Collection of costumes and accessories for imaginative play\",\n",
        "        \"category\": \"Pretend Play\",\n",
        "        \"age_range\": \"3-10\"\n",
        "    },\n",
        "    {\n",
        "        \"title\": \"Microscope Kit\",\n",
        "        \"price\": \"$59.99\",\n",
        "        \"description\": \"Real working microscope with prepared slides and tools\",\n",
        "        \"category\": \"Science\",\n",
        "        \"age_range\": \"10-15\"\n",
        "    },\n",
        "    {\n",
        "        \"title\": \"Outdoor Explorer Kit\",\n",
        "        \"price\": \"$34.99\",\n",
        "        \"description\": \"Nature exploration set with binoculars, compass, and field guide\",\n",
        "        \"category\": \"Outdoor\",\n",
        "        \"age_range\": \"7-12\"\n",
        "    },\n",
        "    {\n",
        "        \"title\": \"Art Pottery Studio\",\n",
        "        \"price\": \"$69.99\",\n",
        "        \"description\": \"Complete pottery wheel set with clay and glazing materials\",\n",
        "        \"category\": \"Arts & Crafts\",\n",
        "        \"age_range\": \"8-16\"\n",
        "    }\n",
        "]\n",
        "}"
      ]
    },
    {
      "cell_type": "markdown",
      "metadata": {
        "id": "tppijs6mktRo"
      },
      "source": [
        "## Initialize MongoDB Atlas\n",
        "\n",
        "First, we need to set up our MongoDB Atlas collection and create a vector search index. This step is crucial for enabling semantic search capabilities:"
      ]
    },
    {
      "cell_type": "code",
      "execution_count": null,
      "metadata": {
        "id": "K_t5ZfOFktRo"
      },
      "outputs": [],
      "source": [
        " # Create collection gifts and add the vector index\n",
        "\n",
        "\n",
        "from pymongo import MongoClient\n",
        "from bson import json_util\n",
        "from pymongo.operations import SearchIndexModel\n",
        "import json\n",
        "import time\n",
        "\n",
        "client = MongoClient(os.environ['MONGO_CONNECTION_STRING'])\n",
        "db = client['santa_workshop']\n",
        "collection = db['gifts']\n",
        "\n",
        "db.create_collection(\"gifts\")\n",
        "\n",
        "\n",
        "## create index\n",
        "search_index_model = SearchIndexModel(\n",
        "  definition={\n",
        "    \"fields\": [\n",
        "      {\n",
        "        \"type\": \"vector\",\n",
        "        \"numDimensions\": 1536,\n",
        "        \"path\": \"embedding\",\n",
        "        \"similarity\": \"cosine\"\n",
        "      },\n",
        "    ]\n",
        "  },\n",
        "  name=\"vector_index\",\n",
        "  type=\"vectorSearch\",\n",
        ")\n",
        "result = collection.create_search_index(model=search_index_model)\n",
        "print(\"New search index named \" + result + \" is building.\")\n",
        "# Wait for initial sync to complete\n",
        "print(\"Polling to check if the index is ready. This may take up to a minute.\")\n",
        "predicate=None\n",
        "if predicate is None:\n",
        "  predicate = lambda index: index.get(\"queryable\") is True\n",
        "while True:\n",
        "  indices = list(collection.list_search_indexes(result))\n",
        "  if len(indices) and predicate(indices[0]):\n",
        "    break\n",
        "  time.sleep(5)\n",
        "print(result + \" is ready for querying.\")\n",
        "client.close()"
      ]
    },
    {
      "cell_type": "markdown",
      "metadata": {
        "id": "0_EHV6mXktRo"
      },
      "source": [
        "## Initialize Document Store and Index Documents\n",
        "\n",
        "Now let's set up the [MongoDBAtlasDocumentStore](https://docs.haystack.deepset.ai/docs/mongodbatlasdocumentstore) and index our gift data:"
      ]
    },
    {
      "cell_type": "code",
      "execution_count": null,
      "metadata": {
        "id": "fZucdRq9ktRo"
      },
      "outputs": [],
      "source": [
        "from haystack import Pipeline, Document\n",
        "from haystack.document_stores.types import DuplicatePolicy\n",
        "from haystack.components.writers import DocumentWriter\n",
        "from haystack.components.embedders import OpenAIDocumentEmbedder\n",
        "from haystack_integrations.document_stores.mongodb_atlas import MongoDBAtlasDocumentStore\n",
        "from bson import json_util\n",
        "\n",
        "# Initialize document store\n",
        "document_store = MongoDBAtlasDocumentStore(\n",
        "    database_name=\"santa_workshop\",\n",
        "    collection_name=\"gifts\",\n",
        "    vector_search_index=\"vector_index\"\n",
        ")\n",
        "\n",
        "# Convert dataset to Haystack documents\n",
        "insert_data = [\n",
        "    Document(content=gift['title'], meta=json_util.loads(json_util.dumps(gift)))\n",
        "    for gift in dataset['train']\n",
        "]\n",
        "\n",
        "# Create and run indexing pipeline\n",
        "doc_writer = DocumentWriter(document_store=document_store, policy=DuplicatePolicy.SKIP)\n",
        "doc_embedder = OpenAIDocumentEmbedder(\n",
        "    model=\"text-embedding-3-small\",\n",
        "    meta_fields_to_embed=[\"description\"]  # Include description in embeddings\n",
        ")\n",
        "\n",
        "indexing_pipe = Pipeline()\n",
        "indexing_pipe.add_component(instance=doc_embedder, name=\"doc_embedder\")\n",
        "indexing_pipe.add_component(instance=doc_writer, name=\"doc_writer\")\n",
        "indexing_pipe.connect(\"doc_embedder.documents\", \"doc_writer.documents\")\n",
        "\n",
        "indexing_pipe.run({\"doc_embedder\": {\"documents\": insert_data}})"
      ]
    },
    {
      "cell_type": "markdown",
      "metadata": {
        "id": "Eq_XKtbrktRo"
      },
      "source": [
        "## TODO: Create Gift Selection Pipeline\n",
        "\n",
        "Now comes the fun part! Create a pipeline that can:\n",
        "1. Take a gift request query\n",
        "2. Find relevant gifts using vector search\n",
        "3. Self-reflect on selections to optimize for budget and preferences\n",
        "\n",
        "**HINT:** Learn how to write your component in [Docs: Creating Custom Components](https://docs.haystack.deepset.ai/docs/custom-components)\n",
        "\n",
        "Here's the basic structure to get you started:"
      ]
    },
    {
      "cell_type": "code",
      "execution_count": null,
      "metadata": {
        "id": "jDFlTSwKktRp"
      },
      "outputs": [],
      "source": [
        "from haystack.components.generators import OpenAIGenerator\n",
        "from haystack.components.builders.prompt_builder import PromptBuilder\n",
        "from haystack_integrations.components.retrievers.mongodb_atlas import MongoDBAtlasEmbeddingRetriever\n",
        "from haystack.components.embedders import OpenAITextEmbedder\n",
        "from colorama import Fore\n",
        "from typing import List\n",
        "from haystack import component\n",
        "\n",
        "# TODO: Create a GiftChecker component for self-reflection\n",
        "@component\n",
        "class GiftChecker:\n",
        "    @component.output_types(gifts_to_check=str, gifts=str)\n",
        "    def run(self, replies: List[str]):\n",
        "        # Your code here!\n",
        "        # Hint: Check if the selection is optimal ('DONE') or needs improvement\n",
        "        pass\n",
        "\n",
        "# TODO: Create your prompt template\n",
        "prompt_template = \"\"\"\n",
        "    You are Santa's gift selection assistant. Below you have a list of available gifts with their prices.\n",
        "    Based on the child's wishlist and budget, suggest appropriate gifts that maximize joy while staying within budget.\n",
        "\n",
        "    Available Gifts:\n",
        "    {% for doc in documents %}\n",
        "        Gift: {{ doc.content }}\n",
        "        Price: {{ doc.meta['price']}}\n",
        "        Age Range: {{ doc.meta['age_range']}}\n",
        "    {% endfor %}\n",
        "\n",
        "    Query: {{query}}\n",
        "    {% if gifts_to_check %}\n",
        "        Previous gift selection: {{gifts_to_check[0]}}\n",
        "        Can we optimize this selection for better value within budget?\n",
        "        If optimal, say 'DONE' and return the selection\n",
        "        If not, suggest a better combination\n",
        "    {% endif %}\n",
        "\n",
        "    Gift Selection:\n",
        "\"\"\"\n",
        "\n",
        "# TODO: Create and connect your pipeline components\n",
        "gift_pipeline = Pipeline(max_runs_per_component=5)\n",
        "\n",
        "# Add your components here!\n",
        "# Hint: You'll need:\n",
        "# - OpenAITextEmbedder for query embedding\n",
        "# - MongoDBAtlasEmbeddingRetriever for finding relevant gifts\n",
        "# - PromptBuilder for creating the prompt\n",
        "# - GiftChecker for self-reflection\n",
        "# - OpenAIGenerator for generating responses\n",
        "\n",
        "# Connect your components here!\n",
        "# Hint: Think about the flow of data between components"
      ]
    },
    {
      "cell_type": "markdown",
      "metadata": {
        "id": "1A88pdBektRp"
      },
      "source": [
        "## Test Your Agent\n",
        "\n",
        "Once you've built your pipeline, test it with different scenarios:"
      ]
    },
    {
      "cell_type": "code",
      "execution_count": null,
      "metadata": {
        "id": "HDi_B-TvktRp"
      },
      "outputs": [],
      "source": [
        "# Test queries to try:\n",
        "queries = [\n",
        "    \"Find gifts for a 9-year-old who loves science and building things. Budget: $100\",\n",
        "    \"Need gifts for a creative 6-year-old interested in art. Budget: $50\",\n",
        "    \"Looking for educational toys for a 12-year-old. Budget: $75\"\n",
        "]\n",
        "\n",
        "# TODO: Try your pipeline with a query\n",
        "query = queries[0]  # Choose a query to test\n",
        "\n",
        "# Run the pipeline and print the results\n",
        "gift_pipeline.run(....)\n"
      ]
    },
    {
      "cell_type": "markdown",
      "metadata": {
        "id": "i1JKAT_sktRp"
      },
      "source": [
        "## Next Steps (Bonus)\n",
        "\n",
        "Once you have the basic pipeline working, try these extensions:\n",
        "1. Add sentiment analysis to evaluate gift joy potential\n",
        "2. Implement gift bundle optimization\n",
        "3. Add previous gift tracking to ensure variety\n",
        "4. Enhance the prompt to consider seasonal availability\n",
        "5. Add gift wrapping suggestions based on the selected gifts\n",
        "\n",
        "Good luck! 🎄✨"
      ]
    },
    {
      "cell_type": "code",
      "source": [],
      "metadata": {
        "id": "wtrfRscdfyIW"
      },
      "execution_count": null,
      "outputs": []
    }
  ],
  "metadata": {
    "language_info": {
      "name": "python"
    },
    "colab": {
      "provenance": [],
      "include_colab_link": true
    }
  },
  "nbformat": 4,
  "nbformat_minor": 0
}