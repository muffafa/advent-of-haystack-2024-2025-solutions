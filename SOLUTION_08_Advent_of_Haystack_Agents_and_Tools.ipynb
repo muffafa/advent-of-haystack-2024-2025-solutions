{
  "cells": [
    {
      "cell_type": "markdown",
      "metadata": {
        "id": "view-in-github",
        "colab_type": "text"
      },
      "source": [
        "<a href=\"https://colab.research.google.com/github/muffafa/advent-of-haystack-2024-2025-solutions/blob/main/SOLUTION_08_Advent_of_Haystack_Agents_and_Tools.ipynb\" target=\"_parent\"><img src=\"https://colab.research.google.com/assets/colab-badge.svg\" alt=\"Open In Colab\"/></a>"
      ]
    },
    {
      "cell_type": "markdown",
      "metadata": {
        "id": "JN0leM93chKG"
      },
      "source": [
        "# Advent of Haystack: Day 8\n",
        "_Make a copy of this Colab to start!_\n",
        "\n",
        "In this challenge, we will create an Agent for Santa's backoffice: a powerful assistant capable of answering questions about the gift inventory, tracking items taken for delivery, and purchasing new ones.\n",
        "\n",
        "We will use several Haystack components, focusing primarily on the new experimental **🛠️ Tool support** (which will soon be merged into the main repository).\n",
        "It's not completely documented yet, but you can find the most important information in this [GitHub discussion](https://github.com/deepset-ai/haystack-experimental/discussions/98).\n",
        "\n",
        "**Some Useful Components**\n",
        "* [DuckduckgoApiWebSearch](https://haystack.deepset.ai/integrations/duckduckgo-api-websearch) or another [WebSearch](https://docs.haystack.deepset.ai/docs/websearch) component\n",
        "* [PromptBuilder](https://docs.haystack.deepset.ai/docs/promptbuilder)\n",
        "* [OpenAIGenerator](https://docs.haystack.deepset.ai/docs/openaigenerator) or any other `Generator`\n",
        "* 🧪 [OpenAIChatGenerator](https://github.com/deepset-ai/haystack-experimental/blob/813157dd75cc95275c51d90bc6cfb7382d88ccc2/haystack_experimental/components/generators/chat/openai.py#L88)\n",
        "* 🧪 [ToolInvoker](https://docs.haystack.deepset.ai/reference/experimental-tools-api#toolinvoker)"
      ]
    },
    {
      "cell_type": "markdown",
      "metadata": {
        "id": "AXQ6jIJmeo8X"
      },
      "source": [
        "## 1) Installation"
      ]
    },
    {
      "cell_type": "code",
      "execution_count": null,
      "metadata": {
        "colab": {
          "base_uri": "https://localhost:8080/"
        },
        "id": "EzNLQp9gbzBA",
        "outputId": "4b7cba69-4307-456c-918c-13554f6c1611"
      },
      "outputs": [
        {
          "output_type": "stream",
          "name": "stdout",
          "text": [
            "Requirement already satisfied: openai in /usr/local/lib/python3.10/dist-packages (1.57.4)\n",
            "Collecting openai\n",
            "  Downloading openai-1.58.1-py3-none-any.whl.metadata (27 kB)\n",
            "Collecting haystack-ai\n",
            "  Downloading haystack_ai-2.8.0-py3-none-any.whl.metadata (13 kB)\n",
            "Collecting duckduckgo-api-haystack\n",
            "  Downloading duckduckgo_api_haystack-0.1.13-py3-none-any.whl.metadata (3.8 kB)\n",
            "Requirement already satisfied: anyio<5,>=3.5.0 in /usr/local/lib/python3.10/dist-packages (from openai) (3.7.1)\n",
            "Requirement already satisfied: distro<2,>=1.7.0 in /usr/local/lib/python3.10/dist-packages (from openai) (1.9.0)\n",
            "Requirement already satisfied: httpx<1,>=0.23.0 in /usr/local/lib/python3.10/dist-packages (from openai) (0.28.1)\n",
            "Requirement already satisfied: jiter<1,>=0.4.0 in /usr/local/lib/python3.10/dist-packages (from openai) (0.8.2)\n",
            "Requirement already satisfied: pydantic<3,>=1.9.0 in /usr/local/lib/python3.10/dist-packages (from openai) (2.10.3)\n",
            "Requirement already satisfied: sniffio in /usr/local/lib/python3.10/dist-packages (from openai) (1.3.1)\n",
            "Requirement already satisfied: tqdm>4 in /usr/local/lib/python3.10/dist-packages (from openai) (4.67.1)\n",
            "Requirement already satisfied: typing-extensions<5,>=4.11 in /usr/local/lib/python3.10/dist-packages (from openai) (4.12.2)\n",
            "Collecting haystack-experimental (from haystack-ai)\n",
            "  Downloading haystack_experimental-0.4.0-py3-none-any.whl.metadata (16 kB)\n",
            "Requirement already satisfied: jinja2 in /usr/local/lib/python3.10/dist-packages (from haystack-ai) (3.1.4)\n",
            "Collecting lazy-imports (from haystack-ai)\n",
            "  Downloading lazy_imports-0.4.0-py3-none-any.whl.metadata (10 kB)\n",
            "Requirement already satisfied: more-itertools in /usr/local/lib/python3.10/dist-packages (from haystack-ai) (10.5.0)\n",
            "Requirement already satisfied: networkx in /usr/local/lib/python3.10/dist-packages (from haystack-ai) (3.4.2)\n",
            "Requirement already satisfied: numpy in /usr/local/lib/python3.10/dist-packages (from haystack-ai) (1.26.4)\n",
            "Requirement already satisfied: pandas in /usr/local/lib/python3.10/dist-packages (from haystack-ai) (2.2.2)\n",
            "Collecting posthog (from haystack-ai)\n",
            "  Downloading posthog-3.7.4-py2.py3-none-any.whl.metadata (2.0 kB)\n",
            "Requirement already satisfied: python-dateutil in /usr/local/lib/python3.10/dist-packages (from haystack-ai) (2.8.2)\n",
            "Requirement already satisfied: pyyaml in /usr/local/lib/python3.10/dist-packages (from haystack-ai) (6.0.2)\n",
            "Requirement already satisfied: requests in /usr/local/lib/python3.10/dist-packages (from haystack-ai) (2.32.3)\n",
            "Requirement already satisfied: tenacity!=8.4.0 in /usr/local/lib/python3.10/dist-packages (from haystack-ai) (9.0.0)\n",
            "Collecting duckduckgo-search (from duckduckgo-api-haystack)\n",
            "  Downloading duckduckgo_search-7.1.0-py3-none-any.whl.metadata (17 kB)\n",
            "Requirement already satisfied: idna>=2.8 in /usr/local/lib/python3.10/dist-packages (from anyio<5,>=3.5.0->openai) (3.10)\n",
            "Requirement already satisfied: exceptiongroup in /usr/local/lib/python3.10/dist-packages (from anyio<5,>=3.5.0->openai) (1.2.2)\n",
            "Requirement already satisfied: certifi in /usr/local/lib/python3.10/dist-packages (from httpx<1,>=0.23.0->openai) (2024.12.14)\n",
            "Requirement already satisfied: httpcore==1.* in /usr/local/lib/python3.10/dist-packages (from httpx<1,>=0.23.0->openai) (1.0.7)\n",
            "Requirement already satisfied: h11<0.15,>=0.13 in /usr/local/lib/python3.10/dist-packages (from httpcore==1.*->httpx<1,>=0.23.0->openai) (0.14.0)\n",
            "Requirement already satisfied: annotated-types>=0.6.0 in /usr/local/lib/python3.10/dist-packages (from pydantic<3,>=1.9.0->openai) (0.7.0)\n",
            "Requirement already satisfied: pydantic-core==2.27.1 in /usr/local/lib/python3.10/dist-packages (from pydantic<3,>=1.9.0->openai) (2.27.1)\n",
            "Requirement already satisfied: click>=8.1.7 in /usr/local/lib/python3.10/dist-packages (from duckduckgo-search->duckduckgo-api-haystack) (8.1.7)\n",
            "Collecting primp>=0.9.2 (from duckduckgo-search->duckduckgo-api-haystack)\n",
            "  Downloading primp-0.9.2-cp38-abi3-manylinux_2_17_x86_64.manylinux2014_x86_64.whl.metadata (12 kB)\n",
            "Requirement already satisfied: lxml>=5.3.0 in /usr/local/lib/python3.10/dist-packages (from duckduckgo-search->duckduckgo-api-haystack) (5.3.0)\n",
            "Requirement already satisfied: MarkupSafe>=2.0 in /usr/local/lib/python3.10/dist-packages (from jinja2->haystack-ai) (3.0.2)\n",
            "Requirement already satisfied: pytz>=2020.1 in /usr/local/lib/python3.10/dist-packages (from pandas->haystack-ai) (2024.2)\n",
            "Requirement already satisfied: tzdata>=2022.7 in /usr/local/lib/python3.10/dist-packages (from pandas->haystack-ai) (2024.2)\n",
            "Requirement already satisfied: six>=1.5 in /usr/local/lib/python3.10/dist-packages (from python-dateutil->haystack-ai) (1.17.0)\n",
            "Collecting monotonic>=1.5 (from posthog->haystack-ai)\n",
            "  Downloading monotonic-1.6-py2.py3-none-any.whl.metadata (1.5 kB)\n",
            "Collecting backoff>=1.10.0 (from posthog->haystack-ai)\n",
            "  Downloading backoff-2.2.1-py3-none-any.whl.metadata (14 kB)\n",
            "Requirement already satisfied: charset-normalizer<4,>=2 in /usr/local/lib/python3.10/dist-packages (from requests->haystack-ai) (3.4.0)\n",
            "Requirement already satisfied: urllib3<3,>=1.21.1 in /usr/local/lib/python3.10/dist-packages (from requests->haystack-ai) (2.2.3)\n",
            "Downloading openai-1.58.1-py3-none-any.whl (454 kB)\n",
            "\u001b[2K   \u001b[90m━━━━━━━━━━━━━━━━━━━━━━━━━━━━━━━━━━━━━━━━\u001b[0m \u001b[32m454.3/454.3 kB\u001b[0m \u001b[31m11.2 MB/s\u001b[0m eta \u001b[36m0:00:00\u001b[0m\n",
            "\u001b[?25hDownloading haystack_ai-2.8.0-py3-none-any.whl (391 kB)\n",
            "\u001b[2K   \u001b[90m━━━━━━━━━━━━━━━━━━━━━━━━━━━━━━━━━━━━━━━━\u001b[0m \u001b[32m391.4/391.4 kB\u001b[0m \u001b[31m19.1 MB/s\u001b[0m eta \u001b[36m0:00:00\u001b[0m\n",
            "\u001b[?25hDownloading duckduckgo_api_haystack-0.1.13-py3-none-any.whl (9.7 kB)\n",
            "Downloading duckduckgo_search-7.1.0-py3-none-any.whl (20 kB)\n",
            "Downloading haystack_experimental-0.4.0-py3-none-any.whl (109 kB)\n",
            "\u001b[2K   \u001b[90m━━━━━━━━━━━━━━━━━━━━━━━━━━━━━━━━━━━━━━━━\u001b[0m \u001b[32m109.8/109.8 kB\u001b[0m \u001b[31m6.2 MB/s\u001b[0m eta \u001b[36m0:00:00\u001b[0m\n",
            "\u001b[?25hDownloading lazy_imports-0.4.0-py3-none-any.whl (12 kB)\n",
            "Downloading posthog-3.7.4-py2.py3-none-any.whl (54 kB)\n",
            "\u001b[2K   \u001b[90m━━━━━━━━━━━━━━━━━━━━━━━━━━━━━━━━━━━━━━━━\u001b[0m \u001b[32m54.8/54.8 kB\u001b[0m \u001b[31m2.6 MB/s\u001b[0m eta \u001b[36m0:00:00\u001b[0m\n",
            "\u001b[?25hDownloading backoff-2.2.1-py3-none-any.whl (15 kB)\n",
            "Downloading monotonic-1.6-py2.py3-none-any.whl (8.2 kB)\n",
            "Downloading primp-0.9.2-cp38-abi3-manylinux_2_17_x86_64.manylinux2014_x86_64.whl (3.2 MB)\n",
            "\u001b[2K   \u001b[90m━━━━━━━━━━━━━━━━━━━━━━━━━━━━━━━━━━━━━━━━\u001b[0m \u001b[32m3.2/3.2 MB\u001b[0m \u001b[31m51.6 MB/s\u001b[0m eta \u001b[36m0:00:00\u001b[0m\n",
            "\u001b[?25hInstalling collected packages: monotonic, primp, lazy-imports, backoff, posthog, duckduckgo-search, openai, haystack-experimental, haystack-ai, duckduckgo-api-haystack\n",
            "  Attempting uninstall: openai\n",
            "    Found existing installation: openai 1.57.4\n",
            "    Uninstalling openai-1.57.4:\n",
            "      Successfully uninstalled openai-1.57.4\n",
            "Successfully installed backoff-2.2.1 duckduckgo-api-haystack-0.1.13 duckduckgo-search-7.1.0 haystack-ai-2.8.0 haystack-experimental-0.4.0 lazy-imports-0.4.0 monotonic-1.6 openai-1.58.1 posthog-3.7.4 primp-0.9.2\n"
          ]
        }
      ],
      "source": [
        "! pip install -U openai haystack-ai duckduckgo-api-haystack"
      ]
    },
    {
      "cell_type": "markdown",
      "metadata": {
        "id": "GNkH92d4e5F1"
      },
      "source": [
        "## 2) Enter your API key\n",
        "\n",
        "Enter your OpenAI API key to use the `OpenAIGenerator` and `OpenAIChatGenerator`. Alternatively, you can explore and use other [Generators](https://docs.haystack.deepset.ai/docs/generators) with different models and providers."
      ]
    },
    {
      "cell_type": "code",
      "execution_count": null,
      "metadata": {
        "colab": {
          "base_uri": "https://localhost:8080/"
        },
        "id": "QkHjTtt5e-tK",
        "outputId": "75add9dd-873d-40b5-c849-d4638cc016de"
      },
      "outputs": [
        {
          "name": "stdout",
          "output_type": "stream",
          "text": [
            "Enter OpenAI API key:··········\n"
          ]
        }
      ],
      "source": [
        "from getpass import getpass\n",
        "import os\n",
        "\n",
        "os.environ[\"OPENAI_API_KEY\"] = getpass(\"Enter OpenAI API key:\")"
      ]
    },
    {
      "cell_type": "markdown",
      "metadata": {
        "id": "AtA5-wyee8sr"
      },
      "source": [
        "### (Optional) Setup the `LoggingTracer`\n",
        "\n",
        "We recently introduced [Real-Time Pipeline Logging](https://docs.haystack.deepset.ai/docs/logging#real-time-pipeline-logging), that allows to easily inspect the data that's flowing through your pipelines. Particularly helpful during experimentation with complex pipelines."
      ]
    },
    {
      "cell_type": "code",
      "execution_count": null,
      "metadata": {
        "id": "Z-YMiEcEYmvb"
      },
      "outputs": [],
      "source": [
        "import logging\n",
        "from haystack import tracing\n",
        "from haystack.tracing.logging_tracer import LoggingTracer\n",
        "\n",
        "logging.basicConfig(format=\"%(levelname)s - %(name)s -  %(message)s\", level=logging.WARNING)\n",
        "logging.getLogger(\"haystack\").setLevel(logging.DEBUG)\n",
        "\n",
        "tracing.tracer.is_content_tracing_enabled = True # to enable tracing/logging content (inputs/outputs)\n",
        "tracing.enable_tracing(LoggingTracer(tags_color_strings={\"haystack.component.input\": \"\\x1b[1;31m\", \"haystack.component.name\": \"\\x1b[1;34m\"}))"
      ]
    },
    {
      "cell_type": "markdown",
      "metadata": {
        "id": "CYn2RbbKfmJ_"
      },
      "source": [
        "## 3) Populate the inventory\n",
        "\n",
        "In this section, we use a simple Haystack [`InMemoryDocumentStore`](https://docs.haystack.deepset.ai/docs/inmemorydocumentstore) as our inventory.\n",
        "The gift/items will be `Documents`."
      ]
    },
    {
      "cell_type": "code",
      "execution_count": null,
      "metadata": {
        "id": "Wct4tIWDcY5n"
      },
      "outputs": [],
      "source": [
        "from haystack.document_stores.in_memory import InMemoryDocumentStore\n",
        "from haystack import Document\n",
        "\n",
        "document_store = InMemoryDocumentStore()"
      ]
    },
    {
      "cell_type": "code",
      "execution_count": null,
      "metadata": {
        "id": "HHtwQNBefFyt"
      },
      "outputs": [],
      "source": [
        "documents = [\n",
        "    Document(content=\"LEGO Star Wars Set\", meta={\"units\": 3456, \"origin\": \"Amazon\", \"description\": \"Amazon\"}),\n",
        "    Document(content=\"Wooden Sailboat\", meta={\"units\": 124, \"origin\": \"handmade\", \"description\": \"Handmade\"}),\n",
        "    Document(content=\"Nintendo Switch\", meta={\"units\": 2189, \"origin\": \"Amazon\", \"description\": \"Amazon\"}),\n",
        "    Document(content=\"Hand-Knitted Teddy Bear\", meta={\"units\": 233, \"origin\": \"handmade\", \"description\": \"Handmade\"}),\n",
        "    Document(content=\"Barbie Dreamhouse\", meta={\"units\": 1673, \"origin\": \"Amazon\", \"description\": \"Amazon\"}),\n",
        "    Document(content=\"Carved Wooden Puzzle\", meta={\"units\": 179, \"origin\": \"handmade\", \"description\": \"Handmade\"}),\n",
        "    Document(content=\"Remote Control Drone\", meta={\"units\": 1542, \"origin\": \"Amazon\", \"description\": \"Amazon\"}),\n",
        "    Document(content=\"Painted Rocking Horse\", meta={\"units\": 93, \"origin\": \"handmade\", \"description\": \"Handmade\"}),\n",
        "    Document(content=\"Science Experiment Kit\", meta={\"units\": 2077, \"origin\": \"Amazon\", \"description\": \"Amazon\"}),\n",
        "    Document(content=\"Miniature Dollhouse\", meta={\"units\": 110, \"origin\": \"handmade\", \"description\": \"Handmade\"}),\n",
        "    Document(content=\"Nerf Blaster\", meta={\"units\": 2731, \"origin\": \"Amazon\", \"description\": \"Amazon\"}),\n",
        "    Document(content=\"Interactive Robot Pet\", meta={\"units\": 1394, \"origin\": \"Amazon\", \"description\": \"Amazon\"})\n",
        "]"
      ]
    },
    {
      "cell_type": "code",
      "execution_count": null,
      "metadata": {
        "colab": {
          "base_uri": "https://localhost:8080/"
        },
        "id": "3IeHPXMVfI3B",
        "outputId": "85bb9188-160b-4e3b-b231-80f0bb4009b4"
      },
      "outputs": [
        {
          "output_type": "execute_result",
          "data": {
            "text/plain": [
              "12"
            ]
          },
          "metadata": {},
          "execution_count": 6
        }
      ],
      "source": [
        "document_store.write_documents(documents)"
      ]
    },
    {
      "cell_type": "markdown",
      "metadata": {
        "id": "eMgGzNMpgeJl"
      },
      "source": [
        "## 4) Tools\n",
        "\n",
        "Our Santa's backoffice Agent need several Tools to work, each one with its specific action:\n",
        "- look up an item in inventory\n",
        "- add item to inventory\n",
        "- take item from inventory\n",
        "- inventory summary\n",
        "- get price of a new item\n",
        "- buy a new item\n",
        "\n",
        "We are going to create them, with your help.\n",
        "For an introduction to Tools, check out [Cookbook: Define & Run Tools](https://haystack.deepset.ai/cookbook/tools_support)."
      ]
    },
    {
      "cell_type": "markdown",
      "metadata": {
        "id": "oDwobQkKkAqa"
      },
      "source": [
        "### Lookup tool\n",
        "\n",
        "This is used to find if an item is present in the inventory.\n",
        "We will use a [`InMemoryBM25Retriever`](https://docs.haystack.deepset.ai/docs/inmemorybm25retriever) to allow also not exact matches."
      ]
    },
    {
      "cell_type": "code",
      "execution_count": null,
      "metadata": {
        "colab": {
          "base_uri": "https://localhost:8080/"
        },
        "id": "1v14MOGMfKrP",
        "outputId": "d7f75849-1639-4d81-9a3f-c1b86572f42c"
      },
      "outputs": [
        {
          "output_type": "stream",
          "name": "stderr",
          "text": [
            "DEBUG:haystack.core.component.component:Registering <class 'haystack.components.retrievers.filter_retriever.FilterRetriever'> as a component\n",
            "DEBUG:haystack.core.component.component:Registered Component <class 'haystack.components.retrievers.filter_retriever.FilterRetriever'>\n",
            "DEBUG:haystack.core.component.component:Registering <class 'haystack.components.retrievers.in_memory.bm25_retriever.InMemoryBM25Retriever'> as a component\n",
            "DEBUG:haystack.core.component.component:Registered Component <class 'haystack.components.retrievers.in_memory.bm25_retriever.InMemoryBM25Retriever'>\n",
            "DEBUG:haystack.core.component.component:Registering <class 'haystack.components.retrievers.in_memory.embedding_retriever.InMemoryEmbeddingRetriever'> as a component\n",
            "DEBUG:haystack.core.component.component:Registered Component <class 'haystack.components.retrievers.in_memory.embedding_retriever.InMemoryEmbeddingRetriever'>\n",
            "DEBUG:haystack.core.component.component:Registering <class 'haystack.components.retrievers.sentence_window_retriever.SentenceWindowRetriever'> as a component\n",
            "DEBUG:haystack.core.component.component:Registered Component <class 'haystack.components.retrievers.sentence_window_retriever.SentenceWindowRetriever'>\n"
          ]
        }
      ],
      "source": [
        "from haystack_experimental.dataclasses import Tool\n",
        "from typing import Annotated, Literal\n",
        "from haystack.document_stores.types import DuplicatePolicy\n",
        "\n",
        "from haystack.components.retrievers.in_memory import InMemoryBM25Retriever\n",
        "retriever = InMemoryBM25Retriever(document_store=document_store, top_k=3)"
      ]
    },
    {
      "cell_type": "markdown",
      "metadata": {
        "id": "qzf8-ZDqkaBY"
      },
      "source": [
        "After creating the retriever, we define a function that converts the search results to text, ready to be crunched by Language Models.\n",
        "\n",
        "As you can notice, we annotate the arguments in the function signature and provide a detailed docstring to make the conversion to a Tool seamless.\n",
        "To learn this trick, take a look at the [Newsletter Sending Agent notebook](https://haystack.deepset.ai/cookbook/newsletter-agent#extras-converting-tools)."
      ]
    },
    {
      "cell_type": "code",
      "execution_count": null,
      "metadata": {
        "id": "FzYuvRRYfUle"
      },
      "outputs": [],
      "source": [
        "def lookup_item_in_inventory(item_name: Annotated[str, \"The item name to search\"]):\n",
        "  \"\"\"\n",
        "  Look up an item in the inventory.\n",
        "  \"\"\"\n",
        "  result =retriever.run(query=item_name)\n",
        "  text = \"\"\n",
        "  for doc in result[\"documents\"]:\n",
        "      text += f\"found item: {doc.content}; units: {doc.meta['units']}; matching score: {doc.score}\\n\"\n",
        "  return text\n"
      ]
    },
    {
      "cell_type": "code",
      "execution_count": null,
      "metadata": {
        "colab": {
          "base_uri": "https://localhost:8080/"
        },
        "id": "apYyXTGSf7kC",
        "outputId": "47c4422a-4efd-432a-af8f-74ff705555a7"
      },
      "outputs": [
        {
          "output_type": "stream",
          "name": "stdout",
          "text": [
            "found item: LEGO Star Wars Set; units: 3456; matching score: 2.3976626592085233\n",
            "found item: Wooden Sailboat; units: 124; matching score: 1.3496776558458576\n",
            "found item: Nintendo Switch; units: 2189; matching score: 1.3496776558458576\n",
            "\n"
          ]
        }
      ],
      "source": [
        "print(lookup_item_in_inventory(item_name=\"lego\"))"
      ]
    },
    {
      "cell_type": "code",
      "execution_count": null,
      "metadata": {
        "id": "a11KClpGf-qT"
      },
      "outputs": [],
      "source": [
        "lookup_item_in_inventory_tool=Tool.from_function(lookup_item_in_inventory)"
      ]
    },
    {
      "cell_type": "code",
      "execution_count": null,
      "metadata": {
        "colab": {
          "base_uri": "https://localhost:8080/"
        },
        "id": "B57fRNH1lrgP",
        "outputId": "6c4cc956-4868-4592-cbdb-6d229da3ebe7"
      },
      "outputs": [
        {
          "output_type": "stream",
          "name": "stdout",
          "text": [
            "found item: LEGO Star Wars Set; units: 3456; matching score: 2.3976626592085233\n",
            "found item: Wooden Sailboat; units: 124; matching score: 1.3496776558458576\n",
            "found item: Nintendo Switch; units: 2189; matching score: 1.3496776558458576\n",
            "\n"
          ]
        }
      ],
      "source": [
        "print(lookup_item_in_inventory_tool.invoke(item_name=\"lego\"))"
      ]
    },
    {
      "cell_type": "markdown",
      "metadata": {
        "id": "QPAhP-8YmFiw"
      },
      "source": [
        "### Add item tool\n",
        "\n",
        "Next, a tool to add an item to the inventory"
      ]
    },
    {
      "cell_type": "code",
      "execution_count": null,
      "metadata": {
        "id": "bLRG6etMgQ_h"
      },
      "outputs": [],
      "source": [
        "def add_item_to_inventory(item_name: Annotated[str, \"The item name to add to inventory\"],\n",
        "                          origin: Annotated[Literal[\"handmade\", \"Amazon\"], \"The origin of the item\"],\n",
        "                          units: Annotated[int, \"The number of units to add to inventory\"]=1,\n",
        "                          ):\n",
        "    \"\"\"\n",
        "    Add an item to the inventory.\n",
        "    \"\"\"\n",
        "    found=document_store.filter_documents(filters={\"field\": \"content\", \"operator\": \"==\", \"value\": item_name})\n",
        "    id_ = None\n",
        "    if found:\n",
        "        units += found[0].meta[\"units\"]\n",
        "        id_ = found[0].id\n",
        "\n",
        "    doc = Document(id=id_, content=item_name, meta={\"units\": units, \"origin\": origin})\n",
        "    return document_store.write_documents([doc], policy=DuplicatePolicy.OVERWRITE)"
      ]
    },
    {
      "cell_type": "code",
      "execution_count": null,
      "metadata": {
        "id": "SdDyMTNug1rT"
      },
      "outputs": [],
      "source": [
        "add_item_to_inventory_tool=Tool.from_function(add_item_to_inventory)"
      ]
    },
    {
      "cell_type": "markdown",
      "metadata": {
        "id": "ZPvD2eFDmOBB"
      },
      "source": [
        "### Inventory Summary tool\n",
        "\n",
        "Now it's your turn.\n",
        "\n",
        "Let's start with a basic `inventory_summary` function and its `inventory_summary_tool`.\n",
        "\n",
        "This tool is expected to retrieve all items and return a textual summary/list."
      ]
    },
    {
      "cell_type": "code",
      "execution_count": null,
      "metadata": {
        "id": "Nb2kXx-DhDGq"
      },
      "outputs": [],
      "source": [
        "def inventory_summary():\n",
        "  ### IMPLEMENT THE TOOL HERE ###\n",
        "  \"\"\"\n",
        "  Get a summary of the inventory.\n",
        "  \"\"\"\n",
        "  results = document_store.filter_documents()\n",
        "  text = \"\"\n",
        "  for doc in results:\n",
        "      text += f\"name: {doc.content}; units: {doc.meta['units']}; origin: {doc.meta['origin']}\\n\"\n",
        "  return text"
      ]
    },
    {
      "cell_type": "code",
      "execution_count": null,
      "metadata": {
        "id": "TWELJk4GhJQj"
      },
      "outputs": [],
      "source": [
        "inventory_summary_tool=Tool.from_function(inventory_summary)"
      ]
    },
    {
      "cell_type": "markdown",
      "metadata": {
        "id": "W_ngfnfHm-Wb"
      },
      "source": [
        "### Take from Inventory tool\n",
        "\n",
        "A more complex tool for you to build!\n",
        "\n",
        "This should take as input the `item_name` and the `units`.\n",
        "- it should try to fetch the item\n",
        "- if not present, return a message saying that\n",
        "- if present and units > units in inventory, return a message saying that\n",
        "- otherwise, remove the specified `units` from the inventory and return an explanatory message"
      ]
    },
    {
      "cell_type": "code",
      "execution_count": null,
      "metadata": {
        "id": "jmwf7SkWhNTn"
      },
      "outputs": [],
      "source": [
        "def take_from_inventory(### IMPLEMENT THE TOOL HERE ###\n",
        "                        item_name: Annotated[str, \"The item name to take from inventory\"],\n",
        "                        units: Annotated[int, \"The number of units to take from inventory\"]=1\n",
        "                        ):\n",
        "    \"\"\"\n",
        "    Take an item from the inventory. If present, the item will be removed.\n",
        "    \"\"\"\n",
        "\n",
        "    found = document_store.filter_documents(filters={\"field\": \"content\", \"operator\": \"==\", \"value\": item_name})\n",
        "    if not found:\n",
        "        return f\"item {item_name} not found in inventory\"\n",
        "\n",
        "    new_units = found[0].meta[\"units\"] - units\n",
        "    if new_units < 0:\n",
        "        return f\"item {item_name} has only {found[0].meta['units']} units, cannot take {units}\"\n",
        "\n",
        "    if new_units == 0:\n",
        "        document_store.delete_documents([found[0].id])\n",
        "        return f\"item {item_name} has been removed from inventory\"\n",
        "\n",
        "    new_doc = Document(id=found[0].id, content=item_name, meta={\"units\": new_units, \"origin\": found[0].meta[\"origin\"]})\n",
        "    document_store.write_documents([new_doc], policy=DuplicatePolicy.OVERWRITE)\n",
        "    return f\"item {item_name} has been updated in inventory\""
      ]
    },
    {
      "cell_type": "code",
      "execution_count": null,
      "metadata": {
        "id": "iSebujGKhcqH"
      },
      "outputs": [],
      "source": [
        "take_from_inventory_tool=Tool.from_function(take_from_inventory)"
      ]
    },
    {
      "cell_type": "markdown",
      "metadata": {
        "id": "xjAcsClXoAo7"
      },
      "source": [
        "### Get Price tool\n",
        "\n",
        "This tool tries to find the Amazon price of the item in the web.\n",
        "\n",
        "In this case, the tool wraps a Web RAG Pipeline.\n",
        "The tool is given but you need to define the pipeline with [DuckduckgoApiWebSearch](https://haystack.deepset.ai/integrations/duckduckgo-api-websearch), [PromptBuilder](https://docs.haystack.deepset.ai/docs/promptbuilder) and [OpenAIGenerator](https://docs.haystack.deepset.ai/docs/openaigenerator).\n",
        "\n"
      ]
    },
    {
      "cell_type": "code",
      "execution_count": null,
      "metadata": {
        "colab": {
          "base_uri": "https://localhost:8080/"
        },
        "id": "tvbrb6XRhoYg",
        "outputId": "f98af1d2-c06b-44c0-e8d9-2754fbdba9eb"
      },
      "outputs": [
        {
          "output_type": "stream",
          "name": "stderr",
          "text": [
            "DEBUG:haystack.core.pipeline.base:Adding component 'search' (<duckduckgo_api_haystack.duckduckgoapi.DuckduckgoApiWebSearch object at 0x7e252c1f5a80>\n",
            "\n",
            "Inputs:\n",
            "  - query: str\n",
            "Outputs:\n",
            "  - documents: List[Document]\n",
            "  - links: List[str])\n",
            "DEBUG:haystack.core.pipeline.base:Adding component 'prompt_builder' (<haystack.components.builders.prompt_builder.PromptBuilder object at 0x7e252c1f4d60>\n",
            "\n",
            "Inputs:\n",
            "  - query: Any\n",
            "  - documents: Any\n",
            "  - template: Optional[str]\n",
            "  - template_variables: Optional[Dict[str, Any]]\n",
            "Outputs:\n",
            "  - prompt: str)\n",
            "DEBUG:haystack.core.pipeline.base:Adding component 'llm' (<haystack.components.generators.openai.OpenAIGenerator object at 0x7e252cab3e20>\n",
            "\n",
            "Inputs:\n",
            "  - prompt: str\n",
            "  - system_prompt: Optional[str]\n",
            "  - streaming_callback: Optional[Callable[]]\n",
            "  - generation_kwargs: Optional[Dict[str, Any]]\n",
            "Outputs:\n",
            "  - replies: List[str]\n",
            "  - meta: List[Dict[str, Any]])\n",
            "DEBUG:haystack.core.pipeline.base:Connecting 'search.documents' to 'prompt_builder.documents'\n",
            "DEBUG:haystack.core.pipeline.base:Connecting 'prompt_builder.prompt' to 'llm.prompt'\n"
          ]
        },
        {
          "output_type": "execute_result",
          "data": {
            "text/plain": [
              "<haystack.core.pipeline.pipeline.Pipeline object at 0x7e252cab3b20>\n",
              "🚅 Components\n",
              "  - search: DuckduckgoApiWebSearch\n",
              "  - prompt_builder: PromptBuilder\n",
              "  - llm: OpenAIGenerator\n",
              "🛤️ Connections\n",
              "  - search.documents -> prompt_builder.documents (List[Document])\n",
              "  - prompt_builder.prompt -> llm.prompt (str)"
            ]
          },
          "metadata": {},
          "execution_count": 26
        }
      ],
      "source": [
        "from haystack import Pipeline\n",
        "from haystack.components.builders.prompt_builder import PromptBuilder\n",
        "from haystack.components.generators import OpenAIGenerator\n",
        "from duckduckgo_api_haystack import DuckduckgoApiWebSearch\n",
        "\n",
        "web_search = DuckduckgoApiWebSearch(top_k=5, backend=\"lite\")\n",
        "\n",
        "template = \"\"\"Given the information below: \\n\n",
        "            {% for document in documents %}\n",
        "                {{ document.content }}\n",
        "                {{ document.link }}\n",
        "                ---\n",
        "            {% endfor %}\n",
        "            Answer question: {{ query }}. \\n Answer:\"\"\"\n",
        "\n",
        "prompt_builder = PromptBuilder(template=template)\n",
        "llm = OpenAIGenerator()\n",
        "\n",
        "get_price_pipe = Pipeline()\n",
        "get_price_pipe.add_component(\"search\", web_search)\n",
        "get_price_pipe.add_component(\"prompt_builder\", prompt_builder)\n",
        "get_price_pipe.add_component(\"llm\", llm)\n",
        "\n",
        "get_price_pipe.connect(\"search.documents\", \"prompt_builder.documents\")\n",
        "get_price_pipe.connect(\"prompt_builder.prompt\", \"llm.prompt\")\n",
        "\n"
      ]
    },
    {
      "cell_type": "code",
      "execution_count": null,
      "metadata": {
        "id": "x0epLB6AiYtj"
      },
      "outputs": [],
      "source": [
        "def get_price(item_name: Annotated[str, \"The item name to search\"]):\n",
        "  \"\"\"\n",
        "  Search the web to get the price of an item on Amazon\n",
        "  \"\"\"\n",
        "\n",
        "  search_query = f\"price of {item_name} on Amazon\"\n",
        "  question = f\"What is the price of {item_name} on Amazon? Respond with minimal item name and minimum price.\"\n",
        "\n",
        "\n",
        "  data = {\"search\":{\"query\":search_query}, \"prompt_builder\":{\"query\": question}}\n",
        "\n",
        "  return get_price_pipe.run(data=data)[\"llm\"][\"replies\"][0]"
      ]
    },
    {
      "cell_type": "code",
      "execution_count": null,
      "metadata": {
        "colab": {
          "base_uri": "https://localhost:8080/",
          "height": 680
        },
        "id": "zk2GbXM3iTDc",
        "outputId": "0589283d-f2d3-435b-9f06-706712deae2c"
      },
      "outputs": [
        {
          "output_type": "stream",
          "name": "stderr",
          "text": [
            "INFO:haystack.core.pipeline.pipeline:Running component search\n",
            "DEBUG:haystack.tracing.logging_tracer:Operation: haystack.component.run\n",
            "DEBUG:haystack.tracing.logging_tracer:\u001b[1;34mhaystack.component.name=search\u001b[0m\n",
            "DEBUG:haystack.tracing.logging_tracer:haystack.component.type=DuckduckgoApiWebSearch\u001b[0m\n",
            "DEBUG:haystack.tracing.logging_tracer:haystack.component.input_types={'query': 'str'}\u001b[0m\n",
            "DEBUG:haystack.tracing.logging_tracer:haystack.component.input_spec={'query': {'type': 'str', 'senders': []}}\u001b[0m\n",
            "DEBUG:haystack.tracing.logging_tracer:haystack.component.output_spec={'documents': {'type': 'typing.List[haystack.dataclasses.document.Document]', 'receivers': ['prompt_builder']}, 'links': {'type': 'typing.List[str]', 'receivers': []}}\u001b[0m\n",
            "DEBUG:haystack.tracing.logging_tracer:\u001b[1;31mhaystack.component.input={'query': 'price of barbie dollhouse on Amazon'}\u001b[0m\n",
            "DEBUG:haystack.tracing.logging_tracer:haystack.component.visits=1\u001b[0m\n",
            "DEBUG:haystack.tracing.logging_tracer:haystack.component.output={'documents': [Document(id=42594ec906cc38cb02e02f861d064f7a807fc19e74a6b7a84a9fd23942de25bf, content: 'Barbie DreamHouse, Doll House Playset with 75+ Toy Furniture & Accessories, 10 Play Areas, Lights & ...', meta: {'title': 'Amazon.com: Barbie DreamHouse, Doll House Playset with 75+ Toy ...', 'link': 'https://www.amazon.com/Barbie-DreamHouse-Furniture-Accessories-Wheelchair-Accessible/dp/B08V1R73H9'}), Document(id=7b9d1ab540b7e9c99507cda090ae6f5b9de86ecf63552c0dc2e5757dc418fa7e, content: 'Barbie DreamHouse, Doll House Playset with 75+ Pieces Including Toy Furniture & 3-Story Pool Slide, ...', meta: {'title': 'Amazon.com: Barbie Doll Houses', 'link': 'https://www.amazon.com/barbie-doll-houses/s?k=barbie+doll+houses'}), Document(id=5b82b5531bf39f63f92de52961a6da2aa93290c1290af33c1b52956b04fe852b, content: 'Barbie Doll House Playset, 3-Story Townhouse with 4 Rooms & Rooftop Lounge, Furniture & Accessories ...', meta: {'title': 'Amazon.com: Barbie DreamHouse, Doll House Playset with 75+ Pieces ...', 'link': 'https://www.amazon.com/Barbie-Dreamhouse-3-Story-Playset-Elevator/dp/B0BLJTJ38M'}), Document(id=2e953e1fbf2f5c5d9788acad871113186b91fa4c316a985bb5c6a28b5bd7372c, content: 'Amazon.com: Barbie DreamHouse, Doll House Playset with 70+ Accessories ...', meta: {'title': 'Amazon.com: Barbie DreamHouse, Doll House Playset with 70+ Accessories ...', 'link': 'https://www.amazon.com/Barbie-Dreamhouse-Dollhouse-Wheelchair-Accessible/dp/B07Y9C848Y'}), Document(id=b37408f820379dbca3c19153abf71083644ad852734e0d0207c1eb2c7683252d, content: 'Amazon's Choice for \"barbie house\" ... Barbie Dollhouse Playset with Barbie Doll & House with 2 Leve...', meta: {'title': 'Amazon.ca: Barbie House', 'link': 'https://www.amazon.ca/barbie-house/s?k=barbie+house'})], 'links': ['https://www.amazon.com/Barbie-DreamHouse-Furniture-Accessories-Wheelchair-Accessible/dp/B08V1R73H9', 'https://www.amazon.com/barbie-doll-houses/s?k=barbie+doll+houses', 'https://www.amazon.com/Barbie-Dreamhouse-3-Story-Playset-Elevator/dp/B0BLJTJ38M', 'https://www.amazon.com/Barbie-Dreamhouse-Dollhouse-Wheelchair-Accessible/dp/B07Y9C848Y', 'https://www.amazon.ca/barbie-house/s?k=barbie+house']}\u001b[0m\n",
            "INFO:haystack.core.pipeline.pipeline:Running component prompt_builder\n",
            "DEBUG:haystack.tracing.logging_tracer:Operation: haystack.component.run\n",
            "DEBUG:haystack.tracing.logging_tracer:\u001b[1;34mhaystack.component.name=prompt_builder\u001b[0m\n",
            "DEBUG:haystack.tracing.logging_tracer:haystack.component.type=PromptBuilder\u001b[0m\n",
            "DEBUG:haystack.tracing.logging_tracer:haystack.component.input_types={'query': 'str', 'template': 'NoneType', 'template_variables': 'NoneType', 'documents': 'list'}\u001b[0m\n",
            "DEBUG:haystack.tracing.logging_tracer:haystack.component.input_spec={'query': {'type': 'typing.Any', 'senders': []}, 'documents': {'type': 'typing.Any', 'senders': ['search']}, 'template': {'type': 'typing.Optional[str]', 'senders': []}, 'template_variables': {'type': 'typing.Optional[typing.Dict[str, typing.Any]]', 'senders': []}}\u001b[0m\n",
            "DEBUG:haystack.tracing.logging_tracer:haystack.component.output_spec={'prompt': {'type': 'str', 'receivers': ['llm']}}\u001b[0m\n",
            "DEBUG:haystack.tracing.logging_tracer:\u001b[1;31mhaystack.component.input={'query': 'What is the price of barbie dollhouse on Amazon? Respond with minimal item name and minimum price.', 'template': None, 'template_variables': None, 'documents': [Document(id=42594ec906cc38cb02e02f861d064f7a807fc19e74a6b7a84a9fd23942de25bf, content: 'Barbie DreamHouse, Doll House Playset with 75+ Toy Furniture & Accessories, 10 Play Areas, Lights & ...', meta: {'title': 'Amazon.com: Barbie DreamHouse, Doll House Playset with 75+ Toy ...', 'link': 'https://www.amazon.com/Barbie-DreamHouse-Furniture-Accessories-Wheelchair-Accessible/dp/B08V1R73H9'}), Document(id=7b9d1ab540b7e9c99507cda090ae6f5b9de86ecf63552c0dc2e5757dc418fa7e, content: 'Barbie DreamHouse, Doll House Playset with 75+ Pieces Including Toy Furniture & 3-Story Pool Slide, ...', meta: {'title': 'Amazon.com: Barbie Doll Houses', 'link': 'https://www.amazon.com/barbie-doll-houses/s?k=barbie+doll+houses'}), Document(id=5b82b5531bf39f63f92de52961a6da2aa93290c1290af33c1b52956b04fe852b, content: 'Barbie Doll House Playset, 3-Story Townhouse with 4 Rooms & Rooftop Lounge, Furniture & Accessories ...', meta: {'title': 'Amazon.com: Barbie DreamHouse, Doll House Playset with 75+ Pieces ...', 'link': 'https://www.amazon.com/Barbie-Dreamhouse-3-Story-Playset-Elevator/dp/B0BLJTJ38M'}), Document(id=2e953e1fbf2f5c5d9788acad871113186b91fa4c316a985bb5c6a28b5bd7372c, content: 'Amazon.com: Barbie DreamHouse, Doll House Playset with 70+ Accessories ...', meta: {'title': 'Amazon.com: Barbie DreamHouse, Doll House Playset with 70+ Accessories ...', 'link': 'https://www.amazon.com/Barbie-Dreamhouse-Dollhouse-Wheelchair-Accessible/dp/B07Y9C848Y'}), Document(id=b37408f820379dbca3c19153abf71083644ad852734e0d0207c1eb2c7683252d, content: 'Amazon's Choice for \"barbie house\" ... Barbie Dollhouse Playset with Barbie Doll & House with 2 Leve...', meta: {'title': 'Amazon.ca: Barbie House', 'link': 'https://www.amazon.ca/barbie-house/s?k=barbie+house'})]}\u001b[0m\n",
            "DEBUG:haystack.tracing.logging_tracer:haystack.component.visits=1\u001b[0m\n",
            "DEBUG:haystack.tracing.logging_tracer:haystack.component.output={'prompt': 'Given the information below: \\n\\n            \\n                Barbie DreamHouse, Doll House Playset with 75+ Toy Furniture & Accessories, 10 Play Areas, Lights & Sounds, Wheelchair-Accessible Elevator (Amazon Exclusive) Visit the Barbie Store 4.8 4.8 out of 5 stars 15,078 ratings\\n                \\n                ---\\n            \\n                Barbie DreamHouse, Doll House Playset with 75+ Pieces Including Toy Furniture & 3-Story Pool Slide, Pet Elevator & Puppy Play Areas. 4.7 out of 5 stars. 4,236. ... 3-Story Townhouse with 4 Rooms & Rooftop Lounge, Furniture & Accessories Including Swinging Chair (Amazon Exclusive) 4.6 out of 5 stars. 10,946. 2K+ bought in past month. $114.99 ...\\n                \\n                ---\\n            \\n                Barbie Doll House Playset, 3-Story Townhouse with 4 Rooms & Rooftop Lounge, Furniture & Accessories Including Swinging Chair (Amazon Exclusive) 4.5 out of 5 stars 10,958 1 offer from $18900 $ 189 00\\n                \\n                ---\\n            \\n                Amazon.com: Barbie DreamHouse, Doll House Playset with 70+ Accessories ...\\n                \\n                ---\\n            \\n                Amazon\\'s Choice for \"barbie house\" ... Barbie Dollhouse Playset with Barbie Doll & House with 2 Levels & 4 Play Areas, Fully Furnished, with Pet Puppy & Accessories, Gift for Kids 3 Years Old and Up ... Fisher-Price Little People Barbie Toy Airplane for Toddlers with Lights Music and Folding Stairs, Little Dream Plane, 4 Play Pieces, Multi ...\\n                \\n                ---\\n            \\n            Answer question: What is the price of barbie dollhouse on Amazon? Respond with minimal item name and minimum price.. \\n Answer:'}\u001b[0m\n",
            "INFO:haystack.core.pipeline.pipeline:Running component llm\n",
            "DEBUG:haystack.tracing.logging_tracer:Operation: haystack.component.run\n",
            "DEBUG:haystack.tracing.logging_tracer:\u001b[1;34mhaystack.component.name=llm\u001b[0m\n",
            "DEBUG:haystack.tracing.logging_tracer:haystack.component.type=OpenAIGenerator\u001b[0m\n",
            "DEBUG:haystack.tracing.logging_tracer:haystack.component.input_types={'system_prompt': 'NoneType', 'streaming_callback': 'NoneType', 'generation_kwargs': 'NoneType', 'prompt': 'str'}\u001b[0m\n",
            "DEBUG:haystack.tracing.logging_tracer:haystack.component.input_spec={'prompt': {'type': 'str', 'senders': ['prompt_builder']}, 'system_prompt': {'type': 'typing.Optional[str]', 'senders': []}, 'streaming_callback': {'type': 'typing.Optional[typing.Callable[[haystack.dataclasses.streaming_chunk.StreamingChunk], NoneType]]', 'senders': []}, 'generation_kwargs': {'type': 'typing.Optional[typing.Dict[str, typing.Any]]', 'senders': []}}\u001b[0m\n",
            "DEBUG:haystack.tracing.logging_tracer:haystack.component.output_spec={'replies': {'type': 'typing.List[str]', 'receivers': []}, 'meta': {'type': 'typing.List[typing.Dict[str, typing.Any]]', 'receivers': []}}\u001b[0m\n",
            "DEBUG:haystack.tracing.logging_tracer:\u001b[1;31mhaystack.component.input={'system_prompt': None, 'streaming_callback': None, 'generation_kwargs': None, 'prompt': 'Given the information below: \\n\\n            \\n                Barbie DreamHouse, Doll House Playset with 75+ Toy Furniture & Accessories, 10 Play Areas, Lights & Sounds, Wheelchair-Accessible Elevator (Amazon Exclusive) Visit the Barbie Store 4.8 4.8 out of 5 stars 15,078 ratings\\n                \\n                ---\\n            \\n                Barbie DreamHouse, Doll House Playset with 75+ Pieces Including Toy Furniture & 3-Story Pool Slide, Pet Elevator & Puppy Play Areas. 4.7 out of 5 stars. 4,236. ... 3-Story Townhouse with 4 Rooms & Rooftop Lounge, Furniture & Accessories Including Swinging Chair (Amazon Exclusive) 4.6 out of 5 stars. 10,946. 2K+ bought in past month. $114.99 ...\\n                \\n                ---\\n            \\n                Barbie Doll House Playset, 3-Story Townhouse with 4 Rooms & Rooftop Lounge, Furniture & Accessories Including Swinging Chair (Amazon Exclusive) 4.5 out of 5 stars 10,958 1 offer from $18900 $ 189 00\\n                \\n                ---\\n            \\n                Amazon.com: Barbie DreamHouse, Doll House Playset with 70+ Accessories ...\\n                \\n                ---\\n            \\n                Amazon\\'s Choice for \"barbie house\" ... Barbie Dollhouse Playset with Barbie Doll & House with 2 Levels & 4 Play Areas, Fully Furnished, with Pet Puppy & Accessories, Gift for Kids 3 Years Old and Up ... Fisher-Price Little People Barbie Toy Airplane for Toddlers with Lights Music and Folding Stairs, Little Dream Plane, 4 Play Pieces, Multi ...\\n                \\n                ---\\n            \\n            Answer question: What is the price of barbie dollhouse on Amazon? Respond with minimal item name and minimum price.. \\n Answer:'}\u001b[0m\n",
            "DEBUG:haystack.tracing.logging_tracer:haystack.component.visits=1\u001b[0m\n",
            "DEBUG:haystack.tracing.logging_tracer:haystack.component.output={'replies': ['Barbie Doll House Playset $189.00'], 'meta': [{'model': 'gpt-4o-mini-2024-07-18', 'index': 0, 'finish_reason': 'stop', 'usage': {'completion_tokens': 11, 'prompt_tokens': 384, 'total_tokens': 395, 'completion_tokens_details': CompletionTokensDetails(accepted_prediction_tokens=0, audio_tokens=0, reasoning_tokens=0, rejected_prediction_tokens=0), 'prompt_tokens_details': PromptTokensDetails(audio_tokens=0, cached_tokens=0)}}]}\u001b[0m\n",
            "DEBUG:haystack.tracing.logging_tracer:Operation: haystack.pipeline.run\n",
            "DEBUG:haystack.tracing.logging_tracer:haystack.pipeline.input_data={'search': {'query': 'price of barbie dollhouse on Amazon'}, 'prompt_builder': {'query': 'What is the price of barbie dollhouse on Amazon? Respond with minimal item name and minimum price.', 'template': None, 'template_variables': None}}\u001b[0m\n",
            "DEBUG:haystack.tracing.logging_tracer:haystack.pipeline.output_data={'search': {'links': ['https://www.amazon.com/Barbie-DreamHouse-Furniture-Accessories-Wheelchair-Accessible/dp/B08V1R73H9', 'https://www.amazon.com/barbie-doll-houses/s?k=barbie+doll+houses', 'https://www.amazon.com/Barbie-Dreamhouse-3-Story-Playset-Elevator/dp/B0BLJTJ38M', 'https://www.amazon.com/Barbie-Dreamhouse-Dollhouse-Wheelchair-Accessible/dp/B07Y9C848Y', 'https://www.amazon.ca/barbie-house/s?k=barbie+house']}, 'llm': {'replies': ['Barbie Doll House Playset $189.00'], 'meta': [{'model': 'gpt-4o-mini-2024-07-18', 'index': 0, 'finish_reason': 'stop', 'usage': {'completion_tokens': 11, 'prompt_tokens': 384, 'total_tokens': 395, 'completion_tokens_details': CompletionTokensDetails(accepted_prediction_tokens=0, audio_tokens=0, reasoning_tokens=0, rejected_prediction_tokens=0), 'prompt_tokens_details': PromptTokensDetails(audio_tokens=0, cached_tokens=0)}}]}}\u001b[0m\n",
            "DEBUG:haystack.tracing.logging_tracer:haystack.pipeline.metadata={}\u001b[0m\n",
            "DEBUG:haystack.tracing.logging_tracer:haystack.pipeline.max_runs_per_component=100\u001b[0m\n"
          ]
        },
        {
          "output_type": "execute_result",
          "data": {
            "text/plain": [
              "'Barbie Doll House Playset $189.00'"
            ],
            "application/vnd.google.colaboratory.intrinsic+json": {
              "type": "string"
            }
          },
          "metadata": {},
          "execution_count": 20
        }
      ],
      "source": [
        "get_price(\"barbie dollhouse\")\n"
      ]
    },
    {
      "cell_type": "code",
      "execution_count": null,
      "metadata": {
        "id": "mCtifdTBFiAj"
      },
      "outputs": [],
      "source": [
        "get_price_tool=Tool.from_function(get_price)"
      ]
    },
    {
      "cell_type": "markdown",
      "metadata": {
        "id": "DOXel_47pDCU"
      },
      "source": [
        "### Buy from Amazon tool\n",
        "\n",
        "This tool is ready to use.\n",
        "\n",
        "It asks the user for confirmation and then simulates a purchase on Amazon. It also adds items to the inventory."
      ]
    },
    {
      "cell_type": "code",
      "execution_count": null,
      "metadata": {
        "id": "wld2pQKGFtVD"
      },
      "outputs": [],
      "source": [
        "def buy_from_amazon(item_name: Annotated[str, \"The item name to search\"],\n",
        "                     price: Annotated[float, \"The price of the item to buy\"],\n",
        "                     units: Annotated[int, \"The number of units to buy\"]=1):\n",
        "    \"\"\"\n",
        "    Buy an item from Amazon and place it in the inventory.\n",
        "    \"\"\"\n",
        "\n",
        "    total_price = units * price\n",
        "    confirm = input(f\"You are about to buy {units} units of {item_name} from Amazon for a total of ${total_price}. Are you sure you want to continue? (y/n)\")\n",
        "    if confirm == \"y\":\n",
        "        # simulate actually buying from Amazon\n",
        "        add_item_to_inventory(item_name, units=units, origin=\"Amazon\")\n",
        "        return \"transaction completed and item added to inventory\"\n",
        "\n",
        "    return \"transaction cancelled\""
      ]
    },
    {
      "cell_type": "code",
      "execution_count": null,
      "metadata": {
        "id": "NExtECudOas3"
      },
      "outputs": [],
      "source": [
        "buy_from_amazon_tool=Tool.from_function(buy_from_amazon)"
      ]
    },
    {
      "cell_type": "code",
      "execution_count": null,
      "metadata": {
        "id": "im77S0CjOk0B",
        "colab": {
          "base_uri": "https://localhost:8080/",
          "height": 53
        },
        "outputId": "d87d2336-b09e-4470-d121-8ee608c45e1f"
      },
      "outputs": [
        {
          "name": "stdout",
          "output_type": "stream",
          "text": [
            "You are about to buy 5 units of Playstation 5 from Amazon for a total of $2500.0. Are you sure you want to continue? (y/n)y\n"
          ]
        },
        {
          "output_type": "execute_result",
          "data": {
            "text/plain": [
              "'transaction completed and item added to inventory'"
            ],
            "application/vnd.google.colaboratory.intrinsic+json": {
              "type": "string"
            }
          },
          "metadata": {},
          "execution_count": 24
        }
      ],
      "source": [
        "buy_from_amazon(item_name=\"Playstation 5\", price=500.00, units=5)"
      ]
    },
    {
      "cell_type": "markdown",
      "metadata": {
        "id": "li21BqZesFft"
      },
      "source": [
        "## 5) Main loop\n",
        "\n",
        "This part controls the flow of the application.\n",
        "It is quite simple and you can use to see the Agent in action and check that everything is working properly.\n",
        "\n",
        "To understand what's happening, it is important to be familiar with the experimental `ChatMessage` dataclass (see this [Cookbook: Define & Run Tools](https://haystack.deepset.ai/cookbook/tools_support)).\n",
        "\n",
        "---\n",
        "\n",
        "If every missing part has been implemented correctly, the Agent should be able to answer questions and perform actions like the following:\n",
        "```\n",
        "What's in the inventory?\n",
        "I take 1300 Barbie Dreamhouse and 50 Wooden Sailboat\n",
        "Buy 50 Harry Potter and the Philosopher's Stone books from Amazon\n",
        "Buy 50 Doom 3 videogames; then I take 40 of them\n",
        "Price of Bose noise removing headphones\n",
        "I want to add 27 Wooden trains handmade by elves\n",
        "```"
      ]
    },
    {
      "cell_type": "code",
      "execution_count": null,
      "metadata": {
        "id": "6UoV7PAMOpaE",
        "colab": {
          "base_uri": "https://localhost:8080/"
        },
        "outputId": "add48cb8-9b1d-4133-9f2c-88d8c18ba0d3"
      },
      "outputs": [
        {
          "output_type": "stream",
          "name": "stdout",
          "text": [
            "\n",
            "\n",
            "waiting for input (type 'exit' or 'quit' to stop)\n",
            "🧝: We’re out of jingle bells again!\"\n",
            "⌛ iterating...\n",
            "⌛ iterating...\n",
            "🤖: Oh dear! It seems we're completely out of jingle bells! 🎅🔔 Time to sprinkle some magic and add more to the inventory! \n",
            "\n",
            "How many jingle bells should we add? We can make it a dozen or even more for the festive fun! 🎄✨\n",
            "\n",
            "\n",
            "waiting for input (type 'exit' or 'quit' to stop)\n",
            "🧝: Let's buy 50 of them\n",
            "⌛ iterating...\n"
          ]
        },
        {
          "output_type": "stream",
          "name": "stderr",
          "text": [
            "INFO:haystack.core.pipeline.pipeline:Running component search\n",
            "DEBUG:haystack.tracing.logging_tracer:Operation: haystack.component.run\n",
            "DEBUG:haystack.tracing.logging_tracer:\u001b[1;34mhaystack.component.name=search\u001b[0m\n",
            "DEBUG:haystack.tracing.logging_tracer:haystack.component.type=DuckduckgoApiWebSearch\u001b[0m\n",
            "DEBUG:haystack.tracing.logging_tracer:haystack.component.input_types={'query': 'str'}\u001b[0m\n",
            "DEBUG:haystack.tracing.logging_tracer:haystack.component.input_spec={'query': {'type': 'str', 'senders': []}}\u001b[0m\n",
            "DEBUG:haystack.tracing.logging_tracer:haystack.component.output_spec={'documents': {'type': 'typing.List[haystack.dataclasses.document.Document]', 'receivers': ['prompt_builder']}, 'links': {'type': 'typing.List[str]', 'receivers': []}}\u001b[0m\n",
            "DEBUG:haystack.tracing.logging_tracer:\u001b[1;31mhaystack.component.input={'query': 'price of jingle bells on Amazon'}\u001b[0m\n",
            "DEBUG:haystack.tracing.logging_tracer:haystack.component.visits=1\u001b[0m\n",
            "DEBUG:haystack.tracing.logging_tracer:haystack.component.output={'documents': [Document(id=d398829f2bf47f8d3db3fdbe2535c27ca04d1e6b17acee807f52363475f822f1, content: 'Amazon.com: jingle bells. Skip to main content.us. ... Highly rated with a low unit price. CEWOR 200...', meta: {'title': 'Amazon.com: Jingle Bells', 'link': 'https://www.amazon.com/jingle-bells/s?k=jingle+bells'}), Document(id=13cc0dce1fc1c16e18f71d1f77034311acd7389084ac522d4b6f8cf39c0e1adf, content: 'Amazon.com: jingle bells christmas. ... Price and other details may vary based on product size and c...', meta: {'title': 'Amazon.com: Jingle Bells Christmas', 'link': 'https://www.amazon.com/jingle-bells-christmas/s?k=jingle+bells+christmas'}), Document(id=ca7146d44c17a038c229af1d1b8ff330686371858d33ec11ebd8df68b12ad040, content: 'Amazon.ca: christmas jingle bells. ... Price and other details may vary based on product size and co...', meta: {'title': 'Amazon.ca: Christmas Jingle Bells', 'link': 'https://www.amazon.ca/christmas-jingle-bells/s?k=christmas+jingle+bells'}), Document(id=28d48b506bfe1a5393bb9c671aacc24aa4212cb8e187ff030ce00837efe10255, content: '100pcs Christmas Jingle Bells, 0.5 Inch Small Christmas Jingle Bells Ornaments Multicolor Bells Jing...', meta: {'title': 'Amazon.ca: Jingle Bells', 'link': 'https://www.amazon.ca/jingle-bells/s?k=jingle+bells'}), Document(id=a0799c3264961b067ebf0f4868925e2b74dccadfc5c87192842ae6e99bb19836, content: 'Amazon.ca: white jingle bells. ... Price and other details may vary based on product size and colour...', meta: {'title': 'Amazon.ca: White Jingle Bells', 'link': 'https://www.amazon.ca/white-jingle-bells/s?k=white+jingle+bells'})], 'links': ['https://www.amazon.com/jingle-bells/s?k=jingle+bells', 'https://www.amazon.com/jingle-bells-christmas/s?k=jingle+bells+christmas', 'https://www.amazon.ca/christmas-jingle-bells/s?k=christmas+jingle+bells', 'https://www.amazon.ca/jingle-bells/s?k=jingle+bells', 'https://www.amazon.ca/white-jingle-bells/s?k=white+jingle+bells']}\u001b[0m\n",
            "INFO:haystack.core.pipeline.pipeline:Running component prompt_builder\n",
            "DEBUG:haystack.tracing.logging_tracer:Operation: haystack.component.run\n",
            "DEBUG:haystack.tracing.logging_tracer:\u001b[1;34mhaystack.component.name=prompt_builder\u001b[0m\n",
            "DEBUG:haystack.tracing.logging_tracer:haystack.component.type=PromptBuilder\u001b[0m\n",
            "DEBUG:haystack.tracing.logging_tracer:haystack.component.input_types={'query': 'str', 'template': 'NoneType', 'template_variables': 'NoneType', 'documents': 'list'}\u001b[0m\n",
            "DEBUG:haystack.tracing.logging_tracer:haystack.component.input_spec={'query': {'type': 'typing.Any', 'senders': []}, 'documents': {'type': 'typing.Any', 'senders': ['search']}, 'template': {'type': 'typing.Optional[str]', 'senders': []}, 'template_variables': {'type': 'typing.Optional[typing.Dict[str, typing.Any]]', 'senders': []}}\u001b[0m\n",
            "DEBUG:haystack.tracing.logging_tracer:haystack.component.output_spec={'prompt': {'type': 'str', 'receivers': ['llm']}}\u001b[0m\n",
            "DEBUG:haystack.tracing.logging_tracer:\u001b[1;31mhaystack.component.input={'query': 'What is the price of jingle bells on Amazon? Respond with minimal item name and minimum price.', 'template': None, 'template_variables': None, 'documents': [Document(id=d398829f2bf47f8d3db3fdbe2535c27ca04d1e6b17acee807f52363475f822f1, content: 'Amazon.com: jingle bells. Skip to main content.us. ... Highly rated with a low unit price. CEWOR 200...', meta: {'title': 'Amazon.com: Jingle Bells', 'link': 'https://www.amazon.com/jingle-bells/s?k=jingle+bells'}), Document(id=13cc0dce1fc1c16e18f71d1f77034311acd7389084ac522d4b6f8cf39c0e1adf, content: 'Amazon.com: jingle bells christmas. ... Price and other details may vary based on product size and c...', meta: {'title': 'Amazon.com: Jingle Bells Christmas', 'link': 'https://www.amazon.com/jingle-bells-christmas/s?k=jingle+bells+christmas'}), Document(id=ca7146d44c17a038c229af1d1b8ff330686371858d33ec11ebd8df68b12ad040, content: 'Amazon.ca: christmas jingle bells. ... Price and other details may vary based on product size and co...', meta: {'title': 'Amazon.ca: Christmas Jingle Bells', 'link': 'https://www.amazon.ca/christmas-jingle-bells/s?k=christmas+jingle+bells'}), Document(id=28d48b506bfe1a5393bb9c671aacc24aa4212cb8e187ff030ce00837efe10255, content: '100pcs Christmas Jingle Bells, 0.5 Inch Small Christmas Jingle Bells Ornaments Multicolor Bells Jing...', meta: {'title': 'Amazon.ca: Jingle Bells', 'link': 'https://www.amazon.ca/jingle-bells/s?k=jingle+bells'}), Document(id=a0799c3264961b067ebf0f4868925e2b74dccadfc5c87192842ae6e99bb19836, content: 'Amazon.ca: white jingle bells. ... Price and other details may vary based on product size and colour...', meta: {'title': 'Amazon.ca: White Jingle Bells', 'link': 'https://www.amazon.ca/white-jingle-bells/s?k=white+jingle+bells'})]}\u001b[0m\n",
            "DEBUG:haystack.tracing.logging_tracer:haystack.component.visits=1\u001b[0m\n",
            "DEBUG:haystack.tracing.logging_tracer:haystack.component.output={'prompt': 'Given the information below: \\n\\n            \\n                Amazon.com: jingle bells. Skip to main content.us. ... Highly rated with a low unit price. CEWOR 200 Pieces Colorful Jingle Bells Bulk for Crafts (0.4/0.8/1 Inch) Small Bells DIY for Christmas Wreath Decoration Holiday Home and Pet Bells Crafting. ... Sooez Jingle Bells for Crafts, 100PCS 1inch Large Craft Bells with Crisp Sound, Colorful ...\\n                \\n                ---\\n            \\n                Amazon.com: jingle bells christmas. ... Price and other details may vary based on product size and color. Overall Pick. ... Jingle Bells for Crafts, 120 Pcs 1 Inch Christmas Jingle Bells, Bulk Sound Craft Bells for Christmas Home Festival Decorations DIY Project. 4.6 out of 5 stars. 728.\\n                \\n                ---\\n            \\n                Amazon.ca: christmas jingle bells. ... Price and other details may vary based on product size and colour. ... SAVITA 240Pcs Tiny Christmas Jingle Bells, DIY Craft Jingle Bells with 20m Red Rope for Wreath, Necklace Jewelry Making, Holiday Home Party Supplies (80Pcs Red, 80Pcs Gold, 80Pcs Green, 0.5inch) ...\\n                \\n                ---\\n            \\n                100pcs Christmas Jingle Bells, 0.5 Inch Small Christmas Jingle Bells Ornaments Multicolor Bells Jingle Bells Bulk for Wreath Jewelry Making Home Christmas Decoration(7 Colors) 4.5 out of 5 stars 22 $9.99 $ 9 . 99 ( $0.10 $0.10 /count)\\n                \\n                ---\\n            \\n                Amazon.ca: white jingle bells. ... Price and other details may vary based on product size and colour. uxcell Jingle Bells, 22mm 12pcs Craft Bells for DIY Holiday Decoration, Musical Party, Home, Festival, Wedding, White. 5.0 out of 5 stars 3. $14.19 $ 14. 19 ($1.18 $1.18 /Count)\\n                \\n                ---\\n            \\n            Answer question: What is the price of jingle bells on Amazon? Respond with minimal item name and minimum price.. \\n Answer:'}\u001b[0m\n",
            "INFO:haystack.core.pipeline.pipeline:Running component llm\n",
            "DEBUG:haystack.tracing.logging_tracer:Operation: haystack.component.run\n",
            "DEBUG:haystack.tracing.logging_tracer:\u001b[1;34mhaystack.component.name=llm\u001b[0m\n",
            "DEBUG:haystack.tracing.logging_tracer:haystack.component.type=OpenAIGenerator\u001b[0m\n",
            "DEBUG:haystack.tracing.logging_tracer:haystack.component.input_types={'system_prompt': 'NoneType', 'streaming_callback': 'NoneType', 'generation_kwargs': 'NoneType', 'prompt': 'str'}\u001b[0m\n",
            "DEBUG:haystack.tracing.logging_tracer:haystack.component.input_spec={'prompt': {'type': 'str', 'senders': ['prompt_builder']}, 'system_prompt': {'type': 'typing.Optional[str]', 'senders': []}, 'streaming_callback': {'type': 'typing.Optional[typing.Callable[[haystack.dataclasses.streaming_chunk.StreamingChunk], NoneType]]', 'senders': []}, 'generation_kwargs': {'type': 'typing.Optional[typing.Dict[str, typing.Any]]', 'senders': []}}\u001b[0m\n",
            "DEBUG:haystack.tracing.logging_tracer:haystack.component.output_spec={'replies': {'type': 'typing.List[str]', 'receivers': []}, 'meta': {'type': 'typing.List[typing.Dict[str, typing.Any]]', 'receivers': []}}\u001b[0m\n",
            "DEBUG:haystack.tracing.logging_tracer:\u001b[1;31mhaystack.component.input={'system_prompt': None, 'streaming_callback': None, 'generation_kwargs': None, 'prompt': 'Given the information below: \\n\\n            \\n                Amazon.com: jingle bells. Skip to main content.us. ... Highly rated with a low unit price. CEWOR 200 Pieces Colorful Jingle Bells Bulk for Crafts (0.4/0.8/1 Inch) Small Bells DIY for Christmas Wreath Decoration Holiday Home and Pet Bells Crafting. ... Sooez Jingle Bells for Crafts, 100PCS 1inch Large Craft Bells with Crisp Sound, Colorful ...\\n                \\n                ---\\n            \\n                Amazon.com: jingle bells christmas. ... Price and other details may vary based on product size and color. Overall Pick. ... Jingle Bells for Crafts, 120 Pcs 1 Inch Christmas Jingle Bells, Bulk Sound Craft Bells for Christmas Home Festival Decorations DIY Project. 4.6 out of 5 stars. 728.\\n                \\n                ---\\n            \\n                Amazon.ca: christmas jingle bells. ... Price and other details may vary based on product size and colour. ... SAVITA 240Pcs Tiny Christmas Jingle Bells, DIY Craft Jingle Bells with 20m Red Rope for Wreath, Necklace Jewelry Making, Holiday Home Party Supplies (80Pcs Red, 80Pcs Gold, 80Pcs Green, 0.5inch) ...\\n                \\n                ---\\n            \\n                100pcs Christmas Jingle Bells, 0.5 Inch Small Christmas Jingle Bells Ornaments Multicolor Bells Jingle Bells Bulk for Wreath Jewelry Making Home Christmas Decoration(7 Colors) 4.5 out of 5 stars 22 $9.99 $ 9 . 99 ( $0.10 $0.10 /count)\\n                \\n                ---\\n            \\n                Amazon.ca: white jingle bells. ... Price and other details may vary based on product size and colour. uxcell Jingle Bells, 22mm 12pcs Craft Bells for DIY Holiday Decoration, Musical Party, Home, Festival, Wedding, White. 5.0 out of 5 stars 3. $14.19 $ 14. 19 ($1.18 $1.18 /Count)\\n                \\n                ---\\n            \\n            Answer question: What is the price of jingle bells on Amazon? Respond with minimal item name and minimum price.. \\n Answer:'}\u001b[0m\n",
            "DEBUG:haystack.tracing.logging_tracer:haystack.component.visits=1\u001b[0m\n",
            "DEBUG:haystack.tracing.logging_tracer:haystack.component.output={'replies': ['Jingle Bells, $9.99.'], 'meta': [{'model': 'gpt-4o-mini-2024-07-18', 'index': 0, 'finish_reason': 'stop', 'usage': {'completion_tokens': 10, 'prompt_tokens': 465, 'total_tokens': 475, 'completion_tokens_details': CompletionTokensDetails(accepted_prediction_tokens=0, audio_tokens=0, reasoning_tokens=0, rejected_prediction_tokens=0), 'prompt_tokens_details': PromptTokensDetails(audio_tokens=0, cached_tokens=0)}}]}\u001b[0m\n",
            "DEBUG:haystack.tracing.logging_tracer:Operation: haystack.pipeline.run\n",
            "DEBUG:haystack.tracing.logging_tracer:haystack.pipeline.input_data={'search': {'query': 'price of jingle bells on Amazon'}, 'prompt_builder': {'query': 'What is the price of jingle bells on Amazon? Respond with minimal item name and minimum price.', 'template': None, 'template_variables': None}}\u001b[0m\n",
            "DEBUG:haystack.tracing.logging_tracer:haystack.pipeline.output_data={'search': {'links': ['https://www.amazon.com/jingle-bells/s?k=jingle+bells', 'https://www.amazon.com/jingle-bells-christmas/s?k=jingle+bells+christmas', 'https://www.amazon.ca/christmas-jingle-bells/s?k=christmas+jingle+bells', 'https://www.amazon.ca/jingle-bells/s?k=jingle+bells', 'https://www.amazon.ca/white-jingle-bells/s?k=white+jingle+bells']}, 'llm': {'replies': ['Jingle Bells, $9.99.'], 'meta': [{'model': 'gpt-4o-mini-2024-07-18', 'index': 0, 'finish_reason': 'stop', 'usage': {'completion_tokens': 10, 'prompt_tokens': 465, 'total_tokens': 475, 'completion_tokens_details': CompletionTokensDetails(accepted_prediction_tokens=0, audio_tokens=0, reasoning_tokens=0, rejected_prediction_tokens=0), 'prompt_tokens_details': PromptTokensDetails(audio_tokens=0, cached_tokens=0)}}]}}\u001b[0m\n",
            "DEBUG:haystack.tracing.logging_tracer:haystack.pipeline.metadata={}\u001b[0m\n",
            "DEBUG:haystack.tracing.logging_tracer:haystack.pipeline.max_runs_per_component=100\u001b[0m\n"
          ]
        },
        {
          "name": "stdout",
          "output_type": "stream",
          "text": [
            "⌛ iterating...\n",
            "You are about to buy 50 units of jingle bells from Amazon for a total of $499.5. Are you sure you want to continue? (y/n)y\n",
            "⌛ iterating...\n",
            "🤖: Hooray! 🎉 We’ve successfully added 50 jingle bells to our inventory! Now the holiday spirit will definitely be ringing louder than ever! 🔔✨ \n",
            "\n",
            "If there's anything else we need to prepare for Christmas, just let me know! 🎄🎅\n",
            "\n",
            "\n",
            "waiting for input (type 'exit' or 'quit' to stop)\n",
            "🧝: quit\n"
          ]
        }
      ],
      "source": [
        "from haystack_experimental.components.generators.chat import OpenAIChatGenerator\n",
        "from haystack_experimental.components.tools.tool_invoker import ToolInvoker\n",
        "from haystack_experimental.dataclasses import ChatMessage\n",
        "\n",
        "tools = [lookup_item_in_inventory_tool, add_item_to_inventory_tool, inventory_summary_tool, take_from_inventory_tool, get_price_tool, buy_from_amazon_tool]\n",
        "\n",
        "chat_generator = OpenAIChatGenerator(tools=tools)\n",
        "\n",
        "tool_invoker = ToolInvoker(tools=tools)\n",
        "messages = [\n",
        "        ChatMessage.from_system(\n",
        "            \"\"\"You manage Santa Claus backoffice. Always talk with a XMAS tone and references. You are expected to talk with Santas elves.\n",
        "            Prepare a tool call if needed, otherwise use your knowledge to respond to the user.\n",
        "            If the invocation of a tool requires the result of another tool, prepare only one call at a time.\n",
        "\n",
        "            Each time you receive the result of a tool call, ask yourself: \"Am I done with the task?\".\n",
        "            If not and you need to invoke another tool, prepare the next tool call.\n",
        "            If you are done, respond with just the final result.\"\"\"\n",
        "        )\n",
        "    ]\n",
        "\n",
        "while True:\n",
        "    user_input = input(\"\\n\\nwaiting for input (type 'exit' or 'quit' to stop)\\n🧝: \")\n",
        "    if user_input.lower() == \"exit\" or user_input.lower() == \"quit\":\n",
        "        break\n",
        "    messages.append(ChatMessage.from_user(user_input))\n",
        "\n",
        "    while True:\n",
        "        print(\"⌛ iterating...\")\n",
        "\n",
        "        replies = chat_generator.run(messages=messages)[\"replies\"]\n",
        "        messages.extend(replies)\n",
        "\n",
        "        # Check for tool calls and handle them\n",
        "        if not replies[0].tool_calls:\n",
        "            break\n",
        "        tool_calls = replies[0].tool_calls\n",
        "\n",
        "        tool_messages = tool_invoker.run(messages=replies)[\"tool_messages\"]\n",
        "        messages.extend(tool_messages)\n",
        "\n",
        "\n",
        "    # Print the final AI response after all tool calls are resolved\n",
        "    print(f\"🤖: {messages[-1].text}\")"
      ]
    }
  ],
  "metadata": {
    "colab": {
      "provenance": [],
      "include_colab_link": true
    },
    "kernelspec": {
      "display_name": "Python 3",
      "name": "python3"
    },
    "language_info": {
      "name": "python"
    }
  },
  "nbformat": 4,
  "nbformat_minor": 0
}