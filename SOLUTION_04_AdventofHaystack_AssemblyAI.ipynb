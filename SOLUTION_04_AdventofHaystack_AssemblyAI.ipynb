{
  "nbformat": 4,
  "nbformat_minor": 0,
  "metadata": {
    "colab": {
      "provenance": [],
      "include_colab_link": true
    },
    "kernelspec": {
      "name": "python3",
      "display_name": "Python 3"
    },
    "language_info": {
      "name": "python"
    }
  },
  "cells": [
    {
      "cell_type": "markdown",
      "metadata": {
        "id": "view-in-github",
        "colab_type": "text"
      },
      "source": [
        "<a href=\"https://colab.research.google.com/github/muffafa/advent-of-haystack-2024-2025-solutions/blob/main/%5BSolution%5DAdventofHaystack_AssemblyAI.ipynb\" target=\"_parent\"><img src=\"https://colab.research.google.com/assets/colab-badge.svg\" alt=\"Open In Colab\"/></a>"
      ]
    },
    {
      "cell_type": "markdown",
      "source": [
        "# Advent of Haystack - Day 4\n",
        "\n",
        " <img src='https://drive.google.com/uc?export=view&id=18kEuBq-sX6-GKHpEfYQyo2hyE0fFWoI_' width=300px>\n",
        "\n",
        "## The Elf on a Mission: Sharing the Christmas Magic\n",
        "\n",
        "*At the North Pole, where magic and technology danced hand in hand, Santa was preparing for Christmas. In his workshop filled with glowing gadgets and humming machines, he summoned Elf Patrick, one of the most tech-savvy elves.*\n",
        "\n",
        "*“Elf Patrick,” Santa said with a chuckle, “this year, I want you to share the story of how I became Santa Claus. But here's the twist—you'll use coding to help you create the perfect versions of the story for all kinds of kids.”*\n",
        "\n",
        "*Elf Patrick's eyes sparkled. “Coding? That's my jam, Santa! I'll make sure your story is ready for everyone, no matter how they like it told!”*\n",
        "\n",
        "*Santa handed Elf Patrick the audio file. “Start by transcribing it, then simplify it, and finally, remix it into that fun Gen Z lingo I keep hearing about.”*\n",
        "\n",
        "*“Consider it done!” Elf Patrick declared, racing to the North Pole Coding Hub.*\n",
        "\n",
        "\n"
      ],
      "metadata": {
        "id": "J56MHmKkNy_Q"
      }
    },
    {
      "cell_type": "markdown",
      "source": [
        "## Preparations\n",
        "\n",
        "*To complete the task, you need to get two requirements for Elf Patrick:*\n",
        "\n",
        "- A free [AssemblyAI API key](https://www.assemblyai.com/dashboard/signup)\n",
        "- An LLM. Here we use an [OpenAI API key](https://platform.openai.com/), but you can choose any other LLM that is supported with [Haystack Generators](https://docs.haystack.deepset.ai/docs/generators)\n",
        "\n",
        "*Read the following resources to be prepared for the tasks:*\n",
        "- [Haystack docs - AssemblyAI integration](https://haystack.deepset.ai/integrations/assemblyai)\n",
        "- [Haystack docs - Creating pipelines](https://docs.haystack.deepset.ai/docs/creating-pipelines)"
      ],
      "metadata": {
        "id": "Dlk3Fvtap4vF"
      }
    },
    {
      "cell_type": "markdown",
      "source": [
        "## Task 1: Transcribing Santa's Story\n"
      ],
      "metadata": {
        "id": "EkAAtfdW_WGN"
      }
    },
    {
      "cell_type": "markdown",
      "source": [
        "*Elf Patrick plugged the audio file into the North Pole's enchanted computer, powered by both logic and Christmas magic. Elf Patrick knew [Haystack](https://haystack.deepset.ai/) in combination with the [assemblyai-haystack integration](https://github.com/AssemblyAI/assemblyai-haystack) would make this task easy. Before getting started, Elf Patrick needs to install the required packages and configure the AssemblyAI API key:*"
      ],
      "metadata": {
        "id": "KI2rnh-4Rs4Q"
      }
    },
    {
      "cell_type": "markdown",
      "source": [
        "**☝ TODO: Run the cells to install the packages and enter your AssemblyAI API key**"
      ],
      "metadata": {
        "id": "-zvbYToZyiFE"
      }
    },
    {
      "cell_type": "code",
      "execution_count": null,
      "metadata": {
        "id": "HjHQpUv9YM_Y"
      },
      "outputs": [],
      "source": [
        "%%bash\n",
        "pip install haystack-ai\n",
        "pip install assemblyai-haystack"
      ]
    },
    {
      "cell_type": "code",
      "source": [
        "from getpass import getpass\n",
        "\n",
        "ASSEMBLYAI_API_KEY = getpass(\"Enter AssemblyAI Api key: \")"
      ],
      "metadata": {
        "id": "Fwg_vRKlBBoA",
        "colab": {
          "base_uri": "https://localhost:8080/"
        },
        "outputId": "35a3972d-ada2-4d3b-db10-786aee8ac4bd"
      },
      "execution_count": null,
      "outputs": [
        {
          "name": "stdout",
          "output_type": "stream",
          "text": [
            "Enter AssemblyAI Api key: ··········\n"
          ]
        }
      ]
    },
    {
      "cell_type": "markdown",
      "source": [
        "*With a few lines of Python, the elf ran the `AssemblyAITranscriber` with the given audio file:*\n",
        "\n",
        "(Credits: The audio is from this [YouTube video](https://youtu.be/lrutxppbBQ8?si=80L9ULtVJD4mK9vc))"
      ],
      "metadata": {
        "id": "bGk0Al5HRydC"
      }
    },
    {
      "cell_type": "markdown",
      "source": [
        "**☝ TODO: Fill out the missing parts to create and run a transcriber instance. Then run the cell.**"
      ],
      "metadata": {
        "id": "MiBLZIFv0Cza"
      }
    },
    {
      "cell_type": "code",
      "source": [
        "from assemblyai_haystack.transcriber import AssemblyAITranscriber\n",
        "\n",
        "audio_file = \"https://assembly.ai/story-of-santa-claus.mp3\"\n",
        "\n",
        "######## Complete this section #############\n",
        "\n",
        "transcriber = AssemblyAITranscriber(api_key=ASSEMBLYAI_API_KEY)\n",
        "\n",
        "result = transcriber.run(file_path=audio_file)\n",
        "\n",
        "############################################"
      ],
      "metadata": {
        "id": "wgbG9-z-IBD2"
      },
      "execution_count": null,
      "outputs": []
    },
    {
      "cell_type": "markdown",
      "source": [
        "☝*Run the next cell. Soon, the screen lit up with the text of Santa's tale:*"
      ],
      "metadata": {
        "id": "kw2qkK_BR9Qr"
      }
    },
    {
      "cell_type": "code",
      "source": [
        "print(result[\"transcription\"][0].content)"
      ],
      "metadata": {
        "id": "ggBxoBEJJBzE",
        "colab": {
          "base_uri": "https://localhost:8080/"
        },
        "outputId": "d7379f02-ed37-4930-ddf0-49aa96521d5f"
      },
      "execution_count": null,
      "outputs": [
        {
          "output_type": "stream",
          "name": "stdout",
          "text": [
            "The Story of Santa Claus There once lived a wealthy and rich man named Nicholas who lived in the North Pole. He was a kind, generous man. Nicholas enjoyed surprising people, and he often did things to make others happy. Nicholas had a special hobby. He would carve out pretty wooden toys in his free time. But no one ever saw these toys. It was Christmas time, and Nicholas wanted to do something special for the children around him. While sitting in his chair one morning, he suddenly had an idea. Nicholas was going to carve many beautiful toys for all the little boys and girls. Christmas presents. He would go climb up the chimney of all the houses and drop presents into the stockings that hung near the fireplace. Late that night, while everyone slept, Nicholas crept towards a nearby house and climbed to the top of the roof. He threw a toy into the chimney and quickly climbed back down. Nicholas did this to several houses, but after some time he became tired. He quickly went back to his house and pulled out his sleigh and tied them to his reindeers. Nicholas set back out into the snow and cold, but not for long. His sleigh got stuck in the snow. Nicholas was trying to pull the reindeers out of the snow when suddenly an angel appeared. The angel said, nicholas, you are a good man and I want to help you. The angel touched the reindeers and said, now these reindeers are special. They will be able to fly. The angel then waved her hand and a group of small elves appear. They were dressed in green clothes, wore tall green hats and had long, funny ears. They will deliver gifts and bring happiness to many children. They are also fast and will help you make all kinds of toys. Nicholas was in shock, but was very, very happ. Everyone got into the sleigh and with one shake of the ropes, the reindeer took off into the sky, flying high to spread Christmas love and cheer. Nicholas said, merry Christmas to all and to all a good night. The next morning, the children woke up and ran to the fireplace. They pulled off the gifts from the stockings and screamed with joy. Mummy. Someone magically put a gift in our stocking. It's a beautiful toy. And that is the story of how Nicholas became Santa Claus. He now is the man we know on a Christmas long ago.\n"
          ]
        }
      ]
    },
    {
      "cell_type": "markdown",
      "source": [
        "*“Step one, complete!” Elf Patrick grinned. “The story is ready to read!”*"
      ],
      "metadata": {
        "id": "TWTvZDUSSFnv"
      }
    },
    {
      "cell_type": "markdown",
      "source": [
        "## Task 2: Summarizing Santa's Tale\n",
        "\n",
        "*Elf Patrick knew some kids wouldn’t want to sit through the whole story. “Time to code a quick summary!” The elf used the `summarization` feature of the `AssemblyAITranscriber` to make the story shorter:*"
      ],
      "metadata": {
        "id": "9kmvxy-WjvuW"
      }
    },
    {
      "cell_type": "markdown",
      "source": [
        "**☝ TODO: Run the transcriber again and fill out the missing parts to enable summarization**"
      ],
      "metadata": {
        "id": "lwR72hgZ0K7y"
      }
    },
    {
      "cell_type": "code",
      "source": [
        "######## Complete this section #############\n",
        "\n",
        "result = transcriber.run(\n",
        "    file_path=audio_file,\n",
        "    summarization=True\n",
        ")\n",
        "\n",
        "############################################\n",
        "\n",
        "print(result[\"summarization\"][0].content)\n",
        "\n",
        "# The transcript can be accessed the same way as before:\n",
        "# print(result[\"transcription\"][0].content)"
      ],
      "metadata": {
        "id": "mUFMIVq8IyYs",
        "colab": {
          "base_uri": "https://localhost:8080/"
        },
        "outputId": "c66cabf6-c5d3-43d5-d3c6-fc1038ff2a1e"
      },
      "execution_count": null,
      "outputs": [
        {
          "output_type": "stream",
          "name": "stdout",
          "text": [
            "- The Story of Santa Claus. There once lived a wealthy and rich man named Nicholas who lived in the North Pole. He would climb up the chimney of all the houses and drop presents into the stockings that hung near the fireplace. The next morning, the children woke up and ran to the fireplace to find gifts.\n"
          ]
        }
      ]
    },
    {
      "cell_type": "markdown",
      "source": [
        "*The output appeared. Elf Patrick nodded, satisfied. “That's perfect for the kids who just want the highlights!”*"
      ],
      "metadata": {
        "id": "FGPnkn6USheU"
      }
    },
    {
      "cell_type": "markdown",
      "source": [
        "## Task 3: Rewriting for Gen Z Kids\n",
        "\n",
        "*Finally, Elf Patrick tackled the most creative part: making Santa's story fun and relatable for today's kids. “Time to bring in some humor!” Using an LLM and a Haystack pipeline, the elf coded this quirky transformation:*"
      ],
      "metadata": {
        "id": "snOZOzIIj1U8"
      }
    },
    {
      "cell_type": "markdown",
      "source": [
        "**☝ TODO: Run the cell and enter your OpenAI API key**"
      ],
      "metadata": {
        "id": "Rd-n4K-e0fCL"
      }
    },
    {
      "cell_type": "code",
      "source": [
        "from getpass import getpass\n",
        "\n",
        "OPENAI_API_KEY = getpass(\"Enter OpenAI Api key: \")"
      ],
      "metadata": {
        "id": "o2blMx9u6Bqq",
        "colab": {
          "base_uri": "https://localhost:8080/"
        },
        "outputId": "36cd9341-d3b6-428d-ed11-68ab6143ae06"
      },
      "execution_count": null,
      "outputs": [
        {
          "name": "stdout",
          "output_type": "stream",
          "text": [
            "Enter OpenAI Api key: ··········\n"
          ]
        }
      ]
    },
    {
      "cell_type": "markdown",
      "source": [
        "**☝ TODO: Set up the pipeline and fill out the missing parts**"
      ],
      "metadata": {
        "id": "JYdFp8vW5w3X"
      }
    },
    {
      "cell_type": "code",
      "source": [
        "from assemblyai_haystack.transcriber import AssemblyAITranscriber\n",
        "from haystack import Pipeline\n",
        "from haystack.utils import Secret\n",
        "from haystack.components.builders import PromptBuilder\n",
        "from haystack.components.generators import OpenAIGenerator\n",
        "\n",
        "# Setting up the prompt, the transcriber, and the llm:\n",
        "template = \"\"\"\n",
        "Modify the tone of the transcribed story and transform it into Gen Z language.\n",
        "Return only the modified story without a preface.\n",
        "\n",
        "Transcript:\n",
        "{{transcription}}\n",
        "\"\"\"\n",
        "\n",
        "prompt_builder = PromptBuilder(template=template)\n",
        "\n",
        "transcriber = AssemblyAITranscriber(api_key=ASSEMBLYAI_API_KEY)\n",
        "\n",
        "llm = OpenAIGenerator(model=\"gpt-4o-mini\",\n",
        "                      api_key=Secret.from_token(OPENAI_API_KEY))\n",
        "\n",
        "######## Complete this section #############\n",
        "\n",
        "pipe = Pipeline()\n",
        "pipe.add_component(\"transcriber\", transcriber)\n",
        "pipe.add_component(\"prompt_builder\", prompt_builder)\n",
        "pipe.add_component(\"llm\", llm)\n",
        "\n",
        "pipe.connect(\"transcriber.transcription\", \"prompt_builder.transcription\")\n",
        "pipe.connect(\"prompt_builder\", \"llm\")\n",
        "\n",
        "############################################"
      ],
      "metadata": {
        "id": "RGayaRaCa4C-",
        "colab": {
          "base_uri": "https://localhost:8080/"
        },
        "outputId": "06666c06-d31b-4a04-cc38-d4aa8583a912"
      },
      "execution_count": null,
      "outputs": [
        {
          "output_type": "execute_result",
          "data": {
            "text/plain": [
              "<haystack.core.pipeline.pipeline.Pipeline object at 0x7a01a0fd7bb0>\n",
              "🚅 Components\n",
              "  - transcriber: AssemblyAITranscriber\n",
              "  - prompt_builder: PromptBuilder\n",
              "  - llm: OpenAIGenerator\n",
              "🛤️ Connections\n",
              "  - transcriber.transcription -> prompt_builder.transcription (List[Document])\n",
              "  - prompt_builder.prompt -> llm.prompt (str)"
            ]
          },
          "metadata": {},
          "execution_count": 8
        }
      ]
    },
    {
      "cell_type": "markdown",
      "source": [
        "*After the Pipeline was configured, Elf Patrick could run the whole pipeline and review the final output:*\n",
        "\n",
        "☝Run the next cell."
      ],
      "metadata": {
        "id": "ULLMbAhOS3r1"
      }
    },
    {
      "cell_type": "code",
      "source": [
        "audio_file = \"https://assembly.ai/story-of-santa-claus.mp3\"\n",
        "res = pipe.run(\n",
        "    {\n",
        "        \"transcriber\": {\n",
        "            \"file_path\": audio_file,\n",
        "        }\n",
        "    }\n",
        ")\n",
        "\n",
        "print(res[\"llm\"][\"replies\"][0])"
      ],
      "metadata": {
        "id": "DfHbUO6GyLIs",
        "colab": {
          "base_uri": "https://localhost:8080/"
        },
        "outputId": "41251891-2471-42b5-d397-6d8b56f30af8"
      },
      "execution_count": null,
      "outputs": [
        {
          "output_type": "stream",
          "name": "stdout",
          "text": [
            "Yo, check it! \n",
            "\n",
            "So, there was this mega-rich dude named Nicholas, right? He was vibin’ in the North Pole, living his best life. This guy was all about spreading that good energy, low-key a legend in his own right. He’d roll up with mad gifts for all the good kiddos, like “Here’s some fire stuff, you’ve earned it!” The holiday cheer was always on point with him around. \n",
            "\n",
            "He had this crew of elves—like, bestie squad goals—helping him whip up all the cool toys. And they’d all pull up in their sleigh to deliver presents, making sure every fam got some love. \n",
            "\n",
            "So, every Christmas, the hype was real. Kids would be staying up late, trying to catch a glimpse of him, but he was like, “Nah fam, I’m ghosting.” He’d just slide through, leaving gifts like a total G, spreading that joy and all.\n",
            "\n",
            "And just like that, Santa became the ultimate symbol of good vibes and giving. It’s like he’s out here reminding us that the real flex is sharing love and kindness. Major W for Nicholas, am I right? 🎅✨\n"
          ]
        }
      ]
    },
    {
      "cell_type": "markdown",
      "source": [
        "* **bold text**Elf Patrick giggled. “This will be a hit!”*"
      ],
      "metadata": {
        "id": "ch2snOAmS6zC"
      }
    },
    {
      "cell_type": "markdown",
      "source": [
        "## Conclusion\n",
        "\n",
        "*Elf Patrick presented the outputs to Santa:*\n",
        "\n",
        "1. *The Full Story - Transcribed using the [assemblyai-haystack integration](https://github.com/AssemblyAI/assemblyai-haystack) and the `AssemblyAITranscriber`*.\n",
        "2. *The Summary - Also created with the `AssemblyAITranscriber` and `summarization` enabled.*\n",
        "3. *The Gen Z Remix - Generated with a Haystack pipeline consisting of the transcriber, a prompt builder, and an LLM generator.*\n",
        "\n",
        "*Santa read through each version, his cheeks glowing with pride. “Elf Patrick, you've done a wonderful job. You've used your coding skills to make the magic of Christmas accessible to every child. That's the true spirit of the season!”*\n",
        "\n",
        "*Elf Patrick beamed, “Anything for Christmas, Santa!”*\n",
        "\n",
        "*With the stories loaded onto Elf Patrick's USB drive, the elf set off to share Santa's tale with kids around the world. Using their storytelling program, Elf Patrick spread joy, laughter, and a little Christmas coding magic wherever they went.*\n",
        "\n",
        "*The end.*\n",
        "\n",
        " <img src='https://drive.google.com/uc?export=view&id=1H7GdZJJZ0Mp3QOEE1tZVz5LvkRQuCJGd' width=300px>\n"
      ],
      "metadata": {
        "id": "vjMY8UaGTEhJ"
      }
    }
  ]
}
