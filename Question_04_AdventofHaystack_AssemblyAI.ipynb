{
  "nbformat": 4,
  "nbformat_minor": 0,
  "metadata": {
    "colab": {
      "provenance": [],
      "include_colab_link": true
    },
    "kernelspec": {
      "name": "python3",
      "display_name": "Python 3"
    },
    "language_info": {
      "name": "python"
    }
  },
  "cells": [
    {
      "cell_type": "markdown",
      "metadata": {
        "id": "view-in-github",
        "colab_type": "text"
      },
      "source": [
        "<a href=\"https://colab.research.google.com/github/muffafa/advent-of-haystack-2024-2025-solutions/blob/main/Question_04_AdventofHaystack_AssemblyAI.ipynb\" target=\"_parent\"><img src=\"https://colab.research.google.com/assets/colab-badge.svg\" alt=\"Open In Colab\"/></a>"
      ]
    },
    {
      "cell_type": "markdown",
      "source": [
        "# Advent of Haystack - Day 4\n",
        "\n",
        "\n",
        "\n",
        " <img src='https://drive.google.com/uc?export=view&id=18kEuBq-sX6-GKHpEfYQyo2hyE0fFWoI_' width=300px>\n",
        "\n",
        "## The Elf on a Mission: Sharing the Christmas Magic\n",
        "***Make a copy of this Colab to start***\n",
        "\n",
        "*At the North Pole, where magic and technology danced hand in hand, Santa was preparing for Christmas. In his workshop filled with glowing gadgets and humming machines, he summoned Elf Patrick, one of the most tech-savvy elves.*\n",
        "\n",
        "*“Elf Patrick,” Santa said with a chuckle, “this year, I want you to share the story of how I became Santa Claus. But here's the twist—you'll use coding to help you create the perfect versions of the story for all kinds of kids.”*\n",
        "\n",
        "*Elf Patrick's eyes sparkled. “Coding? That's my jam, Santa! I'll make sure your story is ready for everyone, no matter how they like it told!”*\n",
        "\n",
        "*Santa handed Elf Patrick the audio file. “Start by transcribing it, then simplify it, and finally, remix it into that fun Gen Z lingo I keep hearing about.”*\n",
        "\n",
        "*“Consider it done!” Elf Patrick declared, racing to the North Pole Coding Hub.*\n",
        "\n",
        "\n"
      ],
      "metadata": {
        "id": "J56MHmKkNy_Q"
      }
    },
    {
      "cell_type": "markdown",
      "source": [
        "## Preparations\n",
        "\n",
        "*To complete the task, you need to get two requirements for Elf Patrick:*\n",
        "\n",
        "- A free [AssemblyAI API key](https://www.assemblyai.com/dashboard/signup)\n",
        "- An LLM. Here we use an [OpenAI API key](https://platform.openai.com/), but you can choose any other LLM that is supported with [Haystack Generators](https://docs.haystack.deepset.ai/docs/generators)\n",
        "\n",
        "*Read the following resources to be prepared for the tasks:*\n",
        "- [Haystack docs - AssemblyAI integration](https://haystack.deepset.ai/integrations/assemblyai)\n",
        "- [Haystack docs - Creating pipelines](https://docs.haystack.deepset.ai/docs/creating-pipelines)"
      ],
      "metadata": {
        "id": "Dlk3Fvtap4vF"
      }
    },
    {
      "cell_type": "markdown",
      "source": [
        "## Task 1: Transcribing Santa's Story\n"
      ],
      "metadata": {
        "id": "EkAAtfdW_WGN"
      }
    },
    {
      "cell_type": "markdown",
      "source": [
        "*Elf Patrick plugged the audio file into the North Pole's enchanted computer, powered by both logic and Christmas magic. Elf Patrick knew [Haystack](https://haystack.deepset.ai/) in combination with the [assemblyai-haystack integration](https://github.com/AssemblyAI/assemblyai-haystack) would make this task easy. Before getting started, Elf Patrick needs to install the required packages and configure the AssemblyAI API key:*"
      ],
      "metadata": {
        "id": "KI2rnh-4Rs4Q"
      }
    },
    {
      "cell_type": "markdown",
      "source": [
        "**☝ TODO: Run the cells to install the packages and enter your AssemblyAI API key**"
      ],
      "metadata": {
        "id": "-zvbYToZyiFE"
      }
    },
    {
      "cell_type": "code",
      "execution_count": null,
      "metadata": {
        "id": "HjHQpUv9YM_Y"
      },
      "outputs": [],
      "source": [
        "%%bash\n",
        "pip install haystack-ai\n",
        "pip install assemblyai-haystack\n",
        "pip install -q --upgrade openai # not to get the OpenAI proxies error: https://community.openai.com/t/error-with-openai-1-56-0-client-init-got-an-unexpected-keyword-argument-proxies/1040332/2"
      ]
    },
    {
      "cell_type": "code",
      "source": [
        "from getpass import getpass\n",
        "\n",
        "ASSEMBLYAI_API_KEY = getpass(\"Enter AssemblyAI Api key: \")"
      ],
      "metadata": {
        "id": "Fwg_vRKlBBoA"
      },
      "execution_count": null,
      "outputs": []
    },
    {
      "cell_type": "markdown",
      "source": [
        "*With a few lines of Python, the elf ran the `AssemblyAITranscriber` with the given audio file:*\n",
        "\n",
        "(Credits: The audio is from this [YouTube video](https://youtu.be/lrutxppbBQ8?si=80L9ULtVJD4mK9vc))"
      ],
      "metadata": {
        "id": "bGk0Al5HRydC"
      }
    },
    {
      "cell_type": "markdown",
      "source": [
        "**☝ TODO: Fill out the missing parts to create and run a transcriber instance. Then run the cell.**"
      ],
      "metadata": {
        "id": "MiBLZIFv0Cza"
      }
    },
    {
      "cell_type": "code",
      "source": [
        "from assemblyai_haystack.transcriber import AssemblyAITranscriber\n",
        "\n",
        "audio_file = \"https://assembly.ai/story-of-santa-claus.mp3\"\n",
        "\n",
        "######## Complete this section #############\n",
        "\n",
        "transcriber = # TODO: Create a transcriber instance with the api_key configured\n",
        "\n",
        "result = transcriber.run(...)  # TODO: Pass in the audio_file\n",
        "\n",
        "############################################"
      ],
      "metadata": {
        "id": "wgbG9-z-IBD2"
      },
      "execution_count": null,
      "outputs": []
    },
    {
      "cell_type": "markdown",
      "source": [
        "☝*Run the next cell. Soon, the screen lit up with the text of Santa's tale:*"
      ],
      "metadata": {
        "id": "kw2qkK_BR9Qr"
      }
    },
    {
      "cell_type": "code",
      "source": [
        "print(result[\"transcription\"][0].content)"
      ],
      "metadata": {
        "id": "ggBxoBEJJBzE"
      },
      "execution_count": null,
      "outputs": []
    },
    {
      "cell_type": "markdown",
      "source": [
        "*“Step one, complete!” Elf Patrick grinned. “The story is ready to read!”*"
      ],
      "metadata": {
        "id": "TWTvZDUSSFnv"
      }
    },
    {
      "cell_type": "markdown",
      "source": [
        "## Task 2: Summarizing Santa's Tale\n",
        "\n",
        "*Elf Patrick knew some kids wouldn’t want to sit through the whole story. “Time to code a quick summary!” The elf used the `summarization` feature of the `AssemblyAITranscriber` to make the story shorter:*"
      ],
      "metadata": {
        "id": "9kmvxy-WjvuW"
      }
    },
    {
      "cell_type": "markdown",
      "source": [
        "**☝ TODO: Run the transcriber again and fill out the missing parts to enable summarization**"
      ],
      "metadata": {
        "id": "lwR72hgZ0K7y"
      }
    },
    {
      "cell_type": "code",
      "source": [
        "######## Complete this section #############\n",
        "\n",
        "result = transcriber.run(\n",
        "    ...,  # TODO: Pass in the audio_file\n",
        "    ...   # TODO: Enable summarization\n",
        ")\n",
        "############################################\n",
        "\n",
        "print(result[\"summarization\"][0].content)\n",
        "\n",
        "# The transcript can be accessed the same way as before:\n",
        "# print(result[\"transcription\"][0].content)"
      ],
      "metadata": {
        "id": "mUFMIVq8IyYs"
      },
      "execution_count": null,
      "outputs": []
    },
    {
      "cell_type": "markdown",
      "source": [
        "*The output appeared. Elf Patrick nodded, satisfied. “That's perfect for the kids who just want the highlights!”*"
      ],
      "metadata": {
        "id": "FGPnkn6USheU"
      }
    },
    {
      "cell_type": "markdown",
      "source": [
        "## Task 3: Rewriting for Gen Z Kids\n",
        "\n",
        "*Finally, Elf Patrick tackled the most creative part: making Santa's story fun and relatable for today's kids. “Time to bring in some humor!” Using an LLM and a Haystack pipeline, the elf coded this quirky transformation:*"
      ],
      "metadata": {
        "id": "snOZOzIIj1U8"
      }
    },
    {
      "cell_type": "markdown",
      "source": [
        "**☝ TODO: Run the cell and enter your OpenAI API key**\n",
        "\n",
        "or you can use other [Haystack Generators](https://docs.haystack.deepset.ai/docs/generators)"
      ],
      "metadata": {
        "id": "Rd-n4K-e0fCL"
      }
    },
    {
      "cell_type": "code",
      "source": [
        "from getpass import getpass\n",
        "import os\n",
        "\n",
        "os.environ[\"OPENAI_API_KEY\"] = getpass(\"Enter OpenAI Api key: \")"
      ],
      "metadata": {
        "id": "o2blMx9u6Bqq"
      },
      "execution_count": null,
      "outputs": []
    },
    {
      "cell_type": "markdown",
      "source": [
        "**☝ TODO: Set up the pipeline and fill out the missing parts**"
      ],
      "metadata": {
        "id": "JYdFp8vW5w3X"
      }
    },
    {
      "cell_type": "code",
      "source": [
        "from assemblyai_haystack.transcriber import AssemblyAITranscriber\n",
        "from haystack import Pipeline\n",
        "from haystack.utils import Secret\n",
        "from haystack.components.builders import PromptBuilder\n",
        "from haystack.components.generators import OpenAIGenerator\n",
        "\n",
        "# Setting up the prompt, the transcriber, and the llm:\n",
        "template = \"\"\"\n",
        "Modify the tone of the transcribed story and transform it into Gen Z language.\n",
        "Return only the modified story without a preface.\n",
        "\n",
        "Transcript:\n",
        "{{transcription}}\n",
        "\"\"\"\n",
        "\n",
        "prompt_builder = PromptBuilder(template=template)\n",
        "\n",
        "transcriber = AssemblyAITranscriber(api_key=ASSEMBLYAI_API_KEY)\n",
        "\n",
        "llm = OpenAIGenerator(model=\"gpt-4o-mini\",\n",
        "                      api_key=Secret.from_token(OPENAI_API_KEY))\n",
        "\n",
        "######## Complete this section #############\n",
        "\n",
        "pipe = Pipeline()\n",
        "pipe.add_component(\"transcriber\", transcriber)\n",
        "pipe.add_component(...)  # TODO: Add the prompt_builder\n",
        "pipe.add_component(...)  # TODO: Add the llm\n",
        "\n",
        "\n",
        "pipe.connect(\"transcriber.transcription\", \"prompt_builder.transcription\")\n",
        "pipe.connect(...)  # TODO: Connect the prompt_builder to the llm. Tip: There's only one output and input for the two components, so you can just pass their names\n",
        "\n",
        "############################################"
      ],
      "metadata": {
        "id": "RGayaRaCa4C-"
      },
      "execution_count": null,
      "outputs": []
    },
    {
      "cell_type": "markdown",
      "source": [
        "*After the Pipeline was configured, Elf Patrick could run the whole pipeline and review the final output:*\n",
        "\n",
        "☝Run the next cell."
      ],
      "metadata": {
        "id": "ULLMbAhOS3r1"
      }
    },
    {
      "cell_type": "code",
      "source": [
        "audio_file = \"https://assembly.ai/story-of-santa-claus.mp3\"\n",
        "res = pipe.run(\n",
        "    {\n",
        "        \"transcriber\": {\n",
        "            \"file_path\": audio_file,\n",
        "        }\n",
        "    }\n",
        ")\n",
        "\n",
        "print(res[\"llm\"][\"replies\"][0])"
      ],
      "metadata": {
        "id": "DfHbUO6GyLIs"
      },
      "execution_count": null,
      "outputs": []
    },
    {
      "cell_type": "markdown",
      "source": [
        "*Elf Patrick giggled. “This will be a hit!”*"
      ],
      "metadata": {
        "id": "ch2snOAmS6zC"
      }
    },
    {
      "cell_type": "markdown",
      "source": [
        "## Conclusion\n",
        "\n",
        "*Elf Patrick presented the outputs to Santa:*\n",
        "\n",
        "1. *The Full Story - Transcribed using the [assemblyai-haystack integration](https://github.com/AssemblyAI/assemblyai-haystack) and the `AssemblyAITranscriber`*.\n",
        "2. *The Summary - Also created with the `AssemblyAITranscriber` and `summarization` enabled.*\n",
        "3. *The Gen Z Remix - Generated with a Haystack pipeline consisting of the transcriber, a prompt builder, and an LLM generator.*\n",
        "\n",
        "*Santa read through each version, his cheeks glowing with pride. “Elf Patrick, you've done a wonderful job. You've used your coding skills to make the magic of Christmas accessible to every child. That's the true spirit of the season!”*\n",
        "\n",
        "*Elf Patrick beamed, “Anything for Christmas, Santa!”*\n",
        "\n",
        "*With the stories loaded onto Elf Patrick's USB drive, the elf set off to share Santa's tale with kids around the world. Using their storytelling program, Elf Patrick spread joy, laughter, and a little Christmas coding magic wherever they went.*\n",
        "\n",
        "*The end.*\n",
        "\n",
        " <img src='https://drive.google.com/uc?export=view&id=1H7GdZJJZ0Mp3QOEE1tZVz5LvkRQuCJGd' width=300px>\n"
      ],
      "metadata": {
        "id": "vjMY8UaGTEhJ"
      }
    }
  ]
}