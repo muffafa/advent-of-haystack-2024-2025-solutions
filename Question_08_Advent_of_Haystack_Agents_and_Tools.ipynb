{
  "nbformat": 4,
  "nbformat_minor": 0,
  "metadata": {
    "colab": {
      "provenance": []
    },
    "kernelspec": {
      "name": "python3",
      "display_name": "Python 3"
    },
    "language_info": {
      "name": "python"
    }
  },
  "cells": [
    {
      "cell_type": "markdown",
      "source": [
        "# Advent of Haystack: Day 8\n",
        "_Make a copy of this Colab to start!_\n",
        "\n",
        "In this challenge, we will create an Agent for Santa's backoffice: a powerful assistant capable of answering questions about the gift inventory, tracking items taken for delivery, and purchasing new ones.\n",
        "\n",
        "We will use several Haystack components, focusing primarily on the new experimental **🛠️ Tool support** (which will soon be merged into the main repository).\n",
        "It's not completely documented yet, but you can find the most important information in this [GitHub discussion](https://github.com/deepset-ai/haystack-experimental/discussions/98).\n",
        "\n",
        "**Some Useful Components**\n",
        "* [DuckduckgoApiWebSearch](https://haystack.deepset.ai/integrations/duckduckgo-api-websearch) or another [WebSearch](https://docs.haystack.deepset.ai/docs/websearch) component\n",
        "* [PromptBuilder](https://docs.haystack.deepset.ai/docs/promptbuilder)\n",
        "* [OpenAIGenerator](https://docs.haystack.deepset.ai/docs/openaigenerator) or any other `Generator`\n",
        "* 🧪 [OpenAIChatGenerator](https://github.com/deepset-ai/haystack-experimental/blob/813157dd75cc95275c51d90bc6cfb7382d88ccc2/haystack_experimental/components/generators/chat/openai.py#L88)\n",
        "* 🧪 [ToolInvoker](https://docs.haystack.deepset.ai/reference/experimental-tools-api#toolinvoker)"
      ],
      "metadata": {
        "id": "JN0leM93chKG"
      }
    },
    {
      "cell_type": "markdown",
      "source": [
        "## 1) Installation"
      ],
      "metadata": {
        "id": "AXQ6jIJmeo8X"
      }
    },
    {
      "cell_type": "code",
      "execution_count": null,
      "metadata": {
        "id": "EzNLQp9gbzBA"
      },
      "outputs": [],
      "source": [
        "! pip install -U openai haystack-ai duckduckgo-api-haystack"
      ]
    },
    {
      "cell_type": "markdown",
      "source": [
        "## 2) Enter your API key\n",
        "\n",
        "Enter your OpenAI API key to use the `OpenAIGenerator` and `OpenAIChatGenerator`. Alternatively, you can explore and use other [Generators](https://docs.haystack.deepset.ai/docs/generators) with different models and providers."
      ],
      "metadata": {
        "id": "GNkH92d4e5F1"
      }
    },
    {
      "cell_type": "code",
      "source": [
        "from getpass import getpass\n",
        "import os\n",
        "\n",
        "os.environ[\"OPENAI_API_KEY\"] = getpass(\"Enter OpenAI API key:\")"
      ],
      "metadata": {
        "colab": {
          "base_uri": "https://localhost:8080/"
        },
        "id": "QkHjTtt5e-tK",
        "outputId": "e4b5fc09-639f-4455-adbd-3abb2f0b4548"
      },
      "execution_count": null,
      "outputs": [
        {
          "name": "stdout",
          "output_type": "stream",
          "text": [
            "Enter OpenAI API key:··········\n"
          ]
        }
      ]
    },
    {
      "cell_type": "markdown",
      "source": [
        "### (Optional) Setup the `LoggingTracer`\n",
        "\n",
        "We recently introduced [Real-Time Pipeline Logging](https://docs.haystack.deepset.ai/docs/logging#real-time-pipeline-logging), that allows to easily inspect the data that's flowing through your pipelines. Particularly helpful during experimentation with complex pipelines."
      ],
      "metadata": {
        "id": "AtA5-wyee8sr"
      }
    },
    {
      "cell_type": "code",
      "source": [
        "import logging\n",
        "from haystack import tracing\n",
        "from haystack.tracing.logging_tracer import LoggingTracer\n",
        "\n",
        "logging.basicConfig(format=\"%(levelname)s - %(name)s -  %(message)s\", level=logging.WARNING)\n",
        "logging.getLogger(\"haystack\").setLevel(logging.DEBUG)\n",
        "\n",
        "tracing.tracer.is_content_tracing_enabled = True # to enable tracing/logging content (inputs/outputs)\n",
        "tracing.enable_tracing(LoggingTracer(tags_color_strings={\"haystack.component.input\": \"\\x1b[1;31m\", \"haystack.component.name\": \"\\x1b[1;34m\"}))"
      ],
      "metadata": {
        "id": "Z-YMiEcEYmvb"
      },
      "execution_count": null,
      "outputs": []
    },
    {
      "cell_type": "markdown",
      "source": [
        "## 3) Populate the inventory\n",
        "\n",
        "In this section, we use a simple Haystack [`InMemoryDocumentStore`](https://docs.haystack.deepset.ai/docs/inmemorydocumentstore) as our inventory.\n",
        "The gift/items will be `Documents`."
      ],
      "metadata": {
        "id": "CYn2RbbKfmJ_"
      }
    },
    {
      "cell_type": "code",
      "source": [
        "from haystack.document_stores.in_memory import InMemoryDocumentStore\n",
        "from haystack import Document\n",
        "\n",
        "document_store = InMemoryDocumentStore()"
      ],
      "metadata": {
        "id": "Wct4tIWDcY5n"
      },
      "execution_count": null,
      "outputs": []
    },
    {
      "cell_type": "code",
      "source": [
        "documents = [\n",
        "    Document(content=\"LEGO Star Wars Set\", meta={\"units\": 3456, \"origin\": \"Amazon\", \"description\": \"Amazon\"}),\n",
        "    Document(content=\"Wooden Sailboat\", meta={\"units\": 124, \"origin\": \"handmade\", \"description\": \"Handmade\"}),\n",
        "    Document(content=\"Nintendo Switch\", meta={\"units\": 2189, \"origin\": \"Amazon\", \"description\": \"Amazon\"}),\n",
        "    Document(content=\"Hand-Knitted Teddy Bear\", meta={\"units\": 233, \"origin\": \"handmade\", \"description\": \"Handmade\"}),\n",
        "    Document(content=\"Barbie Dreamhouse\", meta={\"units\": 1673, \"origin\": \"Amazon\", \"description\": \"Amazon\"}),\n",
        "    Document(content=\"Carved Wooden Puzzle\", meta={\"units\": 179, \"origin\": \"handmade\", \"description\": \"Handmade\"}),\n",
        "    Document(content=\"Remote Control Drone\", meta={\"units\": 1542, \"origin\": \"Amazon\", \"description\": \"Amazon\"}),\n",
        "    Document(content=\"Painted Rocking Horse\", meta={\"units\": 93, \"origin\": \"handmade\", \"description\": \"Handmade\"}),\n",
        "    Document(content=\"Science Experiment Kit\", meta={\"units\": 2077, \"origin\": \"Amazon\", \"description\": \"Amazon\"}),\n",
        "    Document(content=\"Miniature Dollhouse\", meta={\"units\": 110, \"origin\": \"handmade\", \"description\": \"Handmade\"}),\n",
        "    Document(content=\"Nerf Blaster\", meta={\"units\": 2731, \"origin\": \"Amazon\", \"description\": \"Amazon\"}),\n",
        "    Document(content=\"Interactive Robot Pet\", meta={\"units\": 1394, \"origin\": \"Amazon\", \"description\": \"Amazon\"})\n",
        "]"
      ],
      "metadata": {
        "id": "HHtwQNBefFyt"
      },
      "execution_count": null,
      "outputs": []
    },
    {
      "cell_type": "code",
      "source": [
        "document_store.write_documents(documents)"
      ],
      "metadata": {
        "colab": {
          "base_uri": "https://localhost:8080/"
        },
        "id": "3IeHPXMVfI3B",
        "outputId": "934901c2-d879-401c-f2c5-4e87739fa0dc"
      },
      "execution_count": null,
      "outputs": [
        {
          "output_type": "execute_result",
          "data": {
            "text/plain": [
              "12"
            ]
          },
          "metadata": {},
          "execution_count": 5
        }
      ]
    },
    {
      "cell_type": "markdown",
      "source": [
        "## 4) Tools\n",
        "\n",
        "Our Santa's backoffice Agent need several Tools to work, each one with its specific action:\n",
        "- look up an item in inventory\n",
        "- add item to inventory\n",
        "- take item from inventory\n",
        "- inventory summary\n",
        "- get price of a new item\n",
        "- buy a new item\n",
        "\n",
        "We are going to create them, with your help.\n",
        "For an introduction to Tools, check out [Cookbook: Define & Run Tools](https://haystack.deepset.ai/cookbook/tools_support)."
      ],
      "metadata": {
        "id": "eMgGzNMpgeJl"
      }
    },
    {
      "cell_type": "markdown",
      "source": [
        "### Lookup tool\n",
        "\n",
        "This is used to find if an item is present in the inventory.\n",
        "We will use a [`InMemoryBM25Retriever`](https://docs.haystack.deepset.ai/docs/inmemorybm25retriever) to allow also not exact matches."
      ],
      "metadata": {
        "id": "oDwobQkKkAqa"
      }
    },
    {
      "cell_type": "code",
      "source": [
        "from haystack_experimental.dataclasses import Tool\n",
        "from typing import Annotated, Literal\n",
        "\n",
        "from haystack.components.retrievers.in_memory import InMemoryBM25Retriever\n",
        "retriever = InMemoryBM25Retriever(document_store=document_store, top_k=3)"
      ],
      "metadata": {
        "id": "1v14MOGMfKrP"
      },
      "execution_count": null,
      "outputs": []
    },
    {
      "cell_type": "markdown",
      "source": [
        "After creating the retriever, we define a function that converts the search results to text, ready to be crunched by Language Models.\n",
        "\n",
        "As you can notice, we annotate the arguments in the function signature and provide a detailed docstring to make the conversion to a Tool seamless.\n",
        "To learn this trick, take a look at the [Newsletter Sending Agent notebook](https://haystack.deepset.ai/cookbook/newsletter-agent#extras-converting-tools)."
      ],
      "metadata": {
        "id": "qzf8-ZDqkaBY"
      }
    },
    {
      "cell_type": "code",
      "source": [
        "def lookup_item_in_inventory(item_name: Annotated[str, \"The item name to search\"]):\n",
        "  \"\"\"\n",
        "  Look up an item in the inventory.\n",
        "  \"\"\"\n",
        "  result = retriever.run(query=item_name)\n",
        "  text = \"\"\n",
        "  for doc in result[\"documents\"]:\n",
        "      text += f\"found item: {doc.content}; units: {doc.meta['units']}; matching score: {doc.score}\\n\"\n",
        "  return text\n"
      ],
      "metadata": {
        "id": "FzYuvRRYfUle"
      },
      "execution_count": null,
      "outputs": []
    },
    {
      "cell_type": "code",
      "source": [
        "print(lookup_item_in_inventory(item_name=\"lego\"))"
      ],
      "metadata": {
        "id": "apYyXTGSf7kC"
      },
      "execution_count": null,
      "outputs": []
    },
    {
      "cell_type": "code",
      "source": [
        "lookup_item_in_inventory_tool=Tool.from_function(lookup_item_in_inventory)"
      ],
      "metadata": {
        "id": "a11KClpGf-qT"
      },
      "execution_count": null,
      "outputs": []
    },
    {
      "cell_type": "code",
      "source": [
        "print(lookup_item_in_inventory_tool.invoke(item_name=\"lego\"))"
      ],
      "metadata": {
        "id": "B57fRNH1lrgP"
      },
      "execution_count": null,
      "outputs": []
    },
    {
      "cell_type": "markdown",
      "source": [
        "### Add item tool\n",
        "\n",
        "Next, a tool to add an item to the inventory"
      ],
      "metadata": {
        "id": "QPAhP-8YmFiw"
      }
    },
    {
      "cell_type": "code",
      "source": [
        "from haystack.document_stores.types import DuplicatePolicy\n",
        "\n",
        "def add_item_to_inventory(item_name: Annotated[str, \"The item name to add to inventory\"],\n",
        "                          origin: Annotated[Literal[\"handmade\", \"Amazon\"], \"The origin of the item\"],\n",
        "                          units: Annotated[int, \"The number of units to add to inventory\"]=1,\n",
        "                          ):\n",
        "    \"\"\"\n",
        "    Add an item to the inventory.\n",
        "    \"\"\"\n",
        "    found=document_store.filter_documents(filters={\"field\": \"content\", \"operator\": \"==\", \"value\": item_name})\n",
        "    id_ = None\n",
        "    if found:\n",
        "        units += found[0].meta[\"units\"]\n",
        "        id_ = found[0].id\n",
        "\n",
        "    doc = Document(id=id_, content=item_name, meta={\"units\": units, \"origin\": origin})\n",
        "    return document_store.write_documents([doc], policy=DuplicatePolicy.OVERWRITE)"
      ],
      "metadata": {
        "id": "bLRG6etMgQ_h"
      },
      "execution_count": null,
      "outputs": []
    },
    {
      "cell_type": "code",
      "source": [
        "add_item_to_inventory_tool=Tool.from_function(add_item_to_inventory)"
      ],
      "metadata": {
        "id": "SdDyMTNug1rT"
      },
      "execution_count": null,
      "outputs": []
    },
    {
      "cell_type": "markdown",
      "source": [
        "### Inventory Summary tool\n",
        "\n",
        "Now it's your turn.\n",
        "\n",
        "Let's start with a basic `inventory_summary` function and its `inventory_summary_tool`.\n",
        "\n",
        "This tool is expected to retrieve all items and return a textual summary/list as `\"name: <NAME>; units: <UNITS>; origin: <ORIGIN>\"` for each item."
      ],
      "metadata": {
        "id": "ZPvD2eFDmOBB"
      }
    },
    {
      "cell_type": "code",
      "source": [
        "def inventory_summary():\n",
        "  ### IMPLEMENT THE TOOL HERE ###"
      ],
      "metadata": {
        "id": "Nb2kXx-DhDGq"
      },
      "execution_count": null,
      "outputs": []
    },
    {
      "cell_type": "code",
      "source": [
        "inventory_summary_tool=Tool.from_function(inventory_summary)"
      ],
      "metadata": {
        "id": "TWELJk4GhJQj"
      },
      "execution_count": null,
      "outputs": []
    },
    {
      "cell_type": "markdown",
      "source": [
        "### Take from Inventory tool\n",
        "\n",
        "A more complex tool for you to build!\n",
        "\n",
        "This should take as input the `item_name` and the `units`.\n",
        "- it should try to fetch the item\n",
        "- if not present, return a message saying `\"item {item_name} not found in inventory\"`\n",
        "- if present and units > units in inventory, return a message saying `\"item {item_name} has only {units_in_inventory} units, cannot take {units}\"`\n",
        "- otherwise, remove the specified `units` from the inventory and return an explanatory message saying `\"item {item_name} has been updated in inventory\"`"
      ],
      "metadata": {
        "id": "W_ngfnfHm-Wb"
      }
    },
    {
      "cell_type": "code",
      "source": [
        "def take_from_inventory(### DEFINE THE TOOL PARAMETERS ###):\n",
        "  ### IMPLEMENT THE TOOL HERE ###"
      ],
      "metadata": {
        "id": "jmwf7SkWhNTn"
      },
      "execution_count": null,
      "outputs": []
    },
    {
      "cell_type": "code",
      "source": [
        "take_from_inventory_tool=Tool.from_function(take_from_inventory)"
      ],
      "metadata": {
        "id": "iSebujGKhcqH"
      },
      "execution_count": null,
      "outputs": []
    },
    {
      "cell_type": "markdown",
      "source": [
        "### Get Price tool\n",
        "\n",
        "This tool tries to find the Amazon price of the item in the web.\n",
        "\n",
        "In this case, the tool wraps a Web RAG Pipeline.\n",
        "The tool is given but you need to define the pipeline with [DuckduckgoApiWebSearch](https://haystack.deepset.ai/integrations/duckduckgo-api-websearch), [PromptBuilder](https://docs.haystack.deepset.ai/docs/promptbuilder) and [OpenAIGenerator](https://docs.haystack.deepset.ai/docs/openaigenerator).\n",
        "\n",
        "**HINT:** If you quickly hit the rate limit, you can change the `backend` of `DuckduckgoApiWebSearch` and use \"html\" (or \"lite\").\n"
      ],
      "metadata": {
        "id": "xjAcsClXoAo7"
      }
    },
    {
      "cell_type": "code",
      "source": [
        "from haystack import Pipeline\n",
        "from haystack.components.builders.prompt_builder import PromptBuilder\n",
        "from haystack.components.generators import OpenAIGenerator\n",
        "from duckduckgo_api_haystack import DuckduckgoApiWebSearch\n",
        "\n",
        "\n",
        "### DEFINE THE WEB RAG PIPELINE HERE ###\n",
        "get_price_pipe = Pipeline()\n",
        "...."
      ],
      "metadata": {
        "id": "tvbrb6XRhoYg"
      },
      "execution_count": null,
      "outputs": []
    },
    {
      "cell_type": "code",
      "source": [
        "def get_price(item_name: Annotated[str, \"The item name to search\"]):\n",
        "  \"\"\"\n",
        "  Search the web to get the price of an item on Amazon\n",
        "  \"\"\"\n",
        "\n",
        "  search_query = f\"price of {item_name} on Amazon\"\n",
        "  question = f\"What is the price of {item_name} on Amazon? Respond with minimal item name and minimum price.\"\n",
        "\n",
        "\n",
        "  data = {\"search\":{\"query\":search_query}, \"prompt_builder\":{\"query\": question}}\n",
        "\n",
        "  return get_price_pipe.run(data=data)[\"llm\"][\"replies\"][0]"
      ],
      "metadata": {
        "id": "x0epLB6AiYtj"
      },
      "execution_count": null,
      "outputs": []
    },
    {
      "cell_type": "code",
      "source": [
        "get_price(\"barbie dollhouse\")\n"
      ],
      "metadata": {
        "colab": {
          "base_uri": "https://localhost:8080/",
          "height": 35
        },
        "id": "zk2GbXM3iTDc",
        "outputId": "10f1c3a2-47e9-4340-a04d-152a9277f128"
      },
      "execution_count": null,
      "outputs": [
        {
          "output_type": "execute_result",
          "data": {
            "text/plain": [
              "'Barbie DreamHouse - $224.99'"
            ],
            "application/vnd.google.colaboratory.intrinsic+json": {
              "type": "string"
            }
          },
          "metadata": {},
          "execution_count": 19
        }
      ]
    },
    {
      "cell_type": "code",
      "source": [
        "get_price_tool=Tool.from_function(get_price)"
      ],
      "metadata": {
        "id": "mCtifdTBFiAj"
      },
      "execution_count": null,
      "outputs": []
    },
    {
      "cell_type": "markdown",
      "source": [
        "### Buy from Amazon tool\n",
        "\n",
        "This tool is ready to use.\n",
        "\n",
        "It asks the user for confirmation and then simulates a purchase on Amazon. It also adds items to the inventory."
      ],
      "metadata": {
        "id": "DOXel_47pDCU"
      }
    },
    {
      "cell_type": "code",
      "source": [
        "def buy_from_amazon(item_name: Annotated[str, \"The item name to search\"],\n",
        "                     price: Annotated[float, \"The price of the item to buy\"],\n",
        "                     units: Annotated[int, \"The number of units to buy\"]=1):\n",
        "    \"\"\"\n",
        "    Buy an item from Amazon and place it in the inventory.\n",
        "    \"\"\"\n",
        "\n",
        "    total_price = units * price\n",
        "    confirm = input(f\"You are about to buy {units} units of {item_name} from Amazon for a total of ${total_price}. Are you sure you want to continue? (y/n)\")\n",
        "    if confirm == \"y\":\n",
        "        # simulate actually buying from Amazon\n",
        "        add_item_to_inventory(item_name, units=units, origin=\"Amazon\")\n",
        "        return \"transaction completed and item added to inventory\"\n",
        "\n",
        "    return \"transaction cancelled\""
      ],
      "metadata": {
        "id": "wld2pQKGFtVD"
      },
      "execution_count": null,
      "outputs": []
    },
    {
      "cell_type": "code",
      "source": [
        "buy_from_amazon_tool=Tool.from_function(buy_from_amazon)"
      ],
      "metadata": {
        "id": "NExtECudOas3"
      },
      "execution_count": null,
      "outputs": []
    },
    {
      "cell_type": "code",
      "source": [
        "buy_from_amazon(item_name=\"Playstation 5\", price=500.00, units=5)"
      ],
      "metadata": {
        "colab": {
          "base_uri": "https://localhost:8080/",
          "height": 53
        },
        "id": "im77S0CjOk0B",
        "outputId": "a85b424c-0c74-40ec-dc01-58f510a27002"
      },
      "execution_count": null,
      "outputs": [
        {
          "name": "stdout",
          "output_type": "stream",
          "text": [
            "You are about to buy 5 units of Playstation 5 from Amazon for a total of $2500.0. Are you sure you want to continue? (y/n)y\n"
          ]
        },
        {
          "output_type": "execute_result",
          "data": {
            "text/plain": [
              "'transaction completed and item added to inventory'"
            ],
            "application/vnd.google.colaboratory.intrinsic+json": {
              "type": "string"
            }
          },
          "metadata": {},
          "execution_count": 24
        }
      ]
    },
    {
      "cell_type": "markdown",
      "source": [
        "## 5) Main loop\n",
        "\n",
        "This part controls the flow of the application.\n",
        "It is quite simple and you can use to see the Agent in action and check that everything is working properly. For the Agent, you will use the experimental versions of `OpenAIChatGenerator` and `ChatMessage`.\n",
        "\n",
        "**Note:** You can use experimental versions of `OllamaChatGenerator`, `HuggingFaceAPIChatGenerator` and `AnthropicChatGenerator` instead of `OpenAIChatGenerator`. See all experimental `Generators` [here](https://github.com/deepset-ai/haystack-experimental/tree/main/haystack_experimental/components/generators)\n",
        "\n",
        "To understand what's happening, it is important to be familiar with the experimental `ChatMessage` dataclass (see this [Cookbook: Define & Run Tools](https://haystack.deepset.ai/cookbook/tools_support)).\n",
        "\n",
        "---\n",
        "\n",
        "If every missing part has been implemented correctly, the Agent should be able to answer questions and perform actions like the following:\n",
        "```\n",
        "What's in the inventory?\n",
        "I take 1300 Barbie Dreamhouse and 50 Wooden Sailboat\n",
        "Buy 50 Harry Potter and the Philosopher's Stone books from Amazon\n",
        "Buy 50 Doom 3 videogames; then I take 40 of them\n",
        "Price of Bose noise removing headphones\n",
        "I want to add 27 Wooden trains handmade by elves\n",
        "```"
      ],
      "metadata": {
        "id": "li21BqZesFft"
      }
    },
    {
      "cell_type": "code",
      "source": [
        "from haystack_experimental.components.generators.chat import OpenAIChatGenerator\n",
        "from haystack_experimental.components.tools.tool_invoker import ToolInvoker\n",
        "from haystack_experimental.dataclasses import ChatMessage\n",
        "\n",
        "tools = [lookup_item_in_inventory_tool, add_item_to_inventory_tool, inventory_summary_tool, take_from_inventory_tool, get_price_tool, buy_from_amazon_tool]\n",
        "\n",
        "chat_generator = OpenAIChatGenerator(tools=tools)\n",
        "\n",
        "tool_invoker = ToolInvoker(tools=tools)\n",
        "messages = [\n",
        "        ChatMessage.from_system(\n",
        "            \"\"\"You manage Santa Claus backoffice. Always talk with a XMAS tone and references. You are expected to talk with Santas elves.\n",
        "            Prepare a tool call if needed, otherwise use your knowledge to respond to the user.\n",
        "            If the invocation of a tool requires the result of another tool, prepare only one call at a time.\n",
        "\n",
        "            Each time you receive the result of a tool call, ask yourself: \"Am I done with the task?\".\n",
        "            If not and you need to invoke another tool, prepare the next tool call.\n",
        "            If you are done, respond with just the final result.\"\"\"\n",
        "        )\n",
        "    ]\n",
        "\n",
        "while True:\n",
        "    user_input = input(\"\\n\\nwaiting for input (type 'exit' or 'quit' to stop)\\n🧝: \")\n",
        "    if user_input.lower() == \"exit\" or user_input.lower() == \"quit\":\n",
        "        break\n",
        "    messages.append(ChatMessage.from_user(user_input))\n",
        "\n",
        "    while True:\n",
        "        print(\"⌛ iterating...\")\n",
        "\n",
        "        replies = chat_generator.run(messages=messages)[\"replies\"]\n",
        "        messages.extend(replies)\n",
        "\n",
        "        # Check for tool calls and handle them\n",
        "        if not replies[0].tool_calls:\n",
        "            break\n",
        "        tool_calls = replies[0].tool_calls\n",
        "\n",
        "        tool_messages = tool_invoker.run(messages=replies)[\"tool_messages\"]\n",
        "        messages.extend(tool_messages)\n",
        "\n",
        "\n",
        "    # Print the final AI response after all tool calls are resolved\n",
        "    print(f\"🤖: {messages[-1].text}\")"
      ],
      "metadata": {
        "id": "6UoV7PAMOpaE"
      },
      "execution_count": null,
      "outputs": []
    }
  ]
}