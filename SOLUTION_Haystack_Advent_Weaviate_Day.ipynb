{
  "nbformat": 4,
  "nbformat_minor": 0,
  "metadata": {
    "colab": {
      "provenance": [],
      "include_colab_link": true
    },
    "kernelspec": {
      "name": "python3",
      "display_name": "Python 3"
    },
    "language_info": {
      "name": "python"
    }
  },
  "cells": [
    {
      "cell_type": "markdown",
      "metadata": {
        "id": "view-in-github",
        "colab_type": "text"
      },
      "source": [
        "<a href=\"https://colab.research.google.com/github/muffafa/advent-of-haystack-2024-2025-solutions/blob/main/SOLUTION_Haystack_Advent_Weaviate_Day.ipynb\" target=\"_parent\"><img src=\"https://colab.research.google.com/assets/colab-badge.svg\" alt=\"Open In Colab\"/></a>"
      ]
    },
    {
      "cell_type": "markdown",
      "source": [
        "# Advent of Haystack: Day 2\n",
        "\n",
        "_Make a copy of this Colab to start_\n",
        "\n",
        "In this challenge, your mission is to help a couple of fictional elves.\n",
        "1. Find out what's happening in the North Pole in the film \"A Very Weaviate Christmas\"\n",
        "2. This will lead you to a clue that will let you discover which Weaviate Collection to peak into.\n",
        "3. While submitting the challenge, tell us what you find there!\n",
        "\n",
        "\n",
        "### Components to use:\n",
        "1. [`OpenAITextEmbedder`](https://docs.haystack.deepset.ai/docs/openaitextembedder)\n",
        "2. [`OpenAIGenerator`](https://docs.haystack.deepset.ai/docs/openaigenerator)\n",
        "3. [`PromptBuilder`](https://docs.haystack.deepset.ai/docs/promptbuilder)\n",
        "4. [`WeaviateDocumentStore`](https://docs.haystack.deepset.ai/docs/weaviatedocumentstore)\n",
        "5. [`WeaviateEmbeddingRetriever`](https://docs.haystack.deepset.ai/reference/integrations-weaviate#weaviateembeddingretriever)\n",
        "\n",
        "\n",
        "🎄 **Your task is to complete steps 3 and 4**. But make sure you run the code cells before. You should know what each prior step is doing."
      ],
      "metadata": {
        "id": "lL7Y3zl5NYAy"
      }
    },
    {
      "cell_type": "markdown",
      "source": [
        "## 1) Setup and Installation"
      ],
      "metadata": {
        "id": "VVczHaPYOGxT"
      }
    },
    {
      "cell_type": "code",
      "execution_count": null,
      "metadata": {
        "colab": {
          "base_uri": "https://localhost:8080/"
        },
        "id": "hdiFsnQDWzP0",
        "outputId": "26514ab8-9552-4c36-f683-0953f058831a"
      },
      "outputs": [
        {
          "output_type": "stream",
          "name": "stdout",
          "text": [
            "Collecting haystack-ai\n",
            "  Downloading haystack_ai-2.8.0-py3-none-any.whl.metadata (13 kB)\n",
            "Collecting weaviate-haystack\n",
            "  Downloading weaviate_haystack-4.0.2-py3-none-any.whl.metadata (1.8 kB)\n",
            "Collecting haystack-experimental (from haystack-ai)\n",
            "  Downloading haystack_experimental-0.4.0-py3-none-any.whl.metadata (16 kB)\n",
            "Requirement already satisfied: jinja2 in /usr/local/lib/python3.10/dist-packages (from haystack-ai) (3.1.4)\n",
            "Collecting lazy-imports (from haystack-ai)\n",
            "  Downloading lazy_imports-0.4.0-py3-none-any.whl.metadata (10 kB)\n",
            "Requirement already satisfied: more-itertools in /usr/local/lib/python3.10/dist-packages (from haystack-ai) (10.5.0)\n",
            "Requirement already satisfied: networkx in /usr/local/lib/python3.10/dist-packages (from haystack-ai) (3.4.2)\n",
            "Requirement already satisfied: numpy in /usr/local/lib/python3.10/dist-packages (from haystack-ai) (1.26.4)\n",
            "Requirement already satisfied: openai>=1.1.0 in /usr/local/lib/python3.10/dist-packages (from haystack-ai) (1.57.4)\n",
            "Requirement already satisfied: pandas in /usr/local/lib/python3.10/dist-packages (from haystack-ai) (2.2.2)\n",
            "Collecting posthog (from haystack-ai)\n",
            "  Downloading posthog-3.7.4-py2.py3-none-any.whl.metadata (2.0 kB)\n",
            "Requirement already satisfied: python-dateutil in /usr/local/lib/python3.10/dist-packages (from haystack-ai) (2.8.2)\n",
            "Requirement already satisfied: pyyaml in /usr/local/lib/python3.10/dist-packages (from haystack-ai) (6.0.2)\n",
            "Requirement already satisfied: requests in /usr/local/lib/python3.10/dist-packages (from haystack-ai) (2.32.3)\n",
            "Requirement already satisfied: tenacity!=8.4.0 in /usr/local/lib/python3.10/dist-packages (from haystack-ai) (9.0.0)\n",
            "Requirement already satisfied: tqdm in /usr/local/lib/python3.10/dist-packages (from haystack-ai) (4.67.1)\n",
            "Requirement already satisfied: typing-extensions>=4.7 in /usr/local/lib/python3.10/dist-packages (from haystack-ai) (4.12.2)\n",
            "Collecting weaviate-client>=4.9 (from weaviate-haystack)\n",
            "  Downloading weaviate_client-4.10.2-py3-none-any.whl.metadata (3.6 kB)\n",
            "Requirement already satisfied: anyio<5,>=3.5.0 in /usr/local/lib/python3.10/dist-packages (from openai>=1.1.0->haystack-ai) (3.7.1)\n",
            "Requirement already satisfied: distro<2,>=1.7.0 in /usr/local/lib/python3.10/dist-packages (from openai>=1.1.0->haystack-ai) (1.9.0)\n",
            "Requirement already satisfied: httpx<1,>=0.23.0 in /usr/local/lib/python3.10/dist-packages (from openai>=1.1.0->haystack-ai) (0.28.1)\n",
            "Requirement already satisfied: jiter<1,>=0.4.0 in /usr/local/lib/python3.10/dist-packages (from openai>=1.1.0->haystack-ai) (0.8.2)\n",
            "Requirement already satisfied: pydantic<3,>=1.9.0 in /usr/local/lib/python3.10/dist-packages (from openai>=1.1.0->haystack-ai) (2.10.3)\n",
            "Requirement already satisfied: sniffio in /usr/local/lib/python3.10/dist-packages (from openai>=1.1.0->haystack-ai) (1.3.1)\n",
            "Collecting validators==0.34.0 (from weaviate-client>=4.9->weaviate-haystack)\n",
            "  Downloading validators-0.34.0-py3-none-any.whl.metadata (3.8 kB)\n",
            "Collecting authlib<1.3.2,>=1.2.1 (from weaviate-client>=4.9->weaviate-haystack)\n",
            "  Downloading Authlib-1.3.1-py2.py3-none-any.whl.metadata (3.8 kB)\n",
            "Requirement already satisfied: grpcio<2.0.0,>=1.66.2 in /usr/local/lib/python3.10/dist-packages (from weaviate-client>=4.9->weaviate-haystack) (1.68.1)\n",
            "Collecting grpcio-tools<2.0.0,>=1.66.2 (from weaviate-client>=4.9->weaviate-haystack)\n",
            "  Downloading grpcio_tools-1.68.1-cp310-cp310-manylinux_2_17_x86_64.manylinux2014_x86_64.whl.metadata (5.3 kB)\n",
            "Collecting grpcio-health-checking<2.0.0,>=1.66.2 (from weaviate-client>=4.9->weaviate-haystack)\n",
            "  Downloading grpcio_health_checking-1.68.1-py3-none-any.whl.metadata (1.1 kB)\n",
            "Requirement already satisfied: MarkupSafe>=2.0 in /usr/local/lib/python3.10/dist-packages (from jinja2->haystack-ai) (3.0.2)\n",
            "Requirement already satisfied: pytz>=2020.1 in /usr/local/lib/python3.10/dist-packages (from pandas->haystack-ai) (2024.2)\n",
            "Requirement already satisfied: tzdata>=2022.7 in /usr/local/lib/python3.10/dist-packages (from pandas->haystack-ai) (2024.2)\n",
            "Requirement already satisfied: six>=1.5 in /usr/local/lib/python3.10/dist-packages (from python-dateutil->haystack-ai) (1.17.0)\n",
            "Collecting monotonic>=1.5 (from posthog->haystack-ai)\n",
            "  Downloading monotonic-1.6-py2.py3-none-any.whl.metadata (1.5 kB)\n",
            "Collecting backoff>=1.10.0 (from posthog->haystack-ai)\n",
            "  Downloading backoff-2.2.1-py3-none-any.whl.metadata (14 kB)\n",
            "Requirement already satisfied: charset-normalizer<4,>=2 in /usr/local/lib/python3.10/dist-packages (from requests->haystack-ai) (3.4.0)\n",
            "Requirement already satisfied: idna<4,>=2.5 in /usr/local/lib/python3.10/dist-packages (from requests->haystack-ai) (3.10)\n",
            "Requirement already satisfied: urllib3<3,>=1.21.1 in /usr/local/lib/python3.10/dist-packages (from requests->haystack-ai) (2.2.3)\n",
            "Requirement already satisfied: certifi>=2017.4.17 in /usr/local/lib/python3.10/dist-packages (from requests->haystack-ai) (2024.12.14)\n",
            "Requirement already satisfied: exceptiongroup in /usr/local/lib/python3.10/dist-packages (from anyio<5,>=3.5.0->openai>=1.1.0->haystack-ai) (1.2.2)\n",
            "Requirement already satisfied: cryptography in /usr/local/lib/python3.10/dist-packages (from authlib<1.3.2,>=1.2.1->weaviate-client>=4.9->weaviate-haystack) (43.0.3)\n",
            "Collecting protobuf<6.0dev,>=5.26.1 (from grpcio-health-checking<2.0.0,>=1.66.2->weaviate-client>=4.9->weaviate-haystack)\n",
            "  Downloading protobuf-5.29.2-cp38-abi3-manylinux2014_x86_64.whl.metadata (592 bytes)\n",
            "Requirement already satisfied: setuptools in /usr/local/lib/python3.10/dist-packages (from grpcio-tools<2.0.0,>=1.66.2->weaviate-client>=4.9->weaviate-haystack) (75.1.0)\n",
            "Requirement already satisfied: httpcore==1.* in /usr/local/lib/python3.10/dist-packages (from httpx<1,>=0.23.0->openai>=1.1.0->haystack-ai) (1.0.7)\n",
            "Requirement already satisfied: h11<0.15,>=0.13 in /usr/local/lib/python3.10/dist-packages (from httpcore==1.*->httpx<1,>=0.23.0->openai>=1.1.0->haystack-ai) (0.14.0)\n",
            "Requirement already satisfied: annotated-types>=0.6.0 in /usr/local/lib/python3.10/dist-packages (from pydantic<3,>=1.9.0->openai>=1.1.0->haystack-ai) (0.7.0)\n",
            "Requirement already satisfied: pydantic-core==2.27.1 in /usr/local/lib/python3.10/dist-packages (from pydantic<3,>=1.9.0->openai>=1.1.0->haystack-ai) (2.27.1)\n",
            "Requirement already satisfied: cffi>=1.12 in /usr/local/lib/python3.10/dist-packages (from cryptography->authlib<1.3.2,>=1.2.1->weaviate-client>=4.9->weaviate-haystack) (1.17.1)\n",
            "Requirement already satisfied: pycparser in /usr/local/lib/python3.10/dist-packages (from cffi>=1.12->cryptography->authlib<1.3.2,>=1.2.1->weaviate-client>=4.9->weaviate-haystack) (2.22)\n",
            "Downloading haystack_ai-2.8.0-py3-none-any.whl (391 kB)\n",
            "\u001b[2K   \u001b[90m━━━━━━━━━━━━━━━━━━━━━━━━━━━━━━━━━━━━━━━━\u001b[0m \u001b[32m391.4/391.4 kB\u001b[0m \u001b[31m7.7 MB/s\u001b[0m eta \u001b[36m0:00:00\u001b[0m\n",
            "\u001b[?25hDownloading weaviate_haystack-4.0.2-py3-none-any.whl (20 kB)\n",
            "Downloading weaviate_client-4.10.2-py3-none-any.whl (325 kB)\n",
            "\u001b[2K   \u001b[90m━━━━━━━━━━━━━━━━━━━━━━━━━━━━━━━━━━━━━━━━\u001b[0m \u001b[32m325.4/325.4 kB\u001b[0m \u001b[31m17.2 MB/s\u001b[0m eta \u001b[36m0:00:00\u001b[0m\n",
            "\u001b[?25hDownloading validators-0.34.0-py3-none-any.whl (43 kB)\n",
            "\u001b[2K   \u001b[90m━━━━━━━━━━━━━━━━━━━━━━━━━━━━━━━━━━━━━━━━\u001b[0m \u001b[32m43.5/43.5 kB\u001b[0m \u001b[31m2.8 MB/s\u001b[0m eta \u001b[36m0:00:00\u001b[0m\n",
            "\u001b[?25hDownloading haystack_experimental-0.4.0-py3-none-any.whl (109 kB)\n",
            "\u001b[2K   \u001b[90m━━━━━━━━━━━━━━━━━━━━━━━━━━━━━━━━━━━━━━━━\u001b[0m \u001b[32m109.8/109.8 kB\u001b[0m \u001b[31m6.9 MB/s\u001b[0m eta \u001b[36m0:00:00\u001b[0m\n",
            "\u001b[?25hDownloading lazy_imports-0.4.0-py3-none-any.whl (12 kB)\n",
            "Downloading posthog-3.7.4-py2.py3-none-any.whl (54 kB)\n",
            "\u001b[2K   \u001b[90m━━━━━━━━━━━━━━━━━━━━━━━━━━━━━━━━━━━━━━━━\u001b[0m \u001b[32m54.8/54.8 kB\u001b[0m \u001b[31m2.7 MB/s\u001b[0m eta \u001b[36m0:00:00\u001b[0m\n",
            "\u001b[?25hDownloading Authlib-1.3.1-py2.py3-none-any.whl (223 kB)\n",
            "\u001b[2K   \u001b[90m━━━━━━━━━━━━━━━━━━━━━━━━━━━━━━━━━━━━━━━━\u001b[0m \u001b[32m223.8/223.8 kB\u001b[0m \u001b[31m12.4 MB/s\u001b[0m eta \u001b[36m0:00:00\u001b[0m\n",
            "\u001b[?25hDownloading backoff-2.2.1-py3-none-any.whl (15 kB)\n",
            "Downloading grpcio_health_checking-1.68.1-py3-none-any.whl (18 kB)\n",
            "Downloading grpcio_tools-1.68.1-cp310-cp310-manylinux_2_17_x86_64.manylinux2014_x86_64.whl (2.4 MB)\n",
            "\u001b[2K   \u001b[90m━━━━━━━━━━━━━━━━━━━━━━━━━━━━━━━━━━━━━━━━\u001b[0m \u001b[32m2.4/2.4 MB\u001b[0m \u001b[31m45.0 MB/s\u001b[0m eta \u001b[36m0:00:00\u001b[0m\n",
            "\u001b[?25hDownloading monotonic-1.6-py2.py3-none-any.whl (8.2 kB)\n",
            "Downloading protobuf-5.29.2-cp38-abi3-manylinux2014_x86_64.whl (319 kB)\n",
            "\u001b[2K   \u001b[90m━━━━━━━━━━━━━━━━━━━━━━━━━━━━━━━━━━━━━━━━\u001b[0m \u001b[32m319.7/319.7 kB\u001b[0m \u001b[31m18.0 MB/s\u001b[0m eta \u001b[36m0:00:00\u001b[0m\n",
            "\u001b[?25hInstalling collected packages: monotonic, validators, protobuf, lazy-imports, backoff, posthog, grpcio-tools, grpcio-health-checking, authlib, weaviate-client, haystack-experimental, haystack-ai, weaviate-haystack\n",
            "  Attempting uninstall: protobuf\n",
            "    Found existing installation: protobuf 4.25.5\n",
            "    Uninstalling protobuf-4.25.5:\n",
            "      Successfully uninstalled protobuf-4.25.5\n",
            "\u001b[31mERROR: pip's dependency resolver does not currently take into account all the packages that are installed. This behaviour is the source of the following dependency conflicts.\n",
            "tensorflow 2.17.1 requires protobuf!=4.21.0,!=4.21.1,!=4.21.2,!=4.21.3,!=4.21.4,!=4.21.5,<5.0.0dev,>=3.20.3, but you have protobuf 5.29.2 which is incompatible.\n",
            "tensorflow-metadata 1.13.1 requires protobuf<5,>=3.20.3, but you have protobuf 5.29.2 which is incompatible.\u001b[0m\u001b[31m\n",
            "\u001b[0mSuccessfully installed authlib-1.3.1 backoff-2.2.1 grpcio-health-checking-1.68.1 grpcio-tools-1.68.1 haystack-ai-2.8.0 haystack-experimental-0.4.0 lazy-imports-0.4.0 monotonic-1.6 posthog-3.7.4 protobuf-5.29.2 validators-0.34.0 weaviate-client-4.10.2 weaviate-haystack-4.0.2\n"
          ]
        }
      ],
      "source": [
        "!pip install haystack-ai weaviate-haystack"
      ]
    },
    {
      "cell_type": "markdown",
      "source": [
        "To get started, first provide your API keys below. We're providing you with a read-only API Key for Weaviate. This one will help you first find out what's going on in the North Pole."
      ],
      "metadata": {
        "id": "VtYq1ESqMB3K"
      }
    },
    {
      "cell_type": "code",
      "source": [
        "import os\n",
        "from getpass import getpass\n",
        "\n",
        "os.environ[\"WEAVIATE_API_KEY\"] = \"b3jhGwa4NkLGjaq3v1V1vh1pTrlKjePZSt91\"\n",
        "\n",
        "if \"OPENAI_API_KEY\" not in os.environ:\n",
        "    os.environ[\"OPENAI_API_KEY\"] = getpass(\"Enter OpenAI API key:\")"
      ],
      "metadata": {
        "colab": {
          "base_uri": "https://localhost:8080/"
        },
        "id": "FL3rTDBtMBOj",
        "outputId": "17951bd5-d85f-4f9e-b6aa-9efa3c8bc132"
      },
      "execution_count": null,
      "outputs": [
        {
          "name": "stdout",
          "output_type": "stream",
          "text": [
            "Enter OpenAI API key:··········\n"
          ]
        }
      ]
    },
    {
      "cell_type": "markdown",
      "source": [
        "## 2) Weaviate Setup\n",
        "\n",
        "Next, you can connect to the right `WeaviateDocumentStore` (we've already added the right code for you below with the cleint URL in place)."
      ],
      "metadata": {
        "id": "PYsyzFI0MvHF"
      }
    },
    {
      "cell_type": "code",
      "source": [
        "from haystack_integrations.document_stores.weaviate import WeaviateDocumentStore, AuthApiKey\n",
        "from haystack import Document\n",
        "import os\n",
        "\n",
        "\n",
        "auth_client_secret = AuthApiKey()\n",
        "\n",
        "document_store = WeaviateDocumentStore(url=\"https://zgvjwlycsr6p5j1ziuyea.c0.europe-west3.gcp.weaviate.cloud\",\n",
        "                                       auth_client_secret=auth_client_secret)"
      ],
      "metadata": {
        "id": "EbTdrvUgZoku"
      },
      "execution_count": null,
      "outputs": []
    },
    {
      "cell_type": "markdown",
      "source": [
        "## 3) The RAG Pipeline\n",
        "\n",
        "Now, you're on your own. Complete the code blocks below.\n",
        "\n",
        "First, create a RAG pipeline that can answer questions based on the overviews of the movies in your `document_store`.\n",
        "\n",
        "⭐️ You should then be able to run the pipeline and answer the questions \"What happens in the film 'A Very Weaviate Christmas'?\"\n",
        "\n",
        "**💚 Hint 1:** The embedding model that was used to populate the vectors was `text-embedding-3-small` by OpenAI.\n",
        "\n",
        "**💙 Hint 2:** We've added an import to the OpenAIGenerator but feel free to use something else!"
      ],
      "metadata": {
        "id": "4qTWIDu_OpSF"
      }
    },
    {
      "cell_type": "code",
      "source": [
        "from haystack import Pipeline\n",
        "from haystack.components.embedders import OpenAITextEmbedder\n",
        "from haystack.components.generators import OpenAIGenerator\n",
        "from haystack.components.builders import PromptBuilder\n",
        "from haystack_integrations.components.retrievers.weaviate import WeaviateEmbeddingRetriever\n",
        "\n",
        "\n",
        "prompt = \"\"\"\n",
        "Answer the question based on the movie overviews below.\n",
        "\n",
        "{% for movie in movies %}\n",
        "  Title: {{movie.meta[\"title\"]}}\n",
        "  Overview: {{movie.content}}\n",
        "{% endfor %}\n",
        "\n",
        "Query: {{query}}\n",
        "Answer:\n",
        "\"\"\"\n",
        "\n",
        "rag = Pipeline()\n",
        "rag.add_component(\"query_embedder\",  OpenAITextEmbedder(model=\"text-embedding-3-small\"))\n",
        "rag.add_component(\"retriever\",  WeaviateEmbeddingRetriever(document_store=document_store, top_k=3))\n",
        "rag.add_component(\"prompt\", PromptBuilder(prompt))\n",
        "rag.add_component(\"generator\", OpenAIGenerator(model=\"gpt-4o-mini\"))\n",
        "\n",
        "rag.connect(\"query_embedder.embedding\", \"retriever.query_embedding\")\n",
        "rag.connect(\"retriever.documents\", \"prompt.movies\")\n",
        "rag.connect(\"prompt\", \"generator\")"
      ],
      "metadata": {
        "colab": {
          "base_uri": "https://localhost:8080/"
        },
        "id": "aVUii4r1cr3f",
        "outputId": "836c8cf8-8b37-44d5-b265-1bbd66080806"
      },
      "execution_count": null,
      "outputs": [
        {
          "output_type": "execute_result",
          "data": {
            "text/plain": [
              "<haystack.core.pipeline.pipeline.Pipeline object at 0x79bcea229b10>\n",
              "🚅 Components\n",
              "  - query_embedder: OpenAITextEmbedder\n",
              "  - retriever: WeaviateEmbeddingRetriever\n",
              "  - prompt: PromptBuilder\n",
              "  - generator: OpenAIGenerator\n",
              "🛤️ Connections\n",
              "  - query_embedder.embedding -> retriever.query_embedding (List[float])\n",
              "  - retriever.documents -> prompt.movies (List[Document])\n",
              "  - prompt.prompt -> generator.prompt (str)"
            ]
          },
          "metadata": {},
          "execution_count": 4
        }
      ]
    },
    {
      "cell_type": "code",
      "source": [
        "query = \"What happens in the film 'A Very Weaviate Christmas'?\"\n",
        "reply = rag.run({\"query_embedder\": {\"text\": query}, \"prompt\": {\"query\": query}})\n",
        "\n",
        "print(reply['generator'][\"replies\"][0])"
      ],
      "metadata": {
        "colab": {
          "base_uri": "https://localhost:8080/"
        },
        "id": "OsiP8tIVfXqD",
        "outputId": "64e61b98-13d5-4141-9b9e-18db1492d61b"
      },
      "execution_count": null,
      "outputs": [
        {
          "output_type": "stream",
          "name": "stdout",
          "text": [
            "In the film 'A Very Weaviate Christmas,' we follow the adventures of two of Santa's elves, Daniel and Philip, as they embark on a mission to recover stolen vectors that have been hidden in an unknown Collection. With Christmas Day approaching, they urgently search for these vectors, which end up being located in \"Santas_Grotto.\" The film features the Weaviate DevRel and Growth teams in this thrilling Christmas drama.\n"
          ]
        }
      ]
    },
    {
      "cell_type": "markdown",
      "source": [
        "## 4) Solve the Mystery\n",
        "\n",
        "By this point, you should know what's happening.. There is a Collection where everything has been hidden.\n",
        "\n",
        "Complete the code cell below by providing the right Collection name, and tell us the following:\n",
        "\n",
        "1. Who is the culprit? Watch out, because there may be `decoys`.\n",
        "2. What have they stolen?\n",
        "\n",
        "**💚 Hint:** Once you've connected to the right collection, take a look at all the Objects in there. Then, you may be able to use filters to avoid the decoys!\n",
        "\n",
        "- [Weaviate Documentation: Read all Objects](https://weaviate.io/developers/weaviate/manage-data/read-all-objects)\n",
        "- [Weaviate Documentation: Filters](https://weaviate.io/developers/weaviate/search/filters)"
      ],
      "metadata": {
        "id": "iEldTiRmShUk"
      }
    },
    {
      "cell_type": "code",
      "source": [
        "import weaviate\n",
        "\n",
        "from weaviate.classes.init import Auth\n",
        "from weaviate.classes.query import Filter\n",
        "\n",
        "\n",
        "headers = {\"X-OpenAI-Api-Key\": os.getenv(\"OPENAI_API_KEY\")}\n",
        "client = weaviate.connect_to_weaviate_cloud(cluster_url=\"https://zgvjwlycsr6p5j1ziuyea.c0.europe-west3.gcp.weaviate.cloud\",\n",
        "                                            auth_credentials=Auth.api_key(os.getenv(\"WEAVIATE_API_KEY\")),\n",
        "                                            headers=headers)\n",
        "\n",
        "# Provide the name of the collection in client.collections.get() below 👇\n",
        "plot = client.collections.get(\"Santas_Grotto\")\n",
        "\n",
        "for item in plot.iterator():\n",
        "    print(item.properties)\n",
        "\n",
        "plot.query.fetch_objects(filters=Filter.by_property(\"decoy\").not_equal(True)).objects[0].properties\n"
      ],
      "metadata": {
        "colab": {
          "base_uri": "https://localhost:8080/"
        },
        "id": "4US7AdElQ2Zk",
        "outputId": "a7d6d469-ee4f-4731-eccd-acbdbbfb4711"
      },
      "execution_count": null,
      "outputs": [
        {
          "output_type": "stream",
          "name": "stdout",
          "text": [
            "{'plot': 'Tuana is here with not just all the vectors but also all the presents that are supposed to be delivered around the World!', 'decoy': False}\n",
            "{'plot': \"Sebastian is here, but he seems unsure what's going on\", 'decoy': True}\n",
            "{'plot': \"JP is here, looks like he's feasting on cookies\", 'decoy': True}\n"
          ]
        },
        {
          "output_type": "execute_result",
          "data": {
            "text/plain": [
              "{'plot': 'Tuana is here with not just all the vectors but also all the presents that are supposed to be delivered around the World!',\n",
              " 'decoy': False}"
            ]
          },
          "metadata": {},
          "execution_count": 6
        }
      ]
    },
    {
      "cell_type": "code",
      "source": [],
      "metadata": {
        "id": "M5mhBJ1a4wSv"
      },
      "execution_count": null,
      "outputs": []
    }
  ]
}