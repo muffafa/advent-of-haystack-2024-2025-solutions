{
  "nbformat": 4,
  "nbformat_minor": 0,
  "metadata": {
    "colab": {
      "provenance": [],
      "include_colab_link": true
    },
    "kernelspec": {
      "name": "python3",
      "display_name": "Python 3"
    },
    "language_info": {
      "name": "python"
    },
    "widgets": {
      "application/vnd.jupyter.widget-state+json": {
        "4cefd48b8e8f46229815e7dbe26d579a": {
          "model_module": "@jupyter-widgets/controls",
          "model_name": "HBoxModel",
          "model_module_version": "1.5.0",
          "state": {
            "_dom_classes": [],
            "_model_module": "@jupyter-widgets/controls",
            "_model_module_version": "1.5.0",
            "_model_name": "HBoxModel",
            "_view_count": null,
            "_view_module": "@jupyter-widgets/controls",
            "_view_module_version": "1.5.0",
            "_view_name": "HBoxView",
            "box_style": "",
            "children": [
              "IPY_MODEL_12a3a0597a114423b6eee117679f108c",
              "IPY_MODEL_41036bb985374779abb7aedcbd4fd225",
              "IPY_MODEL_6841e9e4a55544df867d3eff9209b99c"
            ],
            "layout": "IPY_MODEL_7380ea262e7145ad80b0a4f342d79e24"
          }
        },
        "12a3a0597a114423b6eee117679f108c": {
          "model_module": "@jupyter-widgets/controls",
          "model_name": "HTMLModel",
          "model_module_version": "1.5.0",
          "state": {
            "_dom_classes": [],
            "_model_module": "@jupyter-widgets/controls",
            "_model_module_version": "1.5.0",
            "_model_name": "HTMLModel",
            "_view_count": null,
            "_view_module": "@jupyter-widgets/controls",
            "_view_module_version": "1.5.0",
            "_view_name": "HTMLView",
            "description": "",
            "description_tooltip": null,
            "layout": "IPY_MODEL_1d2b4e17387a480c8d33b7ad7930f4af",
            "placeholder": "​",
            "style": "IPY_MODEL_5c3b927e1c9643a0be67425dfcffddd6",
            "value": "config.json: 100%"
          }
        },
        "41036bb985374779abb7aedcbd4fd225": {
          "model_module": "@jupyter-widgets/controls",
          "model_name": "FloatProgressModel",
          "model_module_version": "1.5.0",
          "state": {
            "_dom_classes": [],
            "_model_module": "@jupyter-widgets/controls",
            "_model_module_version": "1.5.0",
            "_model_name": "FloatProgressModel",
            "_view_count": null,
            "_view_module": "@jupyter-widgets/controls",
            "_view_module_version": "1.5.0",
            "_view_name": "ProgressView",
            "bar_style": "success",
            "description": "",
            "description_tooltip": null,
            "layout": "IPY_MODEL_a570ea800ba2421cb16cea433a6cca14",
            "max": 794,
            "min": 0,
            "orientation": "horizontal",
            "style": "IPY_MODEL_3007d8e6c0194add9d2274edd01ad0c1",
            "value": 794
          }
        },
        "6841e9e4a55544df867d3eff9209b99c": {
          "model_module": "@jupyter-widgets/controls",
          "model_name": "HTMLModel",
          "model_module_version": "1.5.0",
          "state": {
            "_dom_classes": [],
            "_model_module": "@jupyter-widgets/controls",
            "_model_module_version": "1.5.0",
            "_model_name": "HTMLModel",
            "_view_count": null,
            "_view_module": "@jupyter-widgets/controls",
            "_view_module_version": "1.5.0",
            "_view_name": "HTMLView",
            "description": "",
            "description_tooltip": null,
            "layout": "IPY_MODEL_74365b4db6e249cba45faf26d04927a2",
            "placeholder": "​",
            "style": "IPY_MODEL_a7968cd433e441faad065a9ce7f2b50f",
            "value": " 794/794 [00:00&lt;00:00, 22.6kB/s]"
          }
        },
        "7380ea262e7145ad80b0a4f342d79e24": {
          "model_module": "@jupyter-widgets/base",
          "model_name": "LayoutModel",
          "model_module_version": "1.2.0",
          "state": {
            "_model_module": "@jupyter-widgets/base",
            "_model_module_version": "1.2.0",
            "_model_name": "LayoutModel",
            "_view_count": null,
            "_view_module": "@jupyter-widgets/base",
            "_view_module_version": "1.2.0",
            "_view_name": "LayoutView",
            "align_content": null,
            "align_items": null,
            "align_self": null,
            "border": null,
            "bottom": null,
            "display": null,
            "flex": null,
            "flex_flow": null,
            "grid_area": null,
            "grid_auto_columns": null,
            "grid_auto_flow": null,
            "grid_auto_rows": null,
            "grid_column": null,
            "grid_gap": null,
            "grid_row": null,
            "grid_template_areas": null,
            "grid_template_columns": null,
            "grid_template_rows": null,
            "height": null,
            "justify_content": null,
            "justify_items": null,
            "left": null,
            "margin": null,
            "max_height": null,
            "max_width": null,
            "min_height": null,
            "min_width": null,
            "object_fit": null,
            "object_position": null,
            "order": null,
            "overflow": null,
            "overflow_x": null,
            "overflow_y": null,
            "padding": null,
            "right": null,
            "top": null,
            "visibility": null,
            "width": null
          }
        },
        "1d2b4e17387a480c8d33b7ad7930f4af": {
          "model_module": "@jupyter-widgets/base",
          "model_name": "LayoutModel",
          "model_module_version": "1.2.0",
          "state": {
            "_model_module": "@jupyter-widgets/base",
            "_model_module_version": "1.2.0",
            "_model_name": "LayoutModel",
            "_view_count": null,
            "_view_module": "@jupyter-widgets/base",
            "_view_module_version": "1.2.0",
            "_view_name": "LayoutView",
            "align_content": null,
            "align_items": null,
            "align_self": null,
            "border": null,
            "bottom": null,
            "display": null,
            "flex": null,
            "flex_flow": null,
            "grid_area": null,
            "grid_auto_columns": null,
            "grid_auto_flow": null,
            "grid_auto_rows": null,
            "grid_column": null,
            "grid_gap": null,
            "grid_row": null,
            "grid_template_areas": null,
            "grid_template_columns": null,
            "grid_template_rows": null,
            "height": null,
            "justify_content": null,
            "justify_items": null,
            "left": null,
            "margin": null,
            "max_height": null,
            "max_width": null,
            "min_height": null,
            "min_width": null,
            "object_fit": null,
            "object_position": null,
            "order": null,
            "overflow": null,
            "overflow_x": null,
            "overflow_y": null,
            "padding": null,
            "right": null,
            "top": null,
            "visibility": null,
            "width": null
          }
        },
        "5c3b927e1c9643a0be67425dfcffddd6": {
          "model_module": "@jupyter-widgets/controls",
          "model_name": "DescriptionStyleModel",
          "model_module_version": "1.5.0",
          "state": {
            "_model_module": "@jupyter-widgets/controls",
            "_model_module_version": "1.5.0",
            "_model_name": "DescriptionStyleModel",
            "_view_count": null,
            "_view_module": "@jupyter-widgets/base",
            "_view_module_version": "1.2.0",
            "_view_name": "StyleView",
            "description_width": ""
          }
        },
        "a570ea800ba2421cb16cea433a6cca14": {
          "model_module": "@jupyter-widgets/base",
          "model_name": "LayoutModel",
          "model_module_version": "1.2.0",
          "state": {
            "_model_module": "@jupyter-widgets/base",
            "_model_module_version": "1.2.0",
            "_model_name": "LayoutModel",
            "_view_count": null,
            "_view_module": "@jupyter-widgets/base",
            "_view_module_version": "1.2.0",
            "_view_name": "LayoutView",
            "align_content": null,
            "align_items": null,
            "align_self": null,
            "border": null,
            "bottom": null,
            "display": null,
            "flex": null,
            "flex_flow": null,
            "grid_area": null,
            "grid_auto_columns": null,
            "grid_auto_flow": null,
            "grid_auto_rows": null,
            "grid_column": null,
            "grid_gap": null,
            "grid_row": null,
            "grid_template_areas": null,
            "grid_template_columns": null,
            "grid_template_rows": null,
            "height": null,
            "justify_content": null,
            "justify_items": null,
            "left": null,
            "margin": null,
            "max_height": null,
            "max_width": null,
            "min_height": null,
            "min_width": null,
            "object_fit": null,
            "object_position": null,
            "order": null,
            "overflow": null,
            "overflow_x": null,
            "overflow_y": null,
            "padding": null,
            "right": null,
            "top": null,
            "visibility": null,
            "width": null
          }
        },
        "3007d8e6c0194add9d2274edd01ad0c1": {
          "model_module": "@jupyter-widgets/controls",
          "model_name": "ProgressStyleModel",
          "model_module_version": "1.5.0",
          "state": {
            "_model_module": "@jupyter-widgets/controls",
            "_model_module_version": "1.5.0",
            "_model_name": "ProgressStyleModel",
            "_view_count": null,
            "_view_module": "@jupyter-widgets/base",
            "_view_module_version": "1.2.0",
            "_view_name": "StyleView",
            "bar_color": null,
            "description_width": ""
          }
        },
        "74365b4db6e249cba45faf26d04927a2": {
          "model_module": "@jupyter-widgets/base",
          "model_name": "LayoutModel",
          "model_module_version": "1.2.0",
          "state": {
            "_model_module": "@jupyter-widgets/base",
            "_model_module_version": "1.2.0",
            "_model_name": "LayoutModel",
            "_view_count": null,
            "_view_module": "@jupyter-widgets/base",
            "_view_module_version": "1.2.0",
            "_view_name": "LayoutView",
            "align_content": null,
            "align_items": null,
            "align_self": null,
            "border": null,
            "bottom": null,
            "display": null,
            "flex": null,
            "flex_flow": null,
            "grid_area": null,
            "grid_auto_columns": null,
            "grid_auto_flow": null,
            "grid_auto_rows": null,
            "grid_column": null,
            "grid_gap": null,
            "grid_row": null,
            "grid_template_areas": null,
            "grid_template_columns": null,
            "grid_template_rows": null,
            "height": null,
            "justify_content": null,
            "justify_items": null,
            "left": null,
            "margin": null,
            "max_height": null,
            "max_width": null,
            "min_height": null,
            "min_width": null,
            "object_fit": null,
            "object_position": null,
            "order": null,
            "overflow": null,
            "overflow_x": null,
            "overflow_y": null,
            "padding": null,
            "right": null,
            "top": null,
            "visibility": null,
            "width": null
          }
        },
        "a7968cd433e441faad065a9ce7f2b50f": {
          "model_module": "@jupyter-widgets/controls",
          "model_name": "DescriptionStyleModel",
          "model_module_version": "1.5.0",
          "state": {
            "_model_module": "@jupyter-widgets/controls",
            "_model_module_version": "1.5.0",
            "_model_name": "DescriptionStyleModel",
            "_view_count": null,
            "_view_module": "@jupyter-widgets/base",
            "_view_module_version": "1.2.0",
            "_view_name": "StyleView",
            "description_width": ""
          }
        },
        "a02fbce814634dd0ae60bdd6fdd66c60": {
          "model_module": "@jupyter-widgets/controls",
          "model_name": "HBoxModel",
          "model_module_version": "1.5.0",
          "state": {
            "_dom_classes": [],
            "_model_module": "@jupyter-widgets/controls",
            "_model_module_version": "1.5.0",
            "_model_name": "HBoxModel",
            "_view_count": null,
            "_view_module": "@jupyter-widgets/controls",
            "_view_module_version": "1.5.0",
            "_view_name": "HBoxView",
            "box_style": "",
            "children": [
              "IPY_MODEL_7270d898282044a7ad1fc53d882bd7ac",
              "IPY_MODEL_06a191e9b3184ac1973b43a857ebcf2e",
              "IPY_MODEL_aba3839ec7f247549610b3d2d3eb3524"
            ],
            "layout": "IPY_MODEL_b78f0b70e4594d2789c348ed3eb8c688"
          }
        },
        "7270d898282044a7ad1fc53d882bd7ac": {
          "model_module": "@jupyter-widgets/controls",
          "model_name": "HTMLModel",
          "model_module_version": "1.5.0",
          "state": {
            "_dom_classes": [],
            "_model_module": "@jupyter-widgets/controls",
            "_model_module_version": "1.5.0",
            "_model_name": "HTMLModel",
            "_view_count": null,
            "_view_module": "@jupyter-widgets/controls",
            "_view_module_version": "1.5.0",
            "_view_name": "HTMLView",
            "description": "",
            "description_tooltip": null,
            "layout": "IPY_MODEL_0e85fc82d76341d59bc43dfd8617682f",
            "placeholder": "​",
            "style": "IPY_MODEL_73f33b160cf64d9db90d8bc67e2a3f48",
            "value": "model.safetensors: 100%"
          }
        },
        "06a191e9b3184ac1973b43a857ebcf2e": {
          "model_module": "@jupyter-widgets/controls",
          "model_name": "FloatProgressModel",
          "model_module_version": "1.5.0",
          "state": {
            "_dom_classes": [],
            "_model_module": "@jupyter-widgets/controls",
            "_model_module_version": "1.5.0",
            "_model_name": "FloatProgressModel",
            "_view_count": null,
            "_view_module": "@jupyter-widgets/controls",
            "_view_module_version": "1.5.0",
            "_view_name": "ProgressView",
            "bar_style": "success",
            "description": "",
            "description_tooltip": null,
            "layout": "IPY_MODEL_289fc6d8daa94eaf952532d8d59360ac",
            "max": 90870598,
            "min": 0,
            "orientation": "horizontal",
            "style": "IPY_MODEL_d3c256b9f72d42bfa2597b06dee46c12",
            "value": 90870598
          }
        },
        "aba3839ec7f247549610b3d2d3eb3524": {
          "model_module": "@jupyter-widgets/controls",
          "model_name": "HTMLModel",
          "model_module_version": "1.5.0",
          "state": {
            "_dom_classes": [],
            "_model_module": "@jupyter-widgets/controls",
            "_model_module_version": "1.5.0",
            "_model_name": "HTMLModel",
            "_view_count": null,
            "_view_module": "@jupyter-widgets/controls",
            "_view_module_version": "1.5.0",
            "_view_name": "HTMLView",
            "description": "",
            "description_tooltip": null,
            "layout": "IPY_MODEL_3fbe55ad3b874f53a49f4d3fa01e7dd6",
            "placeholder": "​",
            "style": "IPY_MODEL_9fe90d661a7c4cdc865d54cf35731caa",
            "value": " 90.9M/90.9M [00:00&lt;00:00, 193MB/s]"
          }
        },
        "b78f0b70e4594d2789c348ed3eb8c688": {
          "model_module": "@jupyter-widgets/base",
          "model_name": "LayoutModel",
          "model_module_version": "1.2.0",
          "state": {
            "_model_module": "@jupyter-widgets/base",
            "_model_module_version": "1.2.0",
            "_model_name": "LayoutModel",
            "_view_count": null,
            "_view_module": "@jupyter-widgets/base",
            "_view_module_version": "1.2.0",
            "_view_name": "LayoutView",
            "align_content": null,
            "align_items": null,
            "align_self": null,
            "border": null,
            "bottom": null,
            "display": null,
            "flex": null,
            "flex_flow": null,
            "grid_area": null,
            "grid_auto_columns": null,
            "grid_auto_flow": null,
            "grid_auto_rows": null,
            "grid_column": null,
            "grid_gap": null,
            "grid_row": null,
            "grid_template_areas": null,
            "grid_template_columns": null,
            "grid_template_rows": null,
            "height": null,
            "justify_content": null,
            "justify_items": null,
            "left": null,
            "margin": null,
            "max_height": null,
            "max_width": null,
            "min_height": null,
            "min_width": null,
            "object_fit": null,
            "object_position": null,
            "order": null,
            "overflow": null,
            "overflow_x": null,
            "overflow_y": null,
            "padding": null,
            "right": null,
            "top": null,
            "visibility": null,
            "width": null
          }
        },
        "0e85fc82d76341d59bc43dfd8617682f": {
          "model_module": "@jupyter-widgets/base",
          "model_name": "LayoutModel",
          "model_module_version": "1.2.0",
          "state": {
            "_model_module": "@jupyter-widgets/base",
            "_model_module_version": "1.2.0",
            "_model_name": "LayoutModel",
            "_view_count": null,
            "_view_module": "@jupyter-widgets/base",
            "_view_module_version": "1.2.0",
            "_view_name": "LayoutView",
            "align_content": null,
            "align_items": null,
            "align_self": null,
            "border": null,
            "bottom": null,
            "display": null,
            "flex": null,
            "flex_flow": null,
            "grid_area": null,
            "grid_auto_columns": null,
            "grid_auto_flow": null,
            "grid_auto_rows": null,
            "grid_column": null,
            "grid_gap": null,
            "grid_row": null,
            "grid_template_areas": null,
            "grid_template_columns": null,
            "grid_template_rows": null,
            "height": null,
            "justify_content": null,
            "justify_items": null,
            "left": null,
            "margin": null,
            "max_height": null,
            "max_width": null,
            "min_height": null,
            "min_width": null,
            "object_fit": null,
            "object_position": null,
            "order": null,
            "overflow": null,
            "overflow_x": null,
            "overflow_y": null,
            "padding": null,
            "right": null,
            "top": null,
            "visibility": null,
            "width": null
          }
        },
        "73f33b160cf64d9db90d8bc67e2a3f48": {
          "model_module": "@jupyter-widgets/controls",
          "model_name": "DescriptionStyleModel",
          "model_module_version": "1.5.0",
          "state": {
            "_model_module": "@jupyter-widgets/controls",
            "_model_module_version": "1.5.0",
            "_model_name": "DescriptionStyleModel",
            "_view_count": null,
            "_view_module": "@jupyter-widgets/base",
            "_view_module_version": "1.2.0",
            "_view_name": "StyleView",
            "description_width": ""
          }
        },
        "289fc6d8daa94eaf952532d8d59360ac": {
          "model_module": "@jupyter-widgets/base",
          "model_name": "LayoutModel",
          "model_module_version": "1.2.0",
          "state": {
            "_model_module": "@jupyter-widgets/base",
            "_model_module_version": "1.2.0",
            "_model_name": "LayoutModel",
            "_view_count": null,
            "_view_module": "@jupyter-widgets/base",
            "_view_module_version": "1.2.0",
            "_view_name": "LayoutView",
            "align_content": null,
            "align_items": null,
            "align_self": null,
            "border": null,
            "bottom": null,
            "display": null,
            "flex": null,
            "flex_flow": null,
            "grid_area": null,
            "grid_auto_columns": null,
            "grid_auto_flow": null,
            "grid_auto_rows": null,
            "grid_column": null,
            "grid_gap": null,
            "grid_row": null,
            "grid_template_areas": null,
            "grid_template_columns": null,
            "grid_template_rows": null,
            "height": null,
            "justify_content": null,
            "justify_items": null,
            "left": null,
            "margin": null,
            "max_height": null,
            "max_width": null,
            "min_height": null,
            "min_width": null,
            "object_fit": null,
            "object_position": null,
            "order": null,
            "overflow": null,
            "overflow_x": null,
            "overflow_y": null,
            "padding": null,
            "right": null,
            "top": null,
            "visibility": null,
            "width": null
          }
        },
        "d3c256b9f72d42bfa2597b06dee46c12": {
          "model_module": "@jupyter-widgets/controls",
          "model_name": "ProgressStyleModel",
          "model_module_version": "1.5.0",
          "state": {
            "_model_module": "@jupyter-widgets/controls",
            "_model_module_version": "1.5.0",
            "_model_name": "ProgressStyleModel",
            "_view_count": null,
            "_view_module": "@jupyter-widgets/base",
            "_view_module_version": "1.2.0",
            "_view_name": "StyleView",
            "bar_color": null,
            "description_width": ""
          }
        },
        "3fbe55ad3b874f53a49f4d3fa01e7dd6": {
          "model_module": "@jupyter-widgets/base",
          "model_name": "LayoutModel",
          "model_module_version": "1.2.0",
          "state": {
            "_model_module": "@jupyter-widgets/base",
            "_model_module_version": "1.2.0",
            "_model_name": "LayoutModel",
            "_view_count": null,
            "_view_module": "@jupyter-widgets/base",
            "_view_module_version": "1.2.0",
            "_view_name": "LayoutView",
            "align_content": null,
            "align_items": null,
            "align_self": null,
            "border": null,
            "bottom": null,
            "display": null,
            "flex": null,
            "flex_flow": null,
            "grid_area": null,
            "grid_auto_columns": null,
            "grid_auto_flow": null,
            "grid_auto_rows": null,
            "grid_column": null,
            "grid_gap": null,
            "grid_row": null,
            "grid_template_areas": null,
            "grid_template_columns": null,
            "grid_template_rows": null,
            "height": null,
            "justify_content": null,
            "justify_items": null,
            "left": null,
            "margin": null,
            "max_height": null,
            "max_width": null,
            "min_height": null,
            "min_width": null,
            "object_fit": null,
            "object_position": null,
            "order": null,
            "overflow": null,
            "overflow_x": null,
            "overflow_y": null,
            "padding": null,
            "right": null,
            "top": null,
            "visibility": null,
            "width": null
          }
        },
        "9fe90d661a7c4cdc865d54cf35731caa": {
          "model_module": "@jupyter-widgets/controls",
          "model_name": "DescriptionStyleModel",
          "model_module_version": "1.5.0",
          "state": {
            "_model_module": "@jupyter-widgets/controls",
            "_model_module_version": "1.5.0",
            "_model_name": "DescriptionStyleModel",
            "_view_count": null,
            "_view_module": "@jupyter-widgets/base",
            "_view_module_version": "1.2.0",
            "_view_name": "StyleView",
            "description_width": ""
          }
        },
        "becfbde8829047e08386d9833a9f224f": {
          "model_module": "@jupyter-widgets/controls",
          "model_name": "HBoxModel",
          "model_module_version": "1.5.0",
          "state": {
            "_dom_classes": [],
            "_model_module": "@jupyter-widgets/controls",
            "_model_module_version": "1.5.0",
            "_model_name": "HBoxModel",
            "_view_count": null,
            "_view_module": "@jupyter-widgets/controls",
            "_view_module_version": "1.5.0",
            "_view_name": "HBoxView",
            "box_style": "",
            "children": [
              "IPY_MODEL_acbbd7d71c964181aacf32e5bc20e42c",
              "IPY_MODEL_f3620ec0b71e4e9db5537253d4d1cfe6",
              "IPY_MODEL_c85e61d838204d48979ef911924a3b6e"
            ],
            "layout": "IPY_MODEL_de16aeec6a394d91814897c7e94cc0ac"
          }
        },
        "acbbd7d71c964181aacf32e5bc20e42c": {
          "model_module": "@jupyter-widgets/controls",
          "model_name": "HTMLModel",
          "model_module_version": "1.5.0",
          "state": {
            "_dom_classes": [],
            "_model_module": "@jupyter-widgets/controls",
            "_model_module_version": "1.5.0",
            "_model_name": "HTMLModel",
            "_view_count": null,
            "_view_module": "@jupyter-widgets/controls",
            "_view_module_version": "1.5.0",
            "_view_name": "HTMLView",
            "description": "",
            "description_tooltip": null,
            "layout": "IPY_MODEL_c95194b8ea4a466aa2b7757c54dce97a",
            "placeholder": "​",
            "style": "IPY_MODEL_b0b0815051b74887bb0d64478b3e6978",
            "value": "tokenizer_config.json: 100%"
          }
        },
        "f3620ec0b71e4e9db5537253d4d1cfe6": {
          "model_module": "@jupyter-widgets/controls",
          "model_name": "FloatProgressModel",
          "model_module_version": "1.5.0",
          "state": {
            "_dom_classes": [],
            "_model_module": "@jupyter-widgets/controls",
            "_model_module_version": "1.5.0",
            "_model_name": "FloatProgressModel",
            "_view_count": null,
            "_view_module": "@jupyter-widgets/controls",
            "_view_module_version": "1.5.0",
            "_view_name": "ProgressView",
            "bar_style": "success",
            "description": "",
            "description_tooltip": null,
            "layout": "IPY_MODEL_55617e64bb304e73b4e264abb707af24",
            "max": 316,
            "min": 0,
            "orientation": "horizontal",
            "style": "IPY_MODEL_e251fd44933d4ac19863629888f988b3",
            "value": 316
          }
        },
        "c85e61d838204d48979ef911924a3b6e": {
          "model_module": "@jupyter-widgets/controls",
          "model_name": "HTMLModel",
          "model_module_version": "1.5.0",
          "state": {
            "_dom_classes": [],
            "_model_module": "@jupyter-widgets/controls",
            "_model_module_version": "1.5.0",
            "_model_name": "HTMLModel",
            "_view_count": null,
            "_view_module": "@jupyter-widgets/controls",
            "_view_module_version": "1.5.0",
            "_view_name": "HTMLView",
            "description": "",
            "description_tooltip": null,
            "layout": "IPY_MODEL_ecfe384705e64ef985b8fb923a0150cd",
            "placeholder": "​",
            "style": "IPY_MODEL_f9a861667c8c48098f545f0ea226f0b9",
            "value": " 316/316 [00:00&lt;00:00, 20.7kB/s]"
          }
        },
        "de16aeec6a394d91814897c7e94cc0ac": {
          "model_module": "@jupyter-widgets/base",
          "model_name": "LayoutModel",
          "model_module_version": "1.2.0",
          "state": {
            "_model_module": "@jupyter-widgets/base",
            "_model_module_version": "1.2.0",
            "_model_name": "LayoutModel",
            "_view_count": null,
            "_view_module": "@jupyter-widgets/base",
            "_view_module_version": "1.2.0",
            "_view_name": "LayoutView",
            "align_content": null,
            "align_items": null,
            "align_self": null,
            "border": null,
            "bottom": null,
            "display": null,
            "flex": null,
            "flex_flow": null,
            "grid_area": null,
            "grid_auto_columns": null,
            "grid_auto_flow": null,
            "grid_auto_rows": null,
            "grid_column": null,
            "grid_gap": null,
            "grid_row": null,
            "grid_template_areas": null,
            "grid_template_columns": null,
            "grid_template_rows": null,
            "height": null,
            "justify_content": null,
            "justify_items": null,
            "left": null,
            "margin": null,
            "max_height": null,
            "max_width": null,
            "min_height": null,
            "min_width": null,
            "object_fit": null,
            "object_position": null,
            "order": null,
            "overflow": null,
            "overflow_x": null,
            "overflow_y": null,
            "padding": null,
            "right": null,
            "top": null,
            "visibility": null,
            "width": null
          }
        },
        "c95194b8ea4a466aa2b7757c54dce97a": {
          "model_module": "@jupyter-widgets/base",
          "model_name": "LayoutModel",
          "model_module_version": "1.2.0",
          "state": {
            "_model_module": "@jupyter-widgets/base",
            "_model_module_version": "1.2.0",
            "_model_name": "LayoutModel",
            "_view_count": null,
            "_view_module": "@jupyter-widgets/base",
            "_view_module_version": "1.2.0",
            "_view_name": "LayoutView",
            "align_content": null,
            "align_items": null,
            "align_self": null,
            "border": null,
            "bottom": null,
            "display": null,
            "flex": null,
            "flex_flow": null,
            "grid_area": null,
            "grid_auto_columns": null,
            "grid_auto_flow": null,
            "grid_auto_rows": null,
            "grid_column": null,
            "grid_gap": null,
            "grid_row": null,
            "grid_template_areas": null,
            "grid_template_columns": null,
            "grid_template_rows": null,
            "height": null,
            "justify_content": null,
            "justify_items": null,
            "left": null,
            "margin": null,
            "max_height": null,
            "max_width": null,
            "min_height": null,
            "min_width": null,
            "object_fit": null,
            "object_position": null,
            "order": null,
            "overflow": null,
            "overflow_x": null,
            "overflow_y": null,
            "padding": null,
            "right": null,
            "top": null,
            "visibility": null,
            "width": null
          }
        },
        "b0b0815051b74887bb0d64478b3e6978": {
          "model_module": "@jupyter-widgets/controls",
          "model_name": "DescriptionStyleModel",
          "model_module_version": "1.5.0",
          "state": {
            "_model_module": "@jupyter-widgets/controls",
            "_model_module_version": "1.5.0",
            "_model_name": "DescriptionStyleModel",
            "_view_count": null,
            "_view_module": "@jupyter-widgets/base",
            "_view_module_version": "1.2.0",
            "_view_name": "StyleView",
            "description_width": ""
          }
        },
        "55617e64bb304e73b4e264abb707af24": {
          "model_module": "@jupyter-widgets/base",
          "model_name": "LayoutModel",
          "model_module_version": "1.2.0",
          "state": {
            "_model_module": "@jupyter-widgets/base",
            "_model_module_version": "1.2.0",
            "_model_name": "LayoutModel",
            "_view_count": null,
            "_view_module": "@jupyter-widgets/base",
            "_view_module_version": "1.2.0",
            "_view_name": "LayoutView",
            "align_content": null,
            "align_items": null,
            "align_self": null,
            "border": null,
            "bottom": null,
            "display": null,
            "flex": null,
            "flex_flow": null,
            "grid_area": null,
            "grid_auto_columns": null,
            "grid_auto_flow": null,
            "grid_auto_rows": null,
            "grid_column": null,
            "grid_gap": null,
            "grid_row": null,
            "grid_template_areas": null,
            "grid_template_columns": null,
            "grid_template_rows": null,
            "height": null,
            "justify_content": null,
            "justify_items": null,
            "left": null,
            "margin": null,
            "max_height": null,
            "max_width": null,
            "min_height": null,
            "min_width": null,
            "object_fit": null,
            "object_position": null,
            "order": null,
            "overflow": null,
            "overflow_x": null,
            "overflow_y": null,
            "padding": null,
            "right": null,
            "top": null,
            "visibility": null,
            "width": null
          }
        },
        "e251fd44933d4ac19863629888f988b3": {
          "model_module": "@jupyter-widgets/controls",
          "model_name": "ProgressStyleModel",
          "model_module_version": "1.5.0",
          "state": {
            "_model_module": "@jupyter-widgets/controls",
            "_model_module_version": "1.5.0",
            "_model_name": "ProgressStyleModel",
            "_view_count": null,
            "_view_module": "@jupyter-widgets/base",
            "_view_module_version": "1.2.0",
            "_view_name": "StyleView",
            "bar_color": null,
            "description_width": ""
          }
        },
        "ecfe384705e64ef985b8fb923a0150cd": {
          "model_module": "@jupyter-widgets/base",
          "model_name": "LayoutModel",
          "model_module_version": "1.2.0",
          "state": {
            "_model_module": "@jupyter-widgets/base",
            "_model_module_version": "1.2.0",
            "_model_name": "LayoutModel",
            "_view_count": null,
            "_view_module": "@jupyter-widgets/base",
            "_view_module_version": "1.2.0",
            "_view_name": "LayoutView",
            "align_content": null,
            "align_items": null,
            "align_self": null,
            "border": null,
            "bottom": null,
            "display": null,
            "flex": null,
            "flex_flow": null,
            "grid_area": null,
            "grid_auto_columns": null,
            "grid_auto_flow": null,
            "grid_auto_rows": null,
            "grid_column": null,
            "grid_gap": null,
            "grid_row": null,
            "grid_template_areas": null,
            "grid_template_columns": null,
            "grid_template_rows": null,
            "height": null,
            "justify_content": null,
            "justify_items": null,
            "left": null,
            "margin": null,
            "max_height": null,
            "max_width": null,
            "min_height": null,
            "min_width": null,
            "object_fit": null,
            "object_position": null,
            "order": null,
            "overflow": null,
            "overflow_x": null,
            "overflow_y": null,
            "padding": null,
            "right": null,
            "top": null,
            "visibility": null,
            "width": null
          }
        },
        "f9a861667c8c48098f545f0ea226f0b9": {
          "model_module": "@jupyter-widgets/controls",
          "model_name": "DescriptionStyleModel",
          "model_module_version": "1.5.0",
          "state": {
            "_model_module": "@jupyter-widgets/controls",
            "_model_module_version": "1.5.0",
            "_model_name": "DescriptionStyleModel",
            "_view_count": null,
            "_view_module": "@jupyter-widgets/base",
            "_view_module_version": "1.2.0",
            "_view_name": "StyleView",
            "description_width": ""
          }
        },
        "aa3c46f936fe40a88f0d808ec83ddd42": {
          "model_module": "@jupyter-widgets/controls",
          "model_name": "HBoxModel",
          "model_module_version": "1.5.0",
          "state": {
            "_dom_classes": [],
            "_model_module": "@jupyter-widgets/controls",
            "_model_module_version": "1.5.0",
            "_model_name": "HBoxModel",
            "_view_count": null,
            "_view_module": "@jupyter-widgets/controls",
            "_view_module_version": "1.5.0",
            "_view_name": "HBoxView",
            "box_style": "",
            "children": [
              "IPY_MODEL_72d992a47d024ee0a2b3545390cc8341",
              "IPY_MODEL_d990f5c35f1e4aeaabed327d32e5d4d9",
              "IPY_MODEL_3563da8ed6ae4cc592298547233465c6"
            ],
            "layout": "IPY_MODEL_ab924246275b4304a0f1bd0d3e0275f0"
          }
        },
        "72d992a47d024ee0a2b3545390cc8341": {
          "model_module": "@jupyter-widgets/controls",
          "model_name": "HTMLModel",
          "model_module_version": "1.5.0",
          "state": {
            "_dom_classes": [],
            "_model_module": "@jupyter-widgets/controls",
            "_model_module_version": "1.5.0",
            "_model_name": "HTMLModel",
            "_view_count": null,
            "_view_module": "@jupyter-widgets/controls",
            "_view_module_version": "1.5.0",
            "_view_name": "HTMLView",
            "description": "",
            "description_tooltip": null,
            "layout": "IPY_MODEL_7eb17e7e48624331acdadb03f78d2af3",
            "placeholder": "​",
            "style": "IPY_MODEL_267c84f7b7ff46818bce42f8f58121c3",
            "value": "vocab.txt: 100%"
          }
        },
        "d990f5c35f1e4aeaabed327d32e5d4d9": {
          "model_module": "@jupyter-widgets/controls",
          "model_name": "FloatProgressModel",
          "model_module_version": "1.5.0",
          "state": {
            "_dom_classes": [],
            "_model_module": "@jupyter-widgets/controls",
            "_model_module_version": "1.5.0",
            "_model_name": "FloatProgressModel",
            "_view_count": null,
            "_view_module": "@jupyter-widgets/controls",
            "_view_module_version": "1.5.0",
            "_view_name": "ProgressView",
            "bar_style": "success",
            "description": "",
            "description_tooltip": null,
            "layout": "IPY_MODEL_62f955796cbd44ab9e679ec0d253fc01",
            "max": 231508,
            "min": 0,
            "orientation": "horizontal",
            "style": "IPY_MODEL_dd31e33c18e14ae8950505c259c53e93",
            "value": 231508
          }
        },
        "3563da8ed6ae4cc592298547233465c6": {
          "model_module": "@jupyter-widgets/controls",
          "model_name": "HTMLModel",
          "model_module_version": "1.5.0",
          "state": {
            "_dom_classes": [],
            "_model_module": "@jupyter-widgets/controls",
            "_model_module_version": "1.5.0",
            "_model_name": "HTMLModel",
            "_view_count": null,
            "_view_module": "@jupyter-widgets/controls",
            "_view_module_version": "1.5.0",
            "_view_name": "HTMLView",
            "description": "",
            "description_tooltip": null,
            "layout": "IPY_MODEL_1071a36a7140455786a0825fed5ca0a8",
            "placeholder": "​",
            "style": "IPY_MODEL_723900bcbd9c4539a5a38cbfab84fefd",
            "value": " 232k/232k [00:00&lt;00:00, 660kB/s]"
          }
        },
        "ab924246275b4304a0f1bd0d3e0275f0": {
          "model_module": "@jupyter-widgets/base",
          "model_name": "LayoutModel",
          "model_module_version": "1.2.0",
          "state": {
            "_model_module": "@jupyter-widgets/base",
            "_model_module_version": "1.2.0",
            "_model_name": "LayoutModel",
            "_view_count": null,
            "_view_module": "@jupyter-widgets/base",
            "_view_module_version": "1.2.0",
            "_view_name": "LayoutView",
            "align_content": null,
            "align_items": null,
            "align_self": null,
            "border": null,
            "bottom": null,
            "display": null,
            "flex": null,
            "flex_flow": null,
            "grid_area": null,
            "grid_auto_columns": null,
            "grid_auto_flow": null,
            "grid_auto_rows": null,
            "grid_column": null,
            "grid_gap": null,
            "grid_row": null,
            "grid_template_areas": null,
            "grid_template_columns": null,
            "grid_template_rows": null,
            "height": null,
            "justify_content": null,
            "justify_items": null,
            "left": null,
            "margin": null,
            "max_height": null,
            "max_width": null,
            "min_height": null,
            "min_width": null,
            "object_fit": null,
            "object_position": null,
            "order": null,
            "overflow": null,
            "overflow_x": null,
            "overflow_y": null,
            "padding": null,
            "right": null,
            "top": null,
            "visibility": null,
            "width": null
          }
        },
        "7eb17e7e48624331acdadb03f78d2af3": {
          "model_module": "@jupyter-widgets/base",
          "model_name": "LayoutModel",
          "model_module_version": "1.2.0",
          "state": {
            "_model_module": "@jupyter-widgets/base",
            "_model_module_version": "1.2.0",
            "_model_name": "LayoutModel",
            "_view_count": null,
            "_view_module": "@jupyter-widgets/base",
            "_view_module_version": "1.2.0",
            "_view_name": "LayoutView",
            "align_content": null,
            "align_items": null,
            "align_self": null,
            "border": null,
            "bottom": null,
            "display": null,
            "flex": null,
            "flex_flow": null,
            "grid_area": null,
            "grid_auto_columns": null,
            "grid_auto_flow": null,
            "grid_auto_rows": null,
            "grid_column": null,
            "grid_gap": null,
            "grid_row": null,
            "grid_template_areas": null,
            "grid_template_columns": null,
            "grid_template_rows": null,
            "height": null,
            "justify_content": null,
            "justify_items": null,
            "left": null,
            "margin": null,
            "max_height": null,
            "max_width": null,
            "min_height": null,
            "min_width": null,
            "object_fit": null,
            "object_position": null,
            "order": null,
            "overflow": null,
            "overflow_x": null,
            "overflow_y": null,
            "padding": null,
            "right": null,
            "top": null,
            "visibility": null,
            "width": null
          }
        },
        "267c84f7b7ff46818bce42f8f58121c3": {
          "model_module": "@jupyter-widgets/controls",
          "model_name": "DescriptionStyleModel",
          "model_module_version": "1.5.0",
          "state": {
            "_model_module": "@jupyter-widgets/controls",
            "_model_module_version": "1.5.0",
            "_model_name": "DescriptionStyleModel",
            "_view_count": null,
            "_view_module": "@jupyter-widgets/base",
            "_view_module_version": "1.2.0",
            "_view_name": "StyleView",
            "description_width": ""
          }
        },
        "62f955796cbd44ab9e679ec0d253fc01": {
          "model_module": "@jupyter-widgets/base",
          "model_name": "LayoutModel",
          "model_module_version": "1.2.0",
          "state": {
            "_model_module": "@jupyter-widgets/base",
            "_model_module_version": "1.2.0",
            "_model_name": "LayoutModel",
            "_view_count": null,
            "_view_module": "@jupyter-widgets/base",
            "_view_module_version": "1.2.0",
            "_view_name": "LayoutView",
            "align_content": null,
            "align_items": null,
            "align_self": null,
            "border": null,
            "bottom": null,
            "display": null,
            "flex": null,
            "flex_flow": null,
            "grid_area": null,
            "grid_auto_columns": null,
            "grid_auto_flow": null,
            "grid_auto_rows": null,
            "grid_column": null,
            "grid_gap": null,
            "grid_row": null,
            "grid_template_areas": null,
            "grid_template_columns": null,
            "grid_template_rows": null,
            "height": null,
            "justify_content": null,
            "justify_items": null,
            "left": null,
            "margin": null,
            "max_height": null,
            "max_width": null,
            "min_height": null,
            "min_width": null,
            "object_fit": null,
            "object_position": null,
            "order": null,
            "overflow": null,
            "overflow_x": null,
            "overflow_y": null,
            "padding": null,
            "right": null,
            "top": null,
            "visibility": null,
            "width": null
          }
        },
        "dd31e33c18e14ae8950505c259c53e93": {
          "model_module": "@jupyter-widgets/controls",
          "model_name": "ProgressStyleModel",
          "model_module_version": "1.5.0",
          "state": {
            "_model_module": "@jupyter-widgets/controls",
            "_model_module_version": "1.5.0",
            "_model_name": "ProgressStyleModel",
            "_view_count": null,
            "_view_module": "@jupyter-widgets/base",
            "_view_module_version": "1.2.0",
            "_view_name": "StyleView",
            "bar_color": null,
            "description_width": ""
          }
        },
        "1071a36a7140455786a0825fed5ca0a8": {
          "model_module": "@jupyter-widgets/base",
          "model_name": "LayoutModel",
          "model_module_version": "1.2.0",
          "state": {
            "_model_module": "@jupyter-widgets/base",
            "_model_module_version": "1.2.0",
            "_model_name": "LayoutModel",
            "_view_count": null,
            "_view_module": "@jupyter-widgets/base",
            "_view_module_version": "1.2.0",
            "_view_name": "LayoutView",
            "align_content": null,
            "align_items": null,
            "align_self": null,
            "border": null,
            "bottom": null,
            "display": null,
            "flex": null,
            "flex_flow": null,
            "grid_area": null,
            "grid_auto_columns": null,
            "grid_auto_flow": null,
            "grid_auto_rows": null,
            "grid_column": null,
            "grid_gap": null,
            "grid_row": null,
            "grid_template_areas": null,
            "grid_template_columns": null,
            "grid_template_rows": null,
            "height": null,
            "justify_content": null,
            "justify_items": null,
            "left": null,
            "margin": null,
            "max_height": null,
            "max_width": null,
            "min_height": null,
            "min_width": null,
            "object_fit": null,
            "object_position": null,
            "order": null,
            "overflow": null,
            "overflow_x": null,
            "overflow_y": null,
            "padding": null,
            "right": null,
            "top": null,
            "visibility": null,
            "width": null
          }
        },
        "723900bcbd9c4539a5a38cbfab84fefd": {
          "model_module": "@jupyter-widgets/controls",
          "model_name": "DescriptionStyleModel",
          "model_module_version": "1.5.0",
          "state": {
            "_model_module": "@jupyter-widgets/controls",
            "_model_module_version": "1.5.0",
            "_model_name": "DescriptionStyleModel",
            "_view_count": null,
            "_view_module": "@jupyter-widgets/base",
            "_view_module_version": "1.2.0",
            "_view_name": "StyleView",
            "description_width": ""
          }
        },
        "9c7e6308abb74fc7a9bf9a6462ed0eac": {
          "model_module": "@jupyter-widgets/controls",
          "model_name": "HBoxModel",
          "model_module_version": "1.5.0",
          "state": {
            "_dom_classes": [],
            "_model_module": "@jupyter-widgets/controls",
            "_model_module_version": "1.5.0",
            "_model_name": "HBoxModel",
            "_view_count": null,
            "_view_module": "@jupyter-widgets/controls",
            "_view_module_version": "1.5.0",
            "_view_name": "HBoxView",
            "box_style": "",
            "children": [
              "IPY_MODEL_ceec807da6654c09b7a4eef4c154d363",
              "IPY_MODEL_93c2ea057b79457ca3c7664a485759d7",
              "IPY_MODEL_446ffe998e5b47938dbb017dcd158ee7"
            ],
            "layout": "IPY_MODEL_626cd1e4048e4e5aa16b769c49ec760a"
          }
        },
        "ceec807da6654c09b7a4eef4c154d363": {
          "model_module": "@jupyter-widgets/controls",
          "model_name": "HTMLModel",
          "model_module_version": "1.5.0",
          "state": {
            "_dom_classes": [],
            "_model_module": "@jupyter-widgets/controls",
            "_model_module_version": "1.5.0",
            "_model_name": "HTMLModel",
            "_view_count": null,
            "_view_module": "@jupyter-widgets/controls",
            "_view_module_version": "1.5.0",
            "_view_name": "HTMLView",
            "description": "",
            "description_tooltip": null,
            "layout": "IPY_MODEL_b60bdc9ad25a4631a1e4ef58dad36d85",
            "placeholder": "​",
            "style": "IPY_MODEL_8db22082953d40d4b3368064f7d1a44c",
            "value": "special_tokens_map.json: 100%"
          }
        },
        "93c2ea057b79457ca3c7664a485759d7": {
          "model_module": "@jupyter-widgets/controls",
          "model_name": "FloatProgressModel",
          "model_module_version": "1.5.0",
          "state": {
            "_dom_classes": [],
            "_model_module": "@jupyter-widgets/controls",
            "_model_module_version": "1.5.0",
            "_model_name": "FloatProgressModel",
            "_view_count": null,
            "_view_module": "@jupyter-widgets/controls",
            "_view_module_version": "1.5.0",
            "_view_name": "ProgressView",
            "bar_style": "success",
            "description": "",
            "description_tooltip": null,
            "layout": "IPY_MODEL_9824f8bf713d4c12b28c91f553f8a6e8",
            "max": 112,
            "min": 0,
            "orientation": "horizontal",
            "style": "IPY_MODEL_4a913e29a42c4733b0e407ac0a3d1c3e",
            "value": 112
          }
        },
        "446ffe998e5b47938dbb017dcd158ee7": {
          "model_module": "@jupyter-widgets/controls",
          "model_name": "HTMLModel",
          "model_module_version": "1.5.0",
          "state": {
            "_dom_classes": [],
            "_model_module": "@jupyter-widgets/controls",
            "_model_module_version": "1.5.0",
            "_model_name": "HTMLModel",
            "_view_count": null,
            "_view_module": "@jupyter-widgets/controls",
            "_view_module_version": "1.5.0",
            "_view_name": "HTMLView",
            "description": "",
            "description_tooltip": null,
            "layout": "IPY_MODEL_46310c7cdaf14fc2ac6a2e04cbc77d4d",
            "placeholder": "​",
            "style": "IPY_MODEL_17a6e9f9c3eb453e8be05ceea15b28ce",
            "value": " 112/112 [00:00&lt;00:00, 5.96kB/s]"
          }
        },
        "626cd1e4048e4e5aa16b769c49ec760a": {
          "model_module": "@jupyter-widgets/base",
          "model_name": "LayoutModel",
          "model_module_version": "1.2.0",
          "state": {
            "_model_module": "@jupyter-widgets/base",
            "_model_module_version": "1.2.0",
            "_model_name": "LayoutModel",
            "_view_count": null,
            "_view_module": "@jupyter-widgets/base",
            "_view_module_version": "1.2.0",
            "_view_name": "LayoutView",
            "align_content": null,
            "align_items": null,
            "align_self": null,
            "border": null,
            "bottom": null,
            "display": null,
            "flex": null,
            "flex_flow": null,
            "grid_area": null,
            "grid_auto_columns": null,
            "grid_auto_flow": null,
            "grid_auto_rows": null,
            "grid_column": null,
            "grid_gap": null,
            "grid_row": null,
            "grid_template_areas": null,
            "grid_template_columns": null,
            "grid_template_rows": null,
            "height": null,
            "justify_content": null,
            "justify_items": null,
            "left": null,
            "margin": null,
            "max_height": null,
            "max_width": null,
            "min_height": null,
            "min_width": null,
            "object_fit": null,
            "object_position": null,
            "order": null,
            "overflow": null,
            "overflow_x": null,
            "overflow_y": null,
            "padding": null,
            "right": null,
            "top": null,
            "visibility": null,
            "width": null
          }
        },
        "b60bdc9ad25a4631a1e4ef58dad36d85": {
          "model_module": "@jupyter-widgets/base",
          "model_name": "LayoutModel",
          "model_module_version": "1.2.0",
          "state": {
            "_model_module": "@jupyter-widgets/base",
            "_model_module_version": "1.2.0",
            "_model_name": "LayoutModel",
            "_view_count": null,
            "_view_module": "@jupyter-widgets/base",
            "_view_module_version": "1.2.0",
            "_view_name": "LayoutView",
            "align_content": null,
            "align_items": null,
            "align_self": null,
            "border": null,
            "bottom": null,
            "display": null,
            "flex": null,
            "flex_flow": null,
            "grid_area": null,
            "grid_auto_columns": null,
            "grid_auto_flow": null,
            "grid_auto_rows": null,
            "grid_column": null,
            "grid_gap": null,
            "grid_row": null,
            "grid_template_areas": null,
            "grid_template_columns": null,
            "grid_template_rows": null,
            "height": null,
            "justify_content": null,
            "justify_items": null,
            "left": null,
            "margin": null,
            "max_height": null,
            "max_width": null,
            "min_height": null,
            "min_width": null,
            "object_fit": null,
            "object_position": null,
            "order": null,
            "overflow": null,
            "overflow_x": null,
            "overflow_y": null,
            "padding": null,
            "right": null,
            "top": null,
            "visibility": null,
            "width": null
          }
        },
        "8db22082953d40d4b3368064f7d1a44c": {
          "model_module": "@jupyter-widgets/controls",
          "model_name": "DescriptionStyleModel",
          "model_module_version": "1.5.0",
          "state": {
            "_model_module": "@jupyter-widgets/controls",
            "_model_module_version": "1.5.0",
            "_model_name": "DescriptionStyleModel",
            "_view_count": null,
            "_view_module": "@jupyter-widgets/base",
            "_view_module_version": "1.2.0",
            "_view_name": "StyleView",
            "description_width": ""
          }
        },
        "9824f8bf713d4c12b28c91f553f8a6e8": {
          "model_module": "@jupyter-widgets/base",
          "model_name": "LayoutModel",
          "model_module_version": "1.2.0",
          "state": {
            "_model_module": "@jupyter-widgets/base",
            "_model_module_version": "1.2.0",
            "_model_name": "LayoutModel",
            "_view_count": null,
            "_view_module": "@jupyter-widgets/base",
            "_view_module_version": "1.2.0",
            "_view_name": "LayoutView",
            "align_content": null,
            "align_items": null,
            "align_self": null,
            "border": null,
            "bottom": null,
            "display": null,
            "flex": null,
            "flex_flow": null,
            "grid_area": null,
            "grid_auto_columns": null,
            "grid_auto_flow": null,
            "grid_auto_rows": null,
            "grid_column": null,
            "grid_gap": null,
            "grid_row": null,
            "grid_template_areas": null,
            "grid_template_columns": null,
            "grid_template_rows": null,
            "height": null,
            "justify_content": null,
            "justify_items": null,
            "left": null,
            "margin": null,
            "max_height": null,
            "max_width": null,
            "min_height": null,
            "min_width": null,
            "object_fit": null,
            "object_position": null,
            "order": null,
            "overflow": null,
            "overflow_x": null,
            "overflow_y": null,
            "padding": null,
            "right": null,
            "top": null,
            "visibility": null,
            "width": null
          }
        },
        "4a913e29a42c4733b0e407ac0a3d1c3e": {
          "model_module": "@jupyter-widgets/controls",
          "model_name": "ProgressStyleModel",
          "model_module_version": "1.5.0",
          "state": {
            "_model_module": "@jupyter-widgets/controls",
            "_model_module_version": "1.5.0",
            "_model_name": "ProgressStyleModel",
            "_view_count": null,
            "_view_module": "@jupyter-widgets/base",
            "_view_module_version": "1.2.0",
            "_view_name": "StyleView",
            "bar_color": null,
            "description_width": ""
          }
        },
        "46310c7cdaf14fc2ac6a2e04cbc77d4d": {
          "model_module": "@jupyter-widgets/base",
          "model_name": "LayoutModel",
          "model_module_version": "1.2.0",
          "state": {
            "_model_module": "@jupyter-widgets/base",
            "_model_module_version": "1.2.0",
            "_model_name": "LayoutModel",
            "_view_count": null,
            "_view_module": "@jupyter-widgets/base",
            "_view_module_version": "1.2.0",
            "_view_name": "LayoutView",
            "align_content": null,
            "align_items": null,
            "align_self": null,
            "border": null,
            "bottom": null,
            "display": null,
            "flex": null,
            "flex_flow": null,
            "grid_area": null,
            "grid_auto_columns": null,
            "grid_auto_flow": null,
            "grid_auto_rows": null,
            "grid_column": null,
            "grid_gap": null,
            "grid_row": null,
            "grid_template_areas": null,
            "grid_template_columns": null,
            "grid_template_rows": null,
            "height": null,
            "justify_content": null,
            "justify_items": null,
            "left": null,
            "margin": null,
            "max_height": null,
            "max_width": null,
            "min_height": null,
            "min_width": null,
            "object_fit": null,
            "object_position": null,
            "order": null,
            "overflow": null,
            "overflow_x": null,
            "overflow_y": null,
            "padding": null,
            "right": null,
            "top": null,
            "visibility": null,
            "width": null
          }
        },
        "17a6e9f9c3eb453e8be05ceea15b28ce": {
          "model_module": "@jupyter-widgets/controls",
          "model_name": "DescriptionStyleModel",
          "model_module_version": "1.5.0",
          "state": {
            "_model_module": "@jupyter-widgets/controls",
            "_model_module_version": "1.5.0",
            "_model_name": "DescriptionStyleModel",
            "_view_count": null,
            "_view_module": "@jupyter-widgets/base",
            "_view_module_version": "1.2.0",
            "_view_name": "StyleView",
            "description_width": ""
          }
        }
      }
    }
  },
  "cells": [
    {
      "cell_type": "markdown",
      "metadata": {
        "id": "view-in-github",
        "colab_type": "text"
      },
      "source": [
        "<a href=\"https://colab.research.google.com/github/muffafa/advent-of-haystack-2024-2025-solutions/blob/main/Solution_Advent_of_Haystack_Enhancing_Pipeline.ipynb\" target=\"_parent\"><img src=\"https://colab.research.google.com/assets/colab-badge.svg\" alt=\"Open In Colab\"/></a>"
      ]
    },
    {
      "cell_type": "markdown",
      "source": [
        "# Advent of Haystack: Day 1\n",
        "_Make a copy of this Colab to start!_\n",
        "\n",
        "In this first challenge, we are going to build a pipeline that answers questions based on the contents of a URL. The given pipeline works as it, but your task is to complete the connnections and add the **other required two components**👇\n",
        "\n",
        "### Initial Components to use:\n",
        "- [`LinkContentFetcher`](https://docs.haystack.deepset.ai/docs/linkcontentfetcher) for using the contents of several URLs in your pipeline\n",
        "- [`HTMLToDocument`](https://docs.haystack.deepset.ai/docs/htmltodocument) for converting the HTML files into documents.\n",
        "- [`PromptBuilder`](https://docs.haystack.deepset.ai/docs/promptbuilder) for creating the prompt\n",
        "- [`OpenAIGenerator`](https://docs.haystack.deepset.ai/docs/openaigenerator) for generating responses"
      ],
      "metadata": {
        "id": "5q2FHwPY-wqJ"
      }
    },
    {
      "cell_type": "markdown",
      "source": [
        "### 1) Installation\n",
        "\n",
        "Install `haystack-ai`, `trafilatura` and `sentence-transformers` packages with `pip`:"
      ],
      "metadata": {
        "id": "ZALZDx-LFebK"
      }
    },
    {
      "cell_type": "code",
      "execution_count": null,
      "metadata": {
        "id": "QJJ5AT3Z79e3",
        "colab": {
          "base_uri": "https://localhost:8080/"
        },
        "outputId": "eef65575-4e69-446e-c206-f17d0da75ec2"
      },
      "outputs": [
        {
          "output_type": "stream",
          "name": "stdout",
          "text": [
            "Requirement already satisfied: haystack-ai in /usr/local/lib/python3.10/dist-packages (2.8.0)\n",
            "Requirement already satisfied: trafilatura in /usr/local/lib/python3.10/dist-packages (2.0.0)\n",
            "Requirement already satisfied: sentence-transformers>=3.0.0 in /usr/local/lib/python3.10/dist-packages (3.3.1)\n",
            "Requirement already satisfied: haystack-experimental in /usr/local/lib/python3.10/dist-packages (from haystack-ai) (0.4.0)\n",
            "Requirement already satisfied: jinja2 in /usr/local/lib/python3.10/dist-packages (from haystack-ai) (3.1.4)\n",
            "Requirement already satisfied: lazy-imports in /usr/local/lib/python3.10/dist-packages (from haystack-ai) (0.4.0)\n",
            "Requirement already satisfied: more-itertools in /usr/local/lib/python3.10/dist-packages (from haystack-ai) (10.5.0)\n",
            "Requirement already satisfied: networkx in /usr/local/lib/python3.10/dist-packages (from haystack-ai) (3.4.2)\n",
            "Requirement already satisfied: numpy in /usr/local/lib/python3.10/dist-packages (from haystack-ai) (1.26.4)\n",
            "Requirement already satisfied: openai>=1.1.0 in /usr/local/lib/python3.10/dist-packages (from haystack-ai) (1.57.4)\n",
            "Requirement already satisfied: pandas in /usr/local/lib/python3.10/dist-packages (from haystack-ai) (2.2.2)\n",
            "Requirement already satisfied: posthog in /usr/local/lib/python3.10/dist-packages (from haystack-ai) (3.7.4)\n",
            "Requirement already satisfied: python-dateutil in /usr/local/lib/python3.10/dist-packages (from haystack-ai) (2.9.0.post0)\n",
            "Requirement already satisfied: pyyaml in /usr/local/lib/python3.10/dist-packages (from haystack-ai) (6.0.2)\n",
            "Requirement already satisfied: requests in /usr/local/lib/python3.10/dist-packages (from haystack-ai) (2.32.3)\n",
            "Requirement already satisfied: tenacity!=8.4.0 in /usr/local/lib/python3.10/dist-packages (from haystack-ai) (9.0.0)\n",
            "Requirement already satisfied: tqdm in /usr/local/lib/python3.10/dist-packages (from haystack-ai) (4.67.1)\n",
            "Requirement already satisfied: typing-extensions>=4.7 in /usr/local/lib/python3.10/dist-packages (from haystack-ai) (4.12.2)\n",
            "Requirement already satisfied: certifi in /usr/local/lib/python3.10/dist-packages (from trafilatura) (2024.12.14)\n",
            "Requirement already satisfied: charset_normalizer>=3.4.0 in /usr/local/lib/python3.10/dist-packages (from trafilatura) (3.4.0)\n",
            "Requirement already satisfied: courlan>=1.3.2 in /usr/local/lib/python3.10/dist-packages (from trafilatura) (1.3.2)\n",
            "Requirement already satisfied: htmldate>=1.9.2 in /usr/local/lib/python3.10/dist-packages (from trafilatura) (1.9.2)\n",
            "Requirement already satisfied: justext>=3.0.1 in /usr/local/lib/python3.10/dist-packages (from trafilatura) (3.0.1)\n",
            "Requirement already satisfied: lxml>=5.3.0 in /usr/local/lib/python3.10/dist-packages (from trafilatura) (5.3.0)\n",
            "Requirement already satisfied: urllib3<3,>=1.26 in /usr/local/lib/python3.10/dist-packages (from trafilatura) (2.2.3)\n",
            "Requirement already satisfied: transformers<5.0.0,>=4.41.0 in /usr/local/lib/python3.10/dist-packages (from sentence-transformers>=3.0.0) (4.47.1)\n",
            "Requirement already satisfied: torch>=1.11.0 in /usr/local/lib/python3.10/dist-packages (from sentence-transformers>=3.0.0) (2.5.1+cu121)\n",
            "Requirement already satisfied: scikit-learn in /usr/local/lib/python3.10/dist-packages (from sentence-transformers>=3.0.0) (1.6.0)\n",
            "Requirement already satisfied: scipy in /usr/local/lib/python3.10/dist-packages (from sentence-transformers>=3.0.0) (1.13.1)\n",
            "Requirement already satisfied: huggingface-hub>=0.20.0 in /usr/local/lib/python3.10/dist-packages (from sentence-transformers>=3.0.0) (0.27.0)\n",
            "Requirement already satisfied: Pillow in /usr/local/lib/python3.10/dist-packages (from sentence-transformers>=3.0.0) (11.0.0)\n",
            "Requirement already satisfied: babel>=2.16.0 in /usr/local/lib/python3.10/dist-packages (from courlan>=1.3.2->trafilatura) (2.16.0)\n",
            "Requirement already satisfied: tld>=0.13 in /usr/local/lib/python3.10/dist-packages (from courlan>=1.3.2->trafilatura) (0.13)\n",
            "Requirement already satisfied: dateparser>=1.1.2 in /usr/local/lib/python3.10/dist-packages (from htmldate>=1.9.2->trafilatura) (1.2.0)\n",
            "Requirement already satisfied: filelock in /usr/local/lib/python3.10/dist-packages (from huggingface-hub>=0.20.0->sentence-transformers>=3.0.0) (3.16.1)\n",
            "Requirement already satisfied: fsspec>=2023.5.0 in /usr/local/lib/python3.10/dist-packages (from huggingface-hub>=0.20.0->sentence-transformers>=3.0.0) (2024.10.0)\n",
            "Requirement already satisfied: packaging>=20.9 in /usr/local/lib/python3.10/dist-packages (from huggingface-hub>=0.20.0->sentence-transformers>=3.0.0) (24.2)\n",
            "Requirement already satisfied: anyio<5,>=3.5.0 in /usr/local/lib/python3.10/dist-packages (from openai>=1.1.0->haystack-ai) (3.7.1)\n",
            "Requirement already satisfied: distro<2,>=1.7.0 in /usr/local/lib/python3.10/dist-packages (from openai>=1.1.0->haystack-ai) (1.9.0)\n",
            "Requirement already satisfied: httpx<1,>=0.23.0 in /usr/local/lib/python3.10/dist-packages (from openai>=1.1.0->haystack-ai) (0.28.1)\n",
            "Requirement already satisfied: jiter<1,>=0.4.0 in /usr/local/lib/python3.10/dist-packages (from openai>=1.1.0->haystack-ai) (0.8.2)\n",
            "Requirement already satisfied: pydantic<3,>=1.9.0 in /usr/local/lib/python3.10/dist-packages (from openai>=1.1.0->haystack-ai) (2.10.3)\n",
            "Requirement already satisfied: sniffio in /usr/local/lib/python3.10/dist-packages (from openai>=1.1.0->haystack-ai) (1.3.1)\n",
            "Requirement already satisfied: six>=1.5 in /usr/local/lib/python3.10/dist-packages (from python-dateutil->haystack-ai) (1.17.0)\n",
            "Requirement already satisfied: sympy==1.13.1 in /usr/local/lib/python3.10/dist-packages (from torch>=1.11.0->sentence-transformers>=3.0.0) (1.13.1)\n",
            "Requirement already satisfied: mpmath<1.4,>=1.1.0 in /usr/local/lib/python3.10/dist-packages (from sympy==1.13.1->torch>=1.11.0->sentence-transformers>=3.0.0) (1.3.0)\n",
            "Requirement already satisfied: regex!=2019.12.17 in /usr/local/lib/python3.10/dist-packages (from transformers<5.0.0,>=4.41.0->sentence-transformers>=3.0.0) (2024.11.6)\n",
            "Requirement already satisfied: tokenizers<0.22,>=0.21 in /usr/local/lib/python3.10/dist-packages (from transformers<5.0.0,>=4.41.0->sentence-transformers>=3.0.0) (0.21.0)\n",
            "Requirement already satisfied: safetensors>=0.4.1 in /usr/local/lib/python3.10/dist-packages (from transformers<5.0.0,>=4.41.0->sentence-transformers>=3.0.0) (0.4.5)\n",
            "Requirement already satisfied: MarkupSafe>=2.0 in /usr/local/lib/python3.10/dist-packages (from jinja2->haystack-ai) (3.0.2)\n",
            "Requirement already satisfied: pytz>=2020.1 in /usr/local/lib/python3.10/dist-packages (from pandas->haystack-ai) (2024.2)\n",
            "Requirement already satisfied: tzdata>=2022.7 in /usr/local/lib/python3.10/dist-packages (from pandas->haystack-ai) (2024.2)\n",
            "Requirement already satisfied: monotonic>=1.5 in /usr/local/lib/python3.10/dist-packages (from posthog->haystack-ai) (1.6)\n",
            "Requirement already satisfied: backoff>=1.10.0 in /usr/local/lib/python3.10/dist-packages (from posthog->haystack-ai) (2.2.1)\n",
            "Requirement already satisfied: idna<4,>=2.5 in /usr/local/lib/python3.10/dist-packages (from requests->haystack-ai) (3.10)\n",
            "Requirement already satisfied: joblib>=1.2.0 in /usr/local/lib/python3.10/dist-packages (from scikit-learn->sentence-transformers>=3.0.0) (1.4.2)\n",
            "Requirement already satisfied: threadpoolctl>=3.1.0 in /usr/local/lib/python3.10/dist-packages (from scikit-learn->sentence-transformers>=3.0.0) (3.5.0)\n",
            "Requirement already satisfied: exceptiongroup in /usr/local/lib/python3.10/dist-packages (from anyio<5,>=3.5.0->openai>=1.1.0->haystack-ai) (1.2.2)\n",
            "Requirement already satisfied: tzlocal in /usr/local/lib/python3.10/dist-packages (from dateparser>=1.1.2->htmldate>=1.9.2->trafilatura) (5.2)\n",
            "Requirement already satisfied: httpcore==1.* in /usr/local/lib/python3.10/dist-packages (from httpx<1,>=0.23.0->openai>=1.1.0->haystack-ai) (1.0.7)\n",
            "Requirement already satisfied: h11<0.15,>=0.13 in /usr/local/lib/python3.10/dist-packages (from httpcore==1.*->httpx<1,>=0.23.0->openai>=1.1.0->haystack-ai) (0.14.0)\n",
            "Requirement already satisfied: lxml-html-clean in /usr/local/lib/python3.10/dist-packages (from lxml[html_clean]>=4.4.2->justext>=3.0.1->trafilatura) (0.4.1)\n",
            "Requirement already satisfied: annotated-types>=0.6.0 in /usr/local/lib/python3.10/dist-packages (from pydantic<3,>=1.9.0->openai>=1.1.0->haystack-ai) (0.7.0)\n",
            "Requirement already satisfied: pydantic-core==2.27.1 in /usr/local/lib/python3.10/dist-packages (from pydantic<3,>=1.9.0->openai>=1.1.0->haystack-ai) (2.27.1)\n"
          ]
        }
      ],
      "source": [
        "!pip install haystack-ai trafilatura \"sentence-transformers>=3.0.0\""
      ]
    },
    {
      "cell_type": "markdown",
      "source": [
        "### (Optional) Change the Logging Level\n",
        "\n",
        "This way, not only warnings but also information messages are displayed in the console output."
      ],
      "metadata": {
        "id": "fSgeNUYxXLyI"
      }
    },
    {
      "cell_type": "code",
      "source": [
        "import logging\n",
        "\n",
        "logging.basicConfig(format=\"%(levelname)s - %(name)s -  %(message)s\", level=logging.WARNING)\n",
        "logging.getLogger(\"haystack\").setLevel(logging.DEBUG)"
      ],
      "metadata": {
        "id": "t0k3LE27XKf0"
      },
      "execution_count": null,
      "outputs": []
    },
    {
      "cell_type": "markdown",
      "source": [
        "### 2) Enter API key for OpenAI\n",
        "If you will use OpenAI models, save your API key as `OPENAI_API_KEY` environment variable."
      ],
      "metadata": {
        "id": "W3jwS4A_FmEV"
      }
    },
    {
      "cell_type": "code",
      "source": [
        "from getpass import getpass\n",
        "import os\n",
        "\n",
        "os.environ[\"OPENAI_API_KEY\"] = getpass(\"Enter OpenAI API key:\")"
      ],
      "metadata": {
        "id": "zy4xBS6v8n1s",
        "colab": {
          "base_uri": "https://localhost:8080/"
        },
        "outputId": "dd95f988-6d98-46df-ba52-1a43f58fc2a8"
      },
      "execution_count": null,
      "outputs": [
        {
          "name": "stdout",
          "output_type": "stream",
          "text": [
            "Enter OpenAI API key:··········\n"
          ]
        }
      ]
    },
    {
      "cell_type": "markdown",
      "source": [
        "### 3) Create components"
      ],
      "metadata": {
        "id": "85pAAbaPFtZc"
      }
    },
    {
      "cell_type": "code",
      "source": [
        "from haystack.components.fetchers import LinkContentFetcher\n",
        "from haystack.components.converters import HTMLToDocument\n",
        "from haystack.components.preprocessors import DocumentSplitter\n",
        "from haystack.components.rankers import TransformersSimilarityRanker\n",
        "from haystack.components.builders import PromptBuilder\n",
        "from haystack.components.generators import OpenAIGenerator\n",
        "\n",
        "fetcher = LinkContentFetcher()\n",
        "converter = HTMLToDocument()\n",
        "splitter = DocumentSplitter(split_length=10, split_overlap=1, split_by=\"sentence\") # split_overlap is optional\n",
        "ranker = TransformersSimilarityRanker(model=\"cross-encoder/ms-marco-MiniLM-L-6-v2\", top_k=10) # any Ranker is okay\n",
        "template = \"\"\"Given the information below, answer the query. Only use the provided context to generate the answer and output the used document links\n",
        "            Context:\n",
        "            {% for document in documents %}\n",
        "                {{ document.content }}\n",
        "                URL: {{ document.meta.url }}\n",
        "            {% endfor %}\n",
        "\n",
        "            Question: {{ query }}\n",
        "            Answer:\"\"\"\n",
        "\n",
        "prompt_builder = PromptBuilder(template = template)\n",
        "generator = OpenAIGenerator(model=\"gpt-4o-mini\")"
      ],
      "metadata": {
        "id": "qI4OaTHBa-vt",
        "colab": {
          "base_uri": "https://localhost:8080/"
        },
        "outputId": "0db01b6a-bdcc-450f-ec6a-adc02fe813d3"
      },
      "execution_count": null,
      "outputs": [
        {
          "output_type": "stream",
          "name": "stderr",
          "text": [
            "INFO:haystack.telemetry._telemetry:Haystack sends anonymous usage data to understand the actual usage and steer dev efforts towards features that are most meaningful to users. You can opt-out at anytime by manually setting the environment variable HAYSTACK_TELEMETRY_ENABLED as described for different operating systems in the [documentation page](https://docs.haystack.deepset.ai/docs/telemetry#how-can-i-opt-out). More information at [Telemetry](https://docs.haystack.deepset.ai/docs/telemetry).\n",
            "DEBUG:haystack.core.component.component:Registering <class 'haystack.components.fetchers.link_content.LinkContentFetcher'> as a component\n",
            "DEBUG:haystack.core.component.component:Registered Component <class 'haystack.components.fetchers.link_content.LinkContentFetcher'>\n",
            "DEBUG:haystack.core.component.component:Registering <class 'haystack.components.converters.azure.AzureOCRDocumentConverter'> as a component\n",
            "DEBUG:haystack.core.component.component:Registered Component <class 'haystack.components.converters.azure.AzureOCRDocumentConverter'>\n",
            "DEBUG:haystack.core.component.component:Registering <class 'haystack.components.converters.csv.CSVToDocument'> as a component\n",
            "DEBUG:haystack.core.component.component:Registered Component <class 'haystack.components.converters.csv.CSVToDocument'>\n",
            "DEBUG:haystack.core.component.component:Registering <class 'haystack.components.converters.docx.DOCXToDocument'> as a component\n",
            "DEBUG:haystack.core.component.component:Registered Component <class 'haystack.components.converters.docx.DOCXToDocument'>\n",
            "DEBUG:haystack.core.component.component:Registering <class 'haystack.components.converters.html.HTMLToDocument'> as a component\n",
            "DEBUG:haystack.core.component.component:Registered Component <class 'haystack.components.converters.html.HTMLToDocument'>\n",
            "DEBUG:haystack.core.component.component:Registering <class 'haystack.components.converters.json.JSONConverter'> as a component\n",
            "DEBUG:haystack.core.component.component:Registered Component <class 'haystack.components.converters.json.JSONConverter'>\n",
            "DEBUG:haystack.core.component.component:Registering <class 'haystack.components.converters.markdown.MarkdownToDocument'> as a component\n",
            "DEBUG:haystack.core.component.component:Registered Component <class 'haystack.components.converters.markdown.MarkdownToDocument'>\n",
            "DEBUG:haystack.core.component.component:Registering <class 'haystack.components.converters.openapi_functions.OpenAPIServiceToFunctions'> as a component\n",
            "DEBUG:haystack.core.component.component:Registered Component <class 'haystack.components.converters.openapi_functions.OpenAPIServiceToFunctions'>\n",
            "DEBUG:haystack.core.component.component:Registering <class 'haystack.components.converters.output_adapter.OutputAdapter'> as a component\n",
            "DEBUG:haystack.core.component.component:Registered Component <class 'haystack.components.converters.output_adapter.OutputAdapter'>\n",
            "DEBUG:haystack.core.component.component:Registering <class 'haystack.components.converters.pdfminer.PDFMinerToDocument'> as a component\n",
            "DEBUG:haystack.core.component.component:Registered Component <class 'haystack.components.converters.pdfminer.PDFMinerToDocument'>\n",
            "DEBUG:haystack.core.component.component:Registering <class 'haystack.components.converters.pptx.PPTXToDocument'> as a component\n",
            "DEBUG:haystack.core.component.component:Registered Component <class 'haystack.components.converters.pptx.PPTXToDocument'>\n",
            "DEBUG:haystack.core.component.component:Registering <class 'haystack.components.converters.pypdf.PyPDFToDocument'> as a component\n",
            "DEBUG:haystack.core.component.component:Registered Component <class 'haystack.components.converters.pypdf.PyPDFToDocument'>\n",
            "DEBUG:haystack.core.component.component:Registering <class 'haystack.components.converters.tika.TikaDocumentConverter'> as a component\n",
            "DEBUG:haystack.core.component.component:Registered Component <class 'haystack.components.converters.tika.TikaDocumentConverter'>\n",
            "DEBUG:haystack.core.component.component:Registering <class 'haystack.components.converters.txt.TextFileToDocument'> as a component\n",
            "DEBUG:haystack.core.component.component:Registered Component <class 'haystack.components.converters.txt.TextFileToDocument'>\n",
            "DEBUG:haystack.core.component.component:Registering <class 'haystack.components.preprocessors.document_cleaner.DocumentCleaner'> as a component\n",
            "DEBUG:haystack.core.component.component:Registered Component <class 'haystack.components.preprocessors.document_cleaner.DocumentCleaner'>\n",
            "DEBUG:haystack.core.component.component:Registering <class 'haystack.components.preprocessors.document_splitter.DocumentSplitter'> as a component\n",
            "DEBUG:haystack.core.component.component:Registered Component <class 'haystack.components.preprocessors.document_splitter.DocumentSplitter'>\n",
            "DEBUG:haystack.core.component.component:Registering <class 'haystack.components.preprocessors.nltk_document_splitter.NLTKDocumentSplitter'> as a component\n",
            "DEBUG:haystack.core.component.component:Registered Component <class 'haystack.components.preprocessors.nltk_document_splitter.NLTKDocumentSplitter'>\n",
            "DEBUG:haystack.core.component.component:Registering <class 'haystack.components.preprocessors.text_cleaner.TextCleaner'> as a component\n",
            "DEBUG:haystack.core.component.component:Registered Component <class 'haystack.components.preprocessors.text_cleaner.TextCleaner'>\n",
            "DEBUG:haystack.core.component.component:Registering <class 'haystack.components.rankers.lost_in_the_middle.LostInTheMiddleRanker'> as a component\n",
            "DEBUG:haystack.core.component.component:Registered Component <class 'haystack.components.rankers.lost_in_the_middle.LostInTheMiddleRanker'>\n",
            "DEBUG:haystack.core.component.component:Registering <class 'haystack.components.rankers.meta_field.MetaFieldRanker'> as a component\n",
            "DEBUG:haystack.core.component.component:Registered Component <class 'haystack.components.rankers.meta_field.MetaFieldRanker'>\n",
            "DEBUG:haystack.core.component.component:Registering <class 'haystack.components.rankers.meta_field_grouping_ranker.MetaFieldGroupingRanker'> as a component\n",
            "DEBUG:haystack.core.component.component:Registered Component <class 'haystack.components.rankers.meta_field_grouping_ranker.MetaFieldGroupingRanker'>\n",
            "DEBUG:haystack.core.component.component:Registering <class 'haystack.components.rankers.sentence_transformers_diversity.SentenceTransformersDiversityRanker'> as a component\n",
            "DEBUG:haystack.core.component.component:Registered Component <class 'haystack.components.rankers.sentence_transformers_diversity.SentenceTransformersDiversityRanker'>\n",
            "DEBUG:haystack.core.component.component:Registering <class 'haystack.components.rankers.transformers_similarity.TransformersSimilarityRanker'> as a component\n",
            "DEBUG:haystack.core.component.component:Registered Component <class 'haystack.components.rankers.transformers_similarity.TransformersSimilarityRanker'>\n",
            "DEBUG:haystack.core.component.component:Registering <class 'haystack.components.builders.answer_builder.AnswerBuilder'> as a component\n",
            "DEBUG:haystack.core.component.component:Registered Component <class 'haystack.components.builders.answer_builder.AnswerBuilder'>\n",
            "DEBUG:haystack.core.component.component:Registering <class 'haystack.components.builders.chat_prompt_builder.ChatPromptBuilder'> as a component\n",
            "DEBUG:haystack.core.component.component:Registered Component <class 'haystack.components.builders.chat_prompt_builder.ChatPromptBuilder'>\n",
            "DEBUG:haystack.core.component.component:Registering <class 'haystack.components.builders.prompt_builder.PromptBuilder'> as a component\n",
            "DEBUG:haystack.core.component.component:Registered Component <class 'haystack.components.builders.prompt_builder.PromptBuilder'>\n",
            "DEBUG:haystack.core.component.component:Registering <class 'haystack.components.generators.openai.OpenAIGenerator'> as a component\n",
            "DEBUG:haystack.core.component.component:Registered Component <class 'haystack.components.generators.openai.OpenAIGenerator'>\n",
            "DEBUG:haystack.core.component.component:Registering <class 'haystack.components.generators.azure.AzureOpenAIGenerator'> as a component\n",
            "DEBUG:haystack.core.component.component:Registered Component <class 'haystack.components.generators.azure.AzureOpenAIGenerator'>\n",
            "DEBUG:haystack.core.component.component:Registering <class 'haystack.components.generators.hugging_face_local.HuggingFaceLocalGenerator'> as a component\n",
            "DEBUG:haystack.core.component.component:Registered Component <class 'haystack.components.generators.hugging_face_local.HuggingFaceLocalGenerator'>\n",
            "DEBUG:haystack.core.component.component:Registering <class 'haystack.components.generators.hugging_face_api.HuggingFaceAPIGenerator'> as a component\n",
            "DEBUG:haystack.core.component.component:Registered Component <class 'haystack.components.generators.hugging_face_api.HuggingFaceAPIGenerator'>\n",
            "DEBUG:haystack.core.component.component:Registering <class 'haystack.components.generators.openai_dalle.DALLEImageGenerator'> as a component\n",
            "DEBUG:haystack.core.component.component:Registered Component <class 'haystack.components.generators.openai_dalle.DALLEImageGenerator'>\n"
          ]
        }
      ]
    },
    {
      "cell_type": "markdown",
      "source": [
        "### 4) Add them to a Haystack Pipeline"
      ],
      "metadata": {
        "id": "jnDhrfD5AayG"
      }
    },
    {
      "cell_type": "code",
      "source": [
        "from haystack import Pipeline\n",
        "\n",
        "pipeline = Pipeline()\n",
        "pipeline.add_component(name=\"fetcher\", instance=fetcher)\n",
        "pipeline.add_component(name=\"converter\", instance=converter)\n",
        "pipeline.add_component(name=\"splitter\", instance=splitter)\n",
        "pipeline.add_component(name=\"ranker\", instance=ranker)\n",
        "pipeline.add_component(name=\"prompt_builder\", instance=prompt_builder)\n",
        "pipeline.add_component(name=\"generator\", instance=generator)"
      ],
      "metadata": {
        "id": "UIXUQWG5AYg6",
        "colab": {
          "base_uri": "https://localhost:8080/"
        },
        "outputId": "3430f385-6ad4-48d7-f6b9-a85f401da188"
      },
      "execution_count": null,
      "outputs": [
        {
          "output_type": "stream",
          "name": "stderr",
          "text": [
            "DEBUG:haystack.core.pipeline.base:Adding component 'fetcher' (<haystack.components.fetchers.link_content.LinkContentFetcher object at 0x7a8c823969b0>\n",
            "\n",
            "Inputs:\n",
            "  - urls: List[str]\n",
            "Outputs:\n",
            "  - streams: List[ByteStream])\n",
            "DEBUG:haystack.core.pipeline.base:Adding component 'converter' (<haystack.components.converters.html.HTMLToDocument object at 0x7a8d5886db10>\n",
            "\n",
            "Inputs:\n",
            "  - sources: List[Union[str, Path, ByteStream]]\n",
            "  - meta: Union[Dict[str, Any], List[Dict[str, Any]]]\n",
            "  - extraction_kwargs: Optional[Dict[str, Any]]\n",
            "Outputs:\n",
            "  - documents: List[Document])\n",
            "DEBUG:haystack.core.pipeline.base:Adding component 'splitter' (<haystack.components.preprocessors.document_splitter.DocumentSplitter object at 0x7a8c29ced810>\n",
            "\n",
            "Inputs:\n",
            "  - documents: List[Document]\n",
            "Outputs:\n",
            "  - documents: List[Document])\n",
            "DEBUG:haystack.core.pipeline.base:Adding component 'ranker' (<haystack.components.rankers.transformers_similarity.TransformersSimilarityRanker object at 0x7a8c29ced0f0>\n",
            "\n",
            "Inputs:\n",
            "  - query: str\n",
            "  - documents: List[Document]\n",
            "  - top_k: Optional[int]\n",
            "  - scale_score: Optional[bool]\n",
            "  - calibration_factor: Optional[float]\n",
            "  - score_threshold: Optional[float]\n",
            "Outputs:\n",
            "  - documents: List[Document])\n",
            "DEBUG:haystack.core.pipeline.base:Adding component 'prompt_builder' (<haystack.components.builders.prompt_builder.PromptBuilder object at 0x7a8c29cec850>\n",
            "\n",
            "Inputs:\n",
            "  - query: Any\n",
            "  - documents: Any\n",
            "  - template: Optional[str]\n",
            "  - template_variables: Optional[Dict[str, Any]]\n",
            "Outputs:\n",
            "  - prompt: str)\n",
            "DEBUG:haystack.core.pipeline.base:Adding component 'generator' (<haystack.components.generators.openai.OpenAIGenerator object at 0x7a8c298d2200>\n",
            "\n",
            "Inputs:\n",
            "  - prompt: str\n",
            "  - system_prompt: Optional[str]\n",
            "  - streaming_callback: Optional[Callable[]]\n",
            "  - generation_kwargs: Optional[Dict[str, Any]]\n",
            "Outputs:\n",
            "  - replies: List[str]\n",
            "  - meta: List[Dict[str, Any]])\n"
          ]
        }
      ]
    },
    {
      "cell_type": "markdown",
      "source": [
        "###5) Connect the components\n",
        "\n",
        "Complete the pipeline connections to achieve a working pipeline that can be run.\n",
        "\n",
        "**Note:** Everytime you want to run cell 4 and cell 5, you need to run cell 3 and reinitialize all components"
      ],
      "metadata": {
        "id": "KFQOOQkaAeRr"
      }
    },
    {
      "cell_type": "code",
      "source": [
        "pipeline.connect(\"fetcher\", \"converter\")\n",
        "pipeline.connect(\"converter\", \"splitter\")\n",
        "pipeline.connect(\"splitter\", \"ranker\")\n",
        "pipeline.connect(\"ranker\", \"prompt_builder.documents\")\n",
        "pipeline.connect(\"prompt_builder\", \"generator\")"
      ],
      "metadata": {
        "id": "hpDVUIhlAi0l",
        "colab": {
          "base_uri": "https://localhost:8080/"
        },
        "outputId": "30268142-daa8-470f-8646-d5cf3836ad6d"
      },
      "execution_count": null,
      "outputs": [
        {
          "output_type": "stream",
          "name": "stderr",
          "text": [
            "DEBUG:haystack.core.pipeline.base:Connecting 'fetcher.streams' to 'converter.sources'\n",
            "DEBUG:haystack.core.pipeline.base:Connecting 'converter.documents' to 'splitter.documents'\n",
            "DEBUG:haystack.core.pipeline.base:Connecting 'splitter.documents' to 'ranker.documents'\n",
            "DEBUG:haystack.core.pipeline.base:Connecting 'ranker.documents' to 'prompt_builder.documents'\n",
            "DEBUG:haystack.core.pipeline.base:Connecting 'prompt_builder.prompt' to 'generator.prompt'\n"
          ]
        },
        {
          "output_type": "execute_result",
          "data": {
            "text/plain": [
              "<haystack.core.pipeline.pipeline.Pipeline object at 0x7a8c29a361a0>\n",
              "🚅 Components\n",
              "  - fetcher: LinkContentFetcher\n",
              "  - converter: HTMLToDocument\n",
              "  - splitter: DocumentSplitter\n",
              "  - ranker: TransformersSimilarityRanker\n",
              "  - prompt_builder: PromptBuilder\n",
              "  - generator: OpenAIGenerator\n",
              "🛤️ Connections\n",
              "  - fetcher.streams -> converter.sources (List[ByteStream])\n",
              "  - converter.documents -> splitter.documents (List[Document])\n",
              "  - splitter.documents -> ranker.documents (List[Document])\n",
              "  - ranker.documents -> prompt_builder.documents (List[Document])\n",
              "  - prompt_builder.prompt -> generator.prompt (str)"
            ]
          },
          "metadata": {},
          "execution_count": 6
        }
      ]
    },
    {
      "cell_type": "markdown",
      "source": [
        "###6) Visualize the Pipeline 🎨\n",
        "\n",
        "Display the pipeline image with [`show()`](https://docs.haystack.deepset.ai/docs/visualizing-pipelines) method to understand the connections between components"
      ],
      "metadata": {
        "id": "z0eEFSDYAjOU"
      }
    },
    {
      "cell_type": "code",
      "source": [
        "pipeline.show()"
      ],
      "metadata": {
        "id": "ctE6bDESAqv8",
        "colab": {
          "base_uri": "https://localhost:8080/",
          "height": 1000
        },
        "outputId": "3868708e-2968-46b1-e0f4-f8880d4a4cbf"
      },
      "execution_count": null,
      "outputs": [
        {
          "output_type": "stream",
          "name": "stderr",
          "text": [
            "DEBUG:haystack.core.pipeline.draw:Mermaid diagram:\n",
            "\n",
            "%%{ init: {'theme': 'neutral' } }%%\n",
            "\n",
            "graph TD;\n",
            "\n",
            "fetcher[\"<b>fetcher</b><br><small><i>LinkContentFetcher</i></small>\"]:::component -- \"streams -> sources<br><small><i>List[ByteStream]</i></small>\" --> converter[\"<b>converter</b><br><small><i>HTMLToDocument<br><br>Optional inputs:<ul style='text-align:left;'><li>meta (Union[Dict[str, Any], List[Dict[str, Any]]])</li><li>extraction_kwargs (Optional[Dict[str, Any]])</li></ul></i></small>\"]:::component\n",
            "converter[\"<b>converter</b><br><small><i>HTMLToDocument<br><br>Optional inputs:<ul style='text-align:left;'><li>meta (Union[Dict[str, Any], List[Dict[str, Any]]])</li><li>extraction_kwargs (Optional[Dict[str, Any]])</li></ul></i></small>\"]:::component -- \"documents -> documents<br><small><i>List[Document]</i></small>\" --> splitter[\"<b>splitter</b><br><small><i>DocumentSplitter</i></small>\"]:::component\n",
            "splitter[\"<b>splitter</b><br><small><i>DocumentSplitter</i></small>\"]:::component -- \"documents -> documents<br><small><i>List[Document]</i></small>\" --> ranker[\"<b>ranker</b><br><small><i>TransformersSimilarityRanker<br><br>Optional inputs:<ul style='text-align:left;'><li>top_k (Optional[int])</li><li>scale_score (Optional[bool])</li><li>calibration_factor (Optional[float])</li><li>score_threshold (Optional[float])</li></ul></i></small>\"]:::component\n",
            "ranker[\"<b>ranker</b><br><small><i>TransformersSimilarityRanker<br><br>Optional inputs:<ul style='text-align:left;'><li>top_k (Optional[int])</li><li>scale_score (Optional[bool])</li><li>calibration_factor (Optional[float])</li><li>score_threshold (Optional[float])</li></ul></i></small>\"]:::component -. \"documents -> documents (opt.)<br><small><i>List[Document]</i></small>\" .-> prompt_builder[\"<b>prompt_builder</b><br><small><i>PromptBuilder<br><br>Optional inputs:<ul style='text-align:left;'><li>query (Any)</li><li>template (Optional[str])</li><li>template_variables (Optional[Dict[str, Any]])</li></ul></i></small>\"]:::component\n",
            "prompt_builder[\"<b>prompt_builder</b><br><small><i>PromptBuilder<br><br>Optional inputs:<ul style='text-align:left;'><li>query (Any)</li><li>template (Optional[str])</li><li>template_variables (Optional[Dict[str, Any]])</li></ul></i></small>\"]:::component -- \"prompt -> prompt<br><small><i>str</i></small>\" --> generator[\"<b>generator</b><br><small><i>OpenAIGenerator<br><br>Optional inputs:<ul style='text-align:left;'><li>system_prompt (Optional[str])</li><li>streaming_callback (Optional[Callable[]])</li><li>generation_kwargs (Optional[Dict[str, Any]])</li></ul></i></small>\"]:::component\n",
            "i{&ast;}--\"urls<br><small><i>List[str]</i></small>\"--> fetcher[\"<b>fetcher</b><br><small><i>LinkContentFetcher</i></small>\"]:::component\n",
            "i{&ast;}--\"query<br><small><i>str</i></small>\"--> ranker[\"<b>ranker</b><br><small><i>TransformersSimilarityRanker<br><br>Optional inputs:<ul style='text-align:left;'><li>top_k (Optional[int])</li><li>scale_score (Optional[bool])</li><li>calibration_factor (Optional[float])</li><li>score_threshold (Optional[float])</li></ul></i></small>\"]:::component\n",
            "generator[\"<b>generator</b><br><small><i>OpenAIGenerator<br><br>Optional inputs:<ul style='text-align:left;'><li>system_prompt (Optional[str])</li><li>streaming_callback (Optional[Callable[]])</li><li>generation_kwargs (Optional[Dict[str, Any]])</li></ul></i></small>\"]:::component--\"replies<br><small><i>List[str]</i></small>\"--> o{&ast;}\n",
            "generator[\"<b>generator</b><br><small><i>OpenAIGenerator<br><br>Optional inputs:<ul style='text-align:left;'><li>system_prompt (Optional[str])</li><li>streaming_callback (Optional[Callable[]])</li><li>generation_kwargs (Optional[Dict[str, Any]])</li></ul></i></small>\"]:::component--\"meta<br><small><i>List[Dict[str, Any]]</i></small>\"--> o{&ast;}\n",
            "\n",
            "classDef component text-align:center;\n",
            "\n",
            "DEBUG:haystack.core.pipeline.draw:Rendering graph at https://mermaid.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?type=png\n"
          ]
        },
        {
          "output_type": "display_data",
          "data": {
            "image/png": "[encoded data removed]",
            "text/plain": [
              "<IPython.core.display.Image object>"
            ]
          },
          "metadata": {}
        }
      ]
    },
    {
      "cell_type": "markdown",
      "source": [
        "###7) Run the Pipeline\n",
        "\n",
        "Use the URLs below and try the example queries."
      ],
      "metadata": {
        "id": "Y2v6GZs6Am5O"
      }
    },
    {
      "cell_type": "code",
      "source": [
        "urls = [\"https://haystack.deepset.ai/blog/extracting-metadata-filter\",\n",
        "        \"https://haystack.deepset.ai/blog/query-expansion\",\n",
        "        \"https://haystack.deepset.ai/blog/query-decomposition\",\n",
        "        \"https://haystack.deepset.ai/cookbook/metadata_enrichment\"]\n",
        "\n",
        "## Example queries you can try\n",
        "# query = \"What is the difference between metadata filtering and metadata enrichment?\"\n",
        "query = \"Which methods can I use to transform query for better retrieval?\"\n",
        "# query = \"How can I use metadata to improve retrieval?\"\n",
        "# query = \"What's preprocessing?\" # Test if your system hallucinates\n",
        "\n",
        "## Add parameters\n",
        "result = pipeline.run(data={\"fetcher\": {\"urls\": urls}, \"prompt_builder\": {\"query\": query}, \"ranker\":{\"query\": query}}, include_outputs_from={\"ranker\"})"
      ],
      "metadata": {
        "id": "Gbo1QwM9Ambj",
        "colab": {
          "base_uri": "https://localhost:8080/",
          "height": 429,
          "referenced_widgets": [
            "4cefd48b8e8f46229815e7dbe26d579a",
            "12a3a0597a114423b6eee117679f108c",
            "41036bb985374779abb7aedcbd4fd225",
            "6841e9e4a55544df867d3eff9209b99c",
            "7380ea262e7145ad80b0a4f342d79e24",
            "1d2b4e17387a480c8d33b7ad7930f4af",
            "5c3b927e1c9643a0be67425dfcffddd6",
            "a570ea800ba2421cb16cea433a6cca14",
            "3007d8e6c0194add9d2274edd01ad0c1",
            "74365b4db6e249cba45faf26d04927a2",
            "a7968cd433e441faad065a9ce7f2b50f",
            "a02fbce814634dd0ae60bdd6fdd66c60",
            "7270d898282044a7ad1fc53d882bd7ac",
            "06a191e9b3184ac1973b43a857ebcf2e",
            "aba3839ec7f247549610b3d2d3eb3524",
            "b78f0b70e4594d2789c348ed3eb8c688",
            "0e85fc82d76341d59bc43dfd8617682f",
            "73f33b160cf64d9db90d8bc67e2a3f48",
            "289fc6d8daa94eaf952532d8d59360ac",
            "d3c256b9f72d42bfa2597b06dee46c12",
            "3fbe55ad3b874f53a49f4d3fa01e7dd6",
            "9fe90d661a7c4cdc865d54cf35731caa",
            "becfbde8829047e08386d9833a9f224f",
            "acbbd7d71c964181aacf32e5bc20e42c",
            "f3620ec0b71e4e9db5537253d4d1cfe6",
            "c85e61d838204d48979ef911924a3b6e",
            "de16aeec6a394d91814897c7e94cc0ac",
            "c95194b8ea4a466aa2b7757c54dce97a",
            "b0b0815051b74887bb0d64478b3e6978",
            "55617e64bb304e73b4e264abb707af24",
            "e251fd44933d4ac19863629888f988b3",
            "ecfe384705e64ef985b8fb923a0150cd",
            "f9a861667c8c48098f545f0ea226f0b9",
            "aa3c46f936fe40a88f0d808ec83ddd42",
            "72d992a47d024ee0a2b3545390cc8341",
            "d990f5c35f1e4aeaabed327d32e5d4d9",
            "3563da8ed6ae4cc592298547233465c6",
            "ab924246275b4304a0f1bd0d3e0275f0",
            "7eb17e7e48624331acdadb03f78d2af3",
            "267c84f7b7ff46818bce42f8f58121c3",
            "62f955796cbd44ab9e679ec0d253fc01",
            "dd31e33c18e14ae8950505c259c53e93",
            "1071a36a7140455786a0825fed5ca0a8",
            "723900bcbd9c4539a5a38cbfab84fefd",
            "9c7e6308abb74fc7a9bf9a6462ed0eac",
            "ceec807da6654c09b7a4eef4c154d363",
            "93c2ea057b79457ca3c7664a485759d7",
            "446ffe998e5b47938dbb017dcd158ee7",
            "626cd1e4048e4e5aa16b769c49ec760a",
            "b60bdc9ad25a4631a1e4ef58dad36d85",
            "8db22082953d40d4b3368064f7d1a44c",
            "9824f8bf713d4c12b28c91f553f8a6e8",
            "4a913e29a42c4733b0e407ac0a3d1c3e",
            "46310c7cdaf14fc2ac6a2e04cbc77d4d",
            "17a6e9f9c3eb453e8be05ceea15b28ce"
          ]
        },
        "outputId": "42b7714b-3c89-4893-e1f9-49b236be0cc7"
      },
      "execution_count": null,
      "outputs": [
        {
          "output_type": "stream",
          "name": "stderr",
          "text": [
            "INFO:haystack.core.pipeline.base:Warming up component ranker...\n",
            "/usr/local/lib/python3.10/dist-packages/huggingface_hub/utils/_auth.py:94: UserWarning: \n",
            "The secret `HF_TOKEN` does not exist in your Colab secrets.\n",
            "To authenticate with the Hugging Face Hub, create a token in your settings tab (https://huggingface.co/settings/tokens), set it as secret in your Google Colab and restart your session.\n",
            "You will be able to reuse this secret in all of your notebooks.\n",
            "Please note that authentication is recommended but still optional to access public models or datasets.\n",
            "  warnings.warn(\n"
          ]
        },
        {
          "output_type": "display_data",
          "data": {
            "text/plain": [
              "config.json:   0%|          | 0.00/794 [00:00<?, ?B/s]"
            ],
            "application/vnd.jupyter.widget-view+json": {
              "version_major": 2,
              "version_minor": 0,
              "model_id": "4cefd48b8e8f46229815e7dbe26d579a"
            }
          },
          "metadata": {}
        },
        {
          "output_type": "display_data",
          "data": {
            "text/plain": [
              "model.safetensors:   0%|          | 0.00/90.9M [00:00<?, ?B/s]"
            ],
            "application/vnd.jupyter.widget-view+json": {
              "version_major": 2,
              "version_minor": 0,
              "model_id": "a02fbce814634dd0ae60bdd6fdd66c60"
            }
          },
          "metadata": {}
        },
        {
          "output_type": "display_data",
          "data": {
            "text/plain": [
              "tokenizer_config.json:   0%|          | 0.00/316 [00:00<?, ?B/s]"
            ],
            "application/vnd.jupyter.widget-view+json": {
              "version_major": 2,
              "version_minor": 0,
              "model_id": "becfbde8829047e08386d9833a9f224f"
            }
          },
          "metadata": {}
        },
        {
          "output_type": "display_data",
          "data": {
            "text/plain": [
              "vocab.txt:   0%|          | 0.00/232k [00:00<?, ?B/s]"
            ],
            "application/vnd.jupyter.widget-view+json": {
              "version_major": 2,
              "version_minor": 0,
              "model_id": "aa3c46f936fe40a88f0d808ec83ddd42"
            }
          },
          "metadata": {}
        },
        {
          "output_type": "display_data",
          "data": {
            "text/plain": [
              "special_tokens_map.json:   0%|          | 0.00/112 [00:00<?, ?B/s]"
            ],
            "application/vnd.jupyter.widget-view+json": {
              "version_major": 2,
              "version_minor": 0,
              "model_id": "9c7e6308abb74fc7a9bf9a6462ed0eac"
            }
          },
          "metadata": {}
        },
        {
          "output_type": "stream",
          "name": "stderr",
          "text": [
            "INFO:haystack.core.pipeline.pipeline:Running component fetcher\n",
            "INFO:haystack.core.pipeline.pipeline:Running component converter\n",
            "INFO:haystack.core.pipeline.pipeline:Running component splitter\n",
            "INFO:haystack.core.pipeline.pipeline:Running component ranker\n",
            "INFO:haystack.core.pipeline.pipeline:Running component prompt_builder\n",
            "INFO:haystack.core.pipeline.pipeline:Running component generator\n"
          ]
        }
      ]
    },
    {
      "cell_type": "markdown",
      "source": [
        "Print the LLM response"
      ],
      "metadata": {
        "id": "cwTvayX3nbAj"
      }
    },
    {
      "cell_type": "code",
      "source": [
        "print(result['generator']['replies'][0])"
      ],
      "metadata": {
        "colab": {
          "base_uri": "https://localhost:8080/"
        },
        "id": "tLdqes3NaV4S",
        "outputId": "1cfdbf1d-0309-4b28-8484-db6934bb6d61"
      },
      "execution_count": null,
      "outputs": [
        {
          "output_type": "stream",
          "name": "stdout",
          "text": [
            "You can use the following methods to transform a query for better retrieval:\n",
            "\n",
            "1. **Query Expansion**: This technique generates a set of similar queries from the original user query, allowing you to cover variations in wording and meaning. It helps improve retrieval results, especially when the original query is vague or poorly formed. By expanding the query, you can include synonyms and related phrases, which increases recall during keyword-based searches.\n",
            "\n",
            "2. **Query Decomposition**: This method breaks down complex queries into simpler sub-questions that can be answered independently. This helps in retrieving relevant information for each sub-question, allowing for a more accurate reasoning process to arrive at an overall answer to the original query.\n",
            "\n",
            "3. **Metadata Filtering**: Extracting concrete metadata from queries allows you to narrow down the search space, ensuring the retrieved information aligns with specific query attributes like date, topic, or source. This results in enhancing the accuracy and relevance of the retrieved documents.\n",
            "\n",
            "These techniques can significantly enhance the effectiveness of the retrieval process in RAG (retrieval augmented generation) applications.\n",
            "\n",
            "**Used document links:**\n",
            "- https://haystack.deepset.ai/blog/query-expansion\n",
            "- https://haystack.deepset.ai/blog/query-decomposition\n",
            "- https://haystack.deepset.ai/blog/extracting-metadata-filter\n"
          ]
        }
      ]
    },
    {
      "cell_type": "markdown",
      "source": [
        "If you have enabled `include_outputs_from={\"ranker\"}`, you'll be able to see the context injected into the prompt"
      ],
      "metadata": {
        "id": "ns89Fv5znqVU"
      }
    },
    {
      "cell_type": "code",
      "source": [
        "print(result['ranker']['documents'])"
      ],
      "metadata": {
        "colab": {
          "base_uri": "https://localhost:8080/"
        },
        "id": "eY1wTP2cYBEI",
        "outputId": "91c40e17-6dd5-4764-f168-612925c7ac14"
      },
      "execution_count": null,
      "outputs": [
        {
          "output_type": "stream",
          "name": "stdout",
          "text": [
            "[Document(id=c390618cea3e75e5ac47f3b79cc741ec64f37e9696f423da4cf2df051a5fbdbd, content: ' So, it makes sense to use BM25+query expansion to increase recall in cases where you want to rely o...', meta: {'content_type': 'text/html', 'url': 'https://haystack.deepset.ai/blog/query-expansion', 'source_id': '2a511afa9e381b92df81466e9b6a10219514e8ff8495daf74565168d41b2713e', 'page_number': 1, 'split_id': 1, 'split_idx_start': 1404, '_split_overlap': [{'doc_id': '81ed15357b655decbcb09a7eff69bb0884a40f7419727adabd1329bfbc47127c', 'range': (1404, 1521)}, {'doc_id': '904182a57eaa8321246d62391a238abd028f125718b2032637351130d001741b', 'range': (0, 37)}]}, score: 0.9547014236450195), Document(id=be21cd6cfe6267fe60133815f0be4fa8a58c396864445991216154d8eda2c85d, content: ' While semantic search is a great option, it does require the use of an embedding model, and the exi...', meta: {'content_type': 'text/html', 'url': 'https://haystack.deepset.ai/blog/query-expansion', 'source_id': '2a511afa9e381b92df81466e9b6a10219514e8ff8495daf74565168d41b2713e', 'page_number': 1, 'split_id': 10, 'split_idx_start': 10494, '_split_overlap': [{'doc_id': '2275ced135c7862011071fb9752f1b9e05a5818ac579093c5bfc459a60993ac3', 'range': (899, 1066)}]}, score: 0.950644314289093), Document(id=d2627b3d877393bfba212cec43ce816888cf80d8205b9975111c976aa6b63218, content: 'Advanced RAG: Query Decomposition & Reasoning\n",
            "Decompose queries that are multiples in disguise and h...', meta: {'content_type': 'text/html', 'url': 'https://haystack.deepset.ai/blog/query-decomposition', 'source_id': '25bcdfa6008946981ba5ccd49c513a966f2aeb7df9c00c1e48353e69bcf7d9a4', 'page_number': 1, 'split_id': 0, 'split_idx_start': 0, '_split_overlap': [{'doc_id': '969ba1c860144490ad59ce26630ad1840eccba101ba4dd4cb3b27d0948ba6bb3', 'range': (0, 100)}]}, score: 0.9161480665206909), Document(id=81ed15357b655decbcb09a7eff69bb0884a40f7419727adabd1329bfbc47127c, content: 'Advanced RAG: Query Expansion\n",
            "Expand keyword queries to improve recall and provide more context to R...', meta: {'content_type': 'text/html', 'url': 'https://haystack.deepset.ai/blog/query-expansion', 'source_id': '2a511afa9e381b92df81466e9b6a10219514e8ff8495daf74565168d41b2713e', 'page_number': 1, 'split_id': 0, 'split_idx_start': 0, '_split_overlap': [{'doc_id': 'c390618cea3e75e5ac47f3b79cc741ec64f37e9696f423da4cf2df051a5fbdbd', 'range': (0, 117)}]}, score: 0.9063125848770142), Document(id=6fad3f7aebb4a2e15cd4eb88973321c874ee4bcc6ce85b6876a91c3173d805d5, content: 'Advanced Retrieval: Extract Metadata from Queries to Improve Retrieval\n",
            "Use LLMs to extract metadata ...', meta: {'content_type': 'text/html', 'url': 'https://haystack.deepset.ai/blog/extracting-metadata-filter', 'source_id': 'ea6763e92d3e30e4dff4b1ce7987d2aa3ecfc8dbbc6a4cdcca04219315c39b0d', 'page_number': 1, 'split_id': 0, 'split_idx_start': 0, '_split_overlap': [{'doc_id': 'e5e92cb88e34b4523689e0a59fb2acdcc33f0c48b51edf4872860aa4f5812660', 'range': (0, 192)}]}, score: 0.8259024620056152), Document(id=969ba1c860144490ad59ce26630ad1840eccba101ba4dd4cb3b27d0948ba6bb3, content: '\n",
            "While for many query/dataset combinations, this may not be required, for some, it very well may be....', meta: {'content_type': 'text/html', 'url': 'https://haystack.deepset.ai/blog/query-decomposition', 'source_id': '25bcdfa6008946981ba5ccd49c513a966f2aeb7df9c00c1e48353e69bcf7d9a4', 'page_number': 1, 'split_id': 1, 'split_idx_start': 1117, '_split_overlap': [{'doc_id': 'd2627b3d877393bfba212cec43ce816888cf80d8205b9975111c976aa6b63218', 'range': (1117, 1217)}, {'doc_id': '0470ade3972a76e84a4703e27dadee6295259bf5fe5f5548bf40ae1c87bad9ed', 'range': (0, 123)}]}, score: 0.4614839553833008), Document(id=0439a952a5431331f0bb70405ad9457ec6374f4d7c2a8c36c3c4c87c3b7d5293, content: '\n",
            "You can start to see how this could impact the results you get in cases where users are typing vagu...', meta: {'content_type': 'text/html', 'url': 'https://haystack.deepset.ai/blog/query-expansion', 'source_id': '2a511afa9e381b92df81466e9b6a10219514e8ff8495daf74565168d41b2713e', 'page_number': 1, 'split_id': 6, 'split_idx_start': 6133, '_split_overlap': [{'doc_id': 'c5ff2562874be27ed7d64598a9d76a02a421322629c277306bfc601ccef7cd3a', 'range': (1125, 1267)}, {'doc_id': '3eadd25966916aadf3e3bc5ba0ae370f119eca91bbe6af17ff5547717ff60a19', 'range': (0, 115)}]}, score: 0.1422382891178131), Document(id=b45ff454fa1bcf030d75964988c470f77bb4ccbffb21a49d3af2793edf55142e, content: 'Advanced RAG: Automated Structured Metadata Enrichment\n",
            "Last Updated: November 1, 2024\n",
            "This is part o...', meta: {'content_type': 'text/html', 'url': 'https://haystack.deepset.ai/cookbook/metadata_enrichment', 'source_id': '75927d3e011e14baf011270972d595697434f4cdd01e5ecf1aa45bfcbd74e4bc', 'page_number': 1, 'split_id': 0, 'split_idx_start': 0, '_split_overlap': [{'doc_id': '518f775ac9c1ddcae0bc34846874c8da9af922e38f6e79b80ecd538bcc096529', 'range': (0, 11)}]}, score: 0.09230227768421173), Document(id=75d13765269199b565b8092c2d1b0f8efe6f32d084d95ccfeb18752cf996cad6, content: 'retrievers.in_memory import InMemoryBM25Retriever\n",
            "retrieval_pipeline = Pipeline()\n",
            "metadata_extractor...', meta: {'content_type': 'text/html', 'url': 'https://haystack.deepset.ai/blog/extracting-metadata-filter', 'source_id': 'ea6763e92d3e30e4dff4b1ce7987d2aa3ecfc8dbbc6a4cdcca04219315c39b0d', 'page_number': 1, 'split_id': 9, 'split_idx_start': 10559, '_split_overlap': [{'doc_id': '314bb7d236ab019bdfc5ac4d2f28bcab1565a5493e8c9dd4807a6ea274495641', 'range': (1280, 1291)}, {'doc_id': 'a532d19c51d73a791df74b1a1908d36a39da95f850e9c8e4952a3d3ed251f4d7', 'range': (0, 146)}]}, score: 0.08578183501958847), Document(id=e5e92cb88e34b4523689e0a59fb2acdcc33f0c48b51edf4872860aa4f5812660, content: '\n",
            "- Efficiency: Eliminating irrelevant or low-quality information boosts the efficiency of your RAG a...', meta: {'content_type': 'text/html', 'url': 'https://haystack.deepset.ai/blog/extracting-metadata-filter', 'source_id': 'ea6763e92d3e30e4dff4b1ce7987d2aa3ecfc8dbbc6a4cdcca04219315c39b0d', 'page_number': 1, 'split_id': 1, 'split_idx_start': 1337, '_split_overlap': [{'doc_id': '6fad3f7aebb4a2e15cd4eb88973321c874ee4bcc6ce85b6876a91c3173d805d5', 'range': (1337, 1529)}, {'doc_id': '0f9ddb9f0f50c3a941f58eedc82af8bf87f5c1fc4faf3d16b8eac5fe77f8489f', 'range': (0, 10)}]}, score: 0.024443434551358223)]\n"
          ]
        }
      ]
    },
    {
      "cell_type": "markdown",
      "source": [
        "## Bonus Task\n",
        "\n",
        "Try to recreate the same pipeline with [OpenAIChatGenerator](https://docs.haystack.deepset.ai/docs/openaichatgenerator) and [ChatPromptBuilder](https://docs.haystack.deepset.ai/docs/chatpromptbuilder)"
      ],
      "metadata": {
        "id": "PD6jOxEEihes"
      }
    },
    {
      "cell_type": "code",
      "source": [
        "from haystack.components.fetchers import LinkContentFetcher\n",
        "from haystack.components.converters import HTMLToDocument\n",
        "from haystack.components.preprocessors import DocumentSplitter\n",
        "from haystack.components.rankers import TransformersSimilarityRanker\n",
        "from haystack.components.generators.chat import OpenAIChatGenerator\n",
        "from haystack.components.builders import ChatPromptBuilder\n",
        "from haystack.dataclasses import ChatMessage\n",
        "\n",
        "fetcher = LinkContentFetcher()\n",
        "converter = HTMLToDocument()\n",
        "splitter = DocumentSplitter(split_length=10, split_overlap=1, split_by=\"sentence\") # split_overlap is optional\n",
        "ranker = TransformersSimilarityRanker(model=\"cross-encoder/ms-marco-MiniLM-L-6-v2\", top_k=10) # any Ranker is okay\n",
        "\n",
        "system_message = \"\"\"\n",
        "You are a technical expert. Use only the provided content and source URLs to answer questions. Don't use your own knowledge.\n",
        "Do not add any extra information or search the web.\n",
        "Keep your answers clear, accurate, and to the point, including the document links you used.\n",
        "If the documents don’t have the answer, say \"no answer\"\n",
        "\"\"\"\n",
        "\n",
        "user_template = \"\"\"\n",
        "            Context:\n",
        "            {% for document in documents %}\n",
        "                {{ document.content }}\n",
        "                URL: {{ document.meta.url }}\n",
        "            {% endfor %}\n",
        "\n",
        "            Question: {{ query }}\n",
        "            Answer:\"\"\"\n",
        "\n",
        "template = [ChatMessage.from_system(system_message), ChatMessage.from_user(user_template)]\n",
        "prompt_builder = ChatPromptBuilder(template = template)\n",
        "generator = OpenAIChatGenerator(model=\"gpt-4\")"
      ],
      "metadata": {
        "id": "ESMwHlwOBePW",
        "colab": {
          "base_uri": "https://localhost:8080/"
        },
        "outputId": "62f841ca-99ba-488e-f2c9-faf9d48691b4"
      },
      "execution_count": null,
      "outputs": [
        {
          "output_type": "stream",
          "name": "stderr",
          "text": [
            "DEBUG:haystack.core.component.component:Registering <class 'haystack.components.generators.chat.openai.OpenAIChatGenerator'> as a component\n",
            "DEBUG:haystack.core.component.component:Registered Component <class 'haystack.components.generators.chat.openai.OpenAIChatGenerator'>\n",
            "DEBUG:haystack.core.component.component:Registering <class 'haystack.components.generators.chat.azure.AzureOpenAIChatGenerator'> as a component\n",
            "DEBUG:haystack.core.component.component:Registered Component <class 'haystack.components.generators.chat.azure.AzureOpenAIChatGenerator'>\n",
            "DEBUG:haystack.core.component.component:Registering <class 'haystack.components.generators.chat.hugging_face_local.HuggingFaceLocalChatGenerator'> as a component\n",
            "DEBUG:haystack.core.component.component:Registered Component <class 'haystack.components.generators.chat.hugging_face_local.HuggingFaceLocalChatGenerator'>\n",
            "DEBUG:haystack.core.component.component:Registering <class 'haystack.components.generators.chat.hugging_face_api.HuggingFaceAPIChatGenerator'> as a component\n",
            "DEBUG:haystack.core.component.component:Registered Component <class 'haystack.components.generators.chat.hugging_face_api.HuggingFaceAPIChatGenerator'>\n"
          ]
        }
      ]
    },
    {
      "cell_type": "code",
      "source": [
        "from haystack import Pipeline\n",
        "\n",
        "pipeline = Pipeline()\n",
        "pipeline.add_component(name=\"fetcher\", instance=fetcher)\n",
        "pipeline.add_component(name=\"converter\", instance=converter)\n",
        "pipeline.add_component(name=\"splitter\", instance=splitter)\n",
        "pipeline.add_component(name=\"ranker\", instance=ranker)\n",
        "pipeline.add_component(name=\"prompt_builder\", instance=prompt_builder)\n",
        "pipeline.add_component(name=\"generator\", instance=generator)\n",
        "\n",
        "pipeline.connect(\"fetcher\", \"converter\")\n",
        "pipeline.connect(\"converter\", \"splitter\")\n",
        "pipeline.connect(\"splitter\", \"ranker\")\n",
        "pipeline.connect(\"ranker\", \"prompt_builder.documents\")\n",
        "pipeline.connect(\"prompt_builder\", \"generator\")"
      ],
      "metadata": {
        "id": "UZnYHbRKvOQM",
        "colab": {
          "base_uri": "https://localhost:8080/"
        },
        "outputId": "58abf4f9-8e2f-4a48-d4e4-ea5614876855"
      },
      "execution_count": null,
      "outputs": [
        {
          "output_type": "stream",
          "name": "stderr",
          "text": [
            "DEBUG:haystack.core.pipeline.base:Adding component 'fetcher' (<haystack.components.fetchers.link_content.LinkContentFetcher object at 0x7a8d5886f0d0>\n",
            "\n",
            "Inputs:\n",
            "  - urls: List[str]\n",
            "Outputs:\n",
            "  - streams: List[ByteStream])\n",
            "DEBUG:haystack.core.pipeline.base:Adding component 'converter' (<haystack.components.converters.html.HTMLToDocument object at 0x7a8d5886f8e0>\n",
            "\n",
            "Inputs:\n",
            "  - sources: List[Union[str, Path, ByteStream]]\n",
            "  - meta: Union[Dict[str, Any], List[Dict[str, Any]]]\n",
            "  - extraction_kwargs: Optional[Dict[str, Any]]\n",
            "Outputs:\n",
            "  - documents: List[Document])\n",
            "DEBUG:haystack.core.pipeline.base:Adding component 'splitter' (<haystack.components.preprocessors.document_splitter.DocumentSplitter object at 0x7a8c2981d090>\n",
            "\n",
            "Inputs:\n",
            "  - documents: List[Document]\n",
            "Outputs:\n",
            "  - documents: List[Document])\n",
            "DEBUG:haystack.core.pipeline.base:Adding component 'ranker' (<haystack.components.rankers.transformers_similarity.TransformersSimilarityRanker object at 0x7a8c2981d120>\n",
            "\n",
            "Inputs:\n",
            "  - query: str\n",
            "  - documents: List[Document]\n",
            "  - top_k: Optional[int]\n",
            "  - scale_score: Optional[bool]\n",
            "  - calibration_factor: Optional[float]\n",
            "  - score_threshold: Optional[float]\n",
            "Outputs:\n",
            "  - documents: List[Document])\n",
            "DEBUG:haystack.core.pipeline.base:Adding component 'prompt_builder' (<haystack.components.builders.chat_prompt_builder.ChatPromptBuilder object at 0x7a8c2981d150>\n",
            "\n",
            "Inputs:\n",
            "  - query: Any\n",
            "  - documents: Any\n",
            "  - template: Optional[List[ChatMessage]]\n",
            "  - template_variables: Optional[Dict[str, Any]]\n",
            "Outputs:\n",
            "  - prompt: List[ChatMessage])\n",
            "DEBUG:haystack.core.pipeline.base:Adding component 'generator' (<haystack.components.generators.chat.openai.OpenAIChatGenerator object at 0x7a8c2981d5d0>\n",
            "\n",
            "Inputs:\n",
            "  - messages: List[ChatMessage]\n",
            "  - streaming_callback: Optional[Callable[]]\n",
            "  - generation_kwargs: Optional[Dict[str, Any]]\n",
            "Outputs:\n",
            "  - replies: List[ChatMessage])\n",
            "DEBUG:haystack.core.pipeline.base:Connecting 'fetcher.streams' to 'converter.sources'\n",
            "DEBUG:haystack.core.pipeline.base:Connecting 'converter.documents' to 'splitter.documents'\n",
            "DEBUG:haystack.core.pipeline.base:Connecting 'splitter.documents' to 'ranker.documents'\n",
            "DEBUG:haystack.core.pipeline.base:Connecting 'ranker.documents' to 'prompt_builder.documents'\n",
            "DEBUG:haystack.core.pipeline.base:Connecting 'prompt_builder.prompt' to 'generator.messages'\n"
          ]
        },
        {
          "output_type": "execute_result",
          "data": {
            "text/plain": [
              "<haystack.core.pipeline.pipeline.Pipeline object at 0x7a8c29801180>\n",
              "🚅 Components\n",
              "  - fetcher: LinkContentFetcher\n",
              "  - converter: HTMLToDocument\n",
              "  - splitter: DocumentSplitter\n",
              "  - ranker: TransformersSimilarityRanker\n",
              "  - prompt_builder: ChatPromptBuilder\n",
              "  - generator: OpenAIChatGenerator\n",
              "🛤️ Connections\n",
              "  - fetcher.streams -> converter.sources (List[ByteStream])\n",
              "  - converter.documents -> splitter.documents (List[Document])\n",
              "  - splitter.documents -> ranker.documents (List[Document])\n",
              "  - ranker.documents -> prompt_builder.documents (List[Document])\n",
              "  - prompt_builder.prompt -> generator.messages (List[ChatMessage])"
            ]
          },
          "metadata": {},
          "execution_count": 12
        }
      ]
    },
    {
      "cell_type": "code",
      "source": [
        "urls = [\"https://haystack.deepset.ai/blog/extracting-metadata-filter\",\n",
        "        \"https://haystack.deepset.ai/blog/query-expansion\",\n",
        "        \"https://haystack.deepset.ai/blog/query-decomposition\",\n",
        "        \"https://haystack.deepset.ai/cookbook/metadata_enrichment\"]\n",
        "\n",
        "## Example queries you can try\n",
        "query = \"What is the difference between metadata filtering and metadata enrichment?\"\n",
        "# query = \"Which methods can I use to transform query for better retrieval?\"\n",
        "# query = \"How can I use metadata to improve retrieval?\"\n",
        "# query = \"What's preprocessing?\" # Test if your system hallucinates\n",
        "\n",
        "## Run the pipeline\n",
        "result = pipeline.run(data={\"fetcher\": {\"urls\": urls}, \"prompt_builder\": {\"query\": query}, \"ranker\":{\"query\": query}}, include_outputs_from={\"ranker\"})"
      ],
      "metadata": {
        "id": "RwIVIdmWn63X",
        "colab": {
          "base_uri": "https://localhost:8080/"
        },
        "outputId": "522287dd-e8c1-499e-bae1-a1819a2771d6"
      },
      "execution_count": null,
      "outputs": [
        {
          "output_type": "stream",
          "name": "stderr",
          "text": [
            "INFO:haystack.core.pipeline.base:Warming up component ranker...\n",
            "INFO:haystack.core.pipeline.pipeline:Running component fetcher\n",
            "INFO:haystack.core.pipeline.pipeline:Running component converter\n",
            "INFO:haystack.core.pipeline.pipeline:Running component splitter\n",
            "INFO:haystack.core.pipeline.pipeline:Running component ranker\n",
            "INFO:haystack.core.pipeline.pipeline:Running component prompt_builder\n",
            "INFO:haystack.core.pipeline.pipeline:Running component generator\n"
          ]
        }
      ]
    },
    {
      "cell_type": "code",
      "source": [
        "print(result['generator']['replies'][0].text)"
      ],
      "metadata": {
        "id": "QOH4mooun-Kl",
        "colab": {
          "base_uri": "https://localhost:8080/"
        },
        "outputId": "fa951c44-1e89-4777-fbe3-eee7cd508099"
      },
      "execution_count": null,
      "outputs": [
        {
          "output_type": "stream",
          "name": "stdout",
          "text": [
            "Metadata filtering and metadata enrichment are two different strategies used in information retrieval systems to enhance the relevance, accuracy, and efficiency of search results.\n",
            "\n",
            "Metadata filtering involves applying filters to narrow down the search space based on specific metadata which can either directly be applied or extracted from queries. These filters can be based on various attributes such as date, topic, source, etc. This ensures that the information retrieved is more relevant and accurate in relation to a specific query or topic.\n",
            "\n",
            "On the other hand, metadata enrichment refers to the process of adding additional metadata to the documents to enhance their description. This includes defining your custom metadata fields and data types each field should have. Once populated, this enriched metadata can also be used for metadata filtering during the retrieval step of pipelines.\n",
            "\n",
            "Sources: \n",
            "- [Metadata Filtering](https://haystack.deepset.ai/blog/extracting-metadata-filter)\n",
            "- [Metadata Enrichment](https://haystack.deepset.ai/cookbook/metadata_enrichment)\n"
          ]
        }
      ]
    }
  ]
}